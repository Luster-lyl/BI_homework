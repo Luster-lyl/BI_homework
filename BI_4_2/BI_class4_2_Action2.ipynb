{
 "cells": [
  {
   "cell_type": "code",
   "execution_count": 7,
   "metadata": {
    "colab": {},
    "colab_type": "code",
    "id": "qd_Rj4ctHrVL"
   },
   "outputs": [],
   "source": [
    "# 使用Google Colab编辑器，对MovieLens数据集进行评分预测，计算RMSE（使用funkSVD, BiasSVD，SVD++）"
   ]
  },
  {
   "cell_type": "code",
   "execution_count": 8,
   "metadata": {
    "colab": {},
    "colab_type": "code",
    "id": "oQKcRwd8HrVQ"
   },
   "outputs": [],
   "source": [
    "import pandas as pd\n",
    "from surprise import Reader\n",
    "from surprise import Dataset\n",
    "from surprise import accuracy\n",
    "from surprise.prediction_algorithms import SVD, SVDpp \n",
    "from surprise.model_selection import KFold, cross_validate"
   ]
  },
  {
   "cell_type": "code",
   "execution_count": 9,
   "metadata": {
    "colab": {},
    "colab_type": "code",
    "id": "evf0KksIHrVU"
   },
   "outputs": [],
   "source": [
    "df = pd.read_csv('F:/BI/第四周/名企班/L4/MovieLens/ratings.csv')"
   ]
  },
  {
   "cell_type": "code",
   "execution_count": 11,
   "metadata": {
    "colab": {},
    "colab_type": "code",
    "id": "1-j8u27aHrVd"
   },
   "outputs": [],
   "source": [
    "reader = Reader(line_format=\"user item rating timestamp\",\n",
    "               sep=',',\n",
    "               skip_lines=1)"
   ]
  },
  {
   "cell_type": "code",
   "execution_count": 13,
   "metadata": {
    "colab": {},
    "colab_type": "code",
    "id": "1bSRxSOPHrVg"
   },
   "outputs": [],
   "source": [
    "#加载数据\n",
    "data = Dataset.load_from_file('F:/BI/第四周/名企班/L4/MovieLens/ratings.csv', reader=reader)"
   ]
  },
  {
   "cell_type": "code",
   "execution_count": 14,
   "metadata": {
    "colab": {
     "base_uri": "https://localhost:8080/",
     "height": 34
    },
    "colab_type": "code",
    "id": "bVmO1AU3HrVi",
    "outputId": "3d347d2d-c4aa-4cef-caa6-2e8fa29b415c"
   },
   "outputs": [
    {
     "data": {
      "text/plain": [
       "surprise.dataset.DatasetAutoFolds"
      ]
     },
     "execution_count": 14,
     "metadata": {},
     "output_type": "execute_result"
    }
   ],
   "source": [
    "type(data)"
   ]
  },
  {
   "cell_type": "code",
   "execution_count": 15,
   "metadata": {
    "colab": {},
    "colab_type": "code",
    "id": "5y00qTz6HrVl"
   },
   "outputs": [],
   "source": [
    "train_set = data.build_full_trainset()"
   ]
  },
  {
   "cell_type": "code",
   "execution_count": 16,
   "metadata": {
    "colab": {
     "base_uri": "https://localhost:8080/",
     "height": 34
    },
    "colab_type": "code",
    "id": "XrCEg8KcHrVn",
    "outputId": "7f483dc8-0bf2-4388-c1b1-b17c72170b82"
   },
   "outputs": [
    {
     "data": {
      "text/plain": [
       "surprise.trainset.Trainset"
      ]
     },
     "execution_count": 16,
     "metadata": {},
     "output_type": "execute_result"
    }
   ],
   "source": [
    "type(train_set)"
   ]
  },
  {
   "cell_type": "code",
   "execution_count": 47,
   "metadata": {},
   "outputs": [],
   "source": [
    "# 1、funkSVD算法"
   ]
  },
  {
   "cell_type": "code",
   "execution_count": 48,
   "metadata": {
    "colab": {},
    "colab_type": "code",
    "id": "tk51snP5HrWH"
   },
   "outputs": [],
   "source": [
    "# biased=False代表使用funkSVD算法\n",
    "model = SVD(biased=False)"
   ]
  },
  {
   "cell_type": "code",
   "execution_count": 49,
   "metadata": {
    "colab": {},
    "colab_type": "code",
    "id": "O2rEn7oTHrWL"
   },
   "outputs": [],
   "source": [
    "# 定义K折交叉验证迭代器，K=3\n",
    "kf = KFold(n_splits=3)"
   ]
  },
  {
   "cell_type": "code",
   "execution_count": 50,
   "metadata": {
    "colab": {
     "base_uri": "https://localhost:8080/",
     "height": 102
    },
    "colab_type": "code",
    "id": "4l3_GEzdHrWN",
    "outputId": "fcd5ab96-e40d-4a49-d7d8-ae9b2b3f3686"
   },
   "outputs": [
    {
     "name": "stdout",
     "output_type": "stream",
     "text": [
      "RMSE: 0.8721\n",
      "RMSE: 0.8728\n",
      "RMSE: 0.8730\n",
      "Wall time: 2min 18s\n"
     ]
    }
   ],
   "source": [
    "%%time\n",
    "for trainset, testset in kf.split(data):\n",
    "    # 在训练集上训练\n",
    "    model.fit(trainset)\n",
    "    # 为测试集生成预测\n",
    "    predictions = model.test(testset)\n",
    "    # 计算RNSE\n",
    "    accuracy.rmse(predictions, \n",
    "                  verbose=True) "
   ]
  },
  {
   "cell_type": "code",
   "execution_count": 31,
   "metadata": {
    "colab": {
     "base_uri": "https://localhost:8080/",
     "height": 34
    },
    "colab_type": "code",
    "id": "8WO88h82HrWQ",
    "outputId": "d6d69825-c129-4e3b-b084-393459dbfc84"
   },
   "outputs": [
    {
     "data": {
      "text/plain": [
       "True"
      ]
     },
     "execution_count": 31,
     "metadata": {},
     "output_type": "execute_result"
    }
   ],
   "source": [
    "trainset.knows_user(0)"
   ]
  },
  {
   "cell_type": "code",
   "execution_count": 32,
   "metadata": {
    "colab": {
     "base_uri": "https://localhost:8080/",
     "height": 88
    },
    "colab_type": "code",
    "id": "ux03h2G-HrWT",
    "outputId": "226d4efc-5ba1-4d07-a6f5-5668ac74b6c8"
   },
   "outputs": [
    {
     "name": "stdout",
     "output_type": "stream",
     "text": [
      "user: 0          item: 1          r_ui = 3.50   est = 3.53   {'was_impossible': True, 'reason': 'User and item are unknown.'}\n",
      "Wall time: 0 ns\n"
     ]
    }
   ],
   "source": [
    "%%time\n",
    "pred = model.predict(uid='0', iid='1', r_ui=3.5, verbose=True)"
   ]
  },
  {
   "cell_type": "code",
   "execution_count": 33,
   "metadata": {
    "colab": {
     "base_uri": "https://localhost:8080/",
     "height": 68
    },
    "colab_type": "code",
    "id": "0Oci8TgmHrWV",
    "outputId": "fbc69e5f-6037-46d1-8310-4ad31b9cdab4"
   },
   "outputs": [
    {
     "name": "stdout",
     "output_type": "stream",
     "text": [
      "user: 1          item: 2          r_ui = 3.50   est = 3.61   {'was_impossible': False}\n",
      "Wall time: 0 ns\n"
     ]
    }
   ],
   "source": [
    "%%time\n",
    "pred = model.predict(uid='1', iid='2', r_ui=3.5, verbose=True)"
   ]
  },
  {
   "cell_type": "code",
   "execution_count": null,
   "metadata": {},
   "outputs": [],
   "source": [
    "#2、BiasSVD算法"
   ]
  },
  {
   "cell_type": "code",
   "execution_count": 34,
   "metadata": {
    "colab": {
     "base_uri": "https://localhost:8080/",
     "height": 34
    },
    "colab_type": "code",
    "id": "Vzb943Z6HrWX",
    "outputId": "7bdf21c1-3337-4697-8ac2-fd3b34606653"
   },
   "outputs": [
    {
     "data": {
      "text/plain": [
       "<surprise.prediction_algorithms.matrix_factorization.SVD at 0x1c72a6d4248>"
      ]
     },
     "execution_count": 34,
     "metadata": {},
     "output_type": "execute_result"
    }
   ],
   "source": [
    "# biased=True代表使用BiasSVD算法,默认值为True\n",
    "biassvd = SVD(biased=True)\n",
    "biassvd"
   ]
  },
  {
   "cell_type": "code",
   "execution_count": 35,
   "metadata": {
    "colab": {},
    "colab_type": "code",
    "id": "__SwPsgSHrWa"
   },
   "outputs": [],
   "source": [
    "# 3折交叉验证\n",
    "kf = KFold(n_splits=3)"
   ]
  },
  {
   "cell_type": "code",
   "execution_count": 36,
   "metadata": {
    "colab": {
     "base_uri": "https://localhost:8080/",
     "height": 102
    },
    "colab_type": "code",
    "id": "XJehxQjzHrWb",
    "outputId": "a83b1184-13ac-4944-9dc4-d152500e39ec"
   },
   "outputs": [
    {
     "name": "stdout",
     "output_type": "stream",
     "text": [
      "RMSE: 0.8442\n",
      "RMSE: 0.8462\n",
      "RMSE: 0.8459\n",
      "Wall time: 2min 29s\n"
     ]
    }
   ],
   "source": [
    "%%time\n",
    "for trainset, testset in kf.split(data):\n",
    "    # 在训练集上训练\n",
    "    biassvd.fit(trainset)\n",
    "    # 给测试集生成预测\n",
    "    predictions = biassvd.test(testset)\n",
    "    # 计算RMSE\n",
    "    accuracy.rmse(predictions, verbose=True)"
   ]
  },
  {
   "cell_type": "code",
   "execution_count": 37,
   "metadata": {
    "colab": {
     "base_uri": "https://localhost:8080/",
     "height": 34
    },
    "colab_type": "code",
    "id": "9SZsll1nHrWe",
    "outputId": "55185ce9-c92f-442c-d377-1c5112babdaf"
   },
   "outputs": [
    {
     "name": "stdout",
     "output_type": "stream",
     "text": [
      "user: 1          item: 2          r_ui = 3.50   est = 3.53   {'was_impossible': False}\n"
     ]
    }
   ],
   "source": [
    "pred = biassvd.predict(uid=1, iid=2, r_ui=3.5, verbose=True)"
   ]
  },
  {
   "cell_type": "code",
   "execution_count": 38,
   "metadata": {
    "colab": {
     "base_uri": "https://localhost:8080/",
     "height": 51
    },
    "colab_type": "code",
    "id": "dWmEEDREZUgW",
    "outputId": "ba821af3-e4d1-4661-d60d-edd0fa021cac"
   },
   "outputs": [
    {
     "name": "stdout",
     "output_type": "stream",
     "text": [
      "user: 1          item: 2          r_ui = 3.50   est = 3.55   {'was_impossible': False}\n"
     ]
    },
    {
     "data": {
      "text/plain": [
       "Prediction(uid='1', iid='2', r_ui=3.5, est=3.5534822447172356, details={'was_impossible': False})"
      ]
     },
     "execution_count": 38,
     "metadata": {},
     "output_type": "execute_result"
    }
   ],
   "source": [
    "biassvd.predict(uid='1', iid='2', r_ui=3.5, verbose=True)"
   ]
  }
 ],
 "metadata": {
  "accelerator": "GPU",
  "colab": {
   "name": "MQ_BI04_lesson04_Action02_MovielensSVD_1.ipynb",
   "provenance": []
  },
  "kernelspec": {
   "display_name": "Python 3",
   "language": "python",
   "name": "python3"
  },
  "language_info": {
   "codemirror_mode": {
    "name": "ipython",
    "version": 3
   },
   "file_extension": ".py",
   "mimetype": "text/x-python",
   "name": "python",
   "nbconvert_exporter": "python",
   "pygments_lexer": "ipython3",
   "version": "3.7.4"
  },
  "toc": {
   "base_numbering": 1,
   "nav_menu": {},
   "number_sections": true,
   "sideBar": true,
   "skip_h1_title": false,
   "title_cell": "Table of Contents",
   "title_sidebar": "Contents",
   "toc_cell": false,
   "toc_position": {
    "height": "calc(100% - 180px)",
    "left": "10px",
    "top": "150px",
    "width": "192.391px"
   },
   "toc_section_display": true,
   "toc_window_display": true
  }
 },
 "nbformat": 4,
 "nbformat_minor": 1
}
