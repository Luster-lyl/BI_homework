{
 "cells": [
  {
   "cell_type": "code",
   "execution_count": 1,
   "metadata": {},
   "outputs": [],
   "source": [
    "# 针对Delicious数据集，对SimpleTagBased算法进行改进（使用NormTagBased、TagBased-TFIDF算法）"
   ]
  },
  {
   "cell_type": "code",
   "execution_count": 2,
   "metadata": {},
   "outputs": [],
   "source": [
    "import math\n",
    "import random\n",
    "import operator\n",
    "import pandas as pd\n",
    "from collections import defaultdict\n",
    "import numpy as np"
   ]
  },
  {
   "cell_type": "code",
   "execution_count": 3,
   "metadata": {},
   "outputs": [],
   "source": [
    "# 加载数据集\n",
    "df = pd.read_csv('F:/BI/第三周/名企班/code/delicious-2k/user_taggedbookmarks-timestamps.dat', sep='\\t')"
   ]
  },
  {
   "cell_type": "code",
   "execution_count": 34,
   "metadata": {},
   "outputs": [],
   "source": [
    "# 字典类型，保存user对item的tag，即:{userid: {item1:[tag1, tag2], ...}}\n",
    "records = {}\n",
    "\n",
    "# 训练集，测试集\n",
    "train_data = dict()\n",
    "test_data = dict()\n",
    "\n",
    "# {用户u:{标签t:用户u使用过标签t的次数}}\n",
    "user_tags = dict()\n",
    "\n",
    "# {标签t:{商品i:标签t打在商品i上的次数}}\n",
    "tag_items = dict()\n",
    "\n",
    "# {用户u:{商品i:用户u使用商品i的次数}}\n",
    "user_items = dict()\n",
    "\n",
    "# {标签t: {用户u: 标签t被用户u使用的次数}}\n",
    "tag_users = {}\n",
    "\n",
    "# {商品i: {用户u: 商品i被用户u打过标签的次数}}\n",
    "item_users = {}\n",
    "\n",
    "# {商品i: {标签t: 商品i被打过标签t的次数}}\n",
    "item_tags = {}"
   ]
  },
  {
   "cell_type": "code",
   "execution_count": 36,
   "metadata": {},
   "outputs": [
    {
     "name": "stdout",
     "output_type": "stream",
     "text": [
      "Wall time: 14.7 s\n"
     ]
    }
   ],
   "source": [
    "%%time\n",
    "for i in range(df.shape[0]):\n",
    "    uid = df['userID'][i]\n",
    "    iid = df['bookmarkID'][i]\n",
    "    tag = df['tagID'][i]\n",
    "    # 键不存在时，新增键，且设置value为{}\n",
    "    records.setdefault(uid,{})\n",
    "    records[uid].setdefault(iid,[])\n",
    "    records[uid][iid].append(tag)"
   ]
  },
  {
   "cell_type": "code",
   "execution_count": 37,
   "metadata": {},
   "outputs": [
    {
     "name": "stdout",
     "output_type": "stream",
     "text": [
      "数据集大小为 437593.\n",
      "设置tag的人数 1867.\n"
     ]
    }
   ],
   "source": [
    "print(\"数据集大小为 %d.\" % (len(df)))\n",
    "print(\"设置tag的人数 %d.\" % (len(records)))"
   ]
  },
  {
   "cell_type": "code",
   "execution_count": 38,
   "metadata": {},
   "outputs": [],
   "source": [
    "# 数据集抽取作训练"
   ]
  },
  {
   "cell_type": "code",
   "execution_count": 40,
   "metadata": {},
   "outputs": [],
   "source": [
    "# 将数据集拆分为训练集和测试集\n",
    "def train_test_split(ratio, seed=100):\n",
    "    random.seed(seed)\n",
    "    m, n = 0, 0\n",
    "    # u 是每个用户id\n",
    "    for u in records.keys():\n",
    "    \t# i 是每个用户收藏的书签ID\n",
    "        for i in records[u].keys():\n",
    "            # ratio比例设置为测试集\n",
    "            if random.random() < ratio:\n",
    "                test_data.setdefault(u, {})\n",
    "                test_data[u].setdefault(i, [])\n",
    "                # t 是每个书签被打的标签id\n",
    "                for t in records[u][i]:\n",
    "                    test_data[u][i].append(t)\n",
    "                    n += 1\n",
    "            else:\n",
    "                train_data.setdefault(u, {})\n",
    "                train_data[u].setdefault(i, [])\n",
    "                for t in records[u][i]:\n",
    "                    train_data[u][i].append(t)  \n",
    "                    m += 1      \n",
    "    print(\"训练集样本数 %d, 测试集样本数 %d\" % (len(train_data), len(test_data)))\n",
    "    print(\"测试集总标签数:%d\" % n)\n",
    "    print(\"训练集总标签数:%d\" % m)\n",
    "    print(\"测试集总标签数占总样本的{:.2f}%\".format(n / (m + n) * 100))"
   ]
  },
  {
   "cell_type": "code",
   "execution_count": 41,
   "metadata": {},
   "outputs": [
    {
     "name": "stdout",
     "output_type": "stream",
     "text": [
      "训练集样本数 1860, 测试集样本数 1793\n",
      "测试集总标签数:173544\n",
      "训练集总标签数:701642\n",
      "测试集总标签数占总样本的19.83%\n",
      "Wall time: 314 ms\n"
     ]
    }
   ],
   "source": [
    "%%time\n",
    "train_test_split(ratio=0.2)"
   ]
  },
  {
   "cell_type": "code",
   "execution_count": 42,
   "metadata": {},
   "outputs": [],
   "source": [
    "# 初始化字典"
   ]
  },
  {
   "cell_type": "code",
   "execution_count": 44,
   "metadata": {},
   "outputs": [],
   "source": [
    "# 设置字典 mat{index: {item: 1}\n",
    "def addValueToMat(mat, index, item, value=1):\n",
    "    # 假如index在mat字典中不存在，则新建该键\n",
    "    if index not in mat:\n",
    "        mat.setdefault(index,{})\n",
    "        mat[index].setdefault(item, value)\n",
    "    else:\n",
    "        if item not in mat[index]:\n",
    "            mat[index][item] = value\n",
    "        else:\n",
    "            mat[index][item] += value\n",
    "\n",
    "\n",
    "# 使用训练集，初始化user_tags, tag_items, user_items\n",
    "def initStat():\n",
    "    records=train_data\n",
    "    # u是用户id, items是书签id的字典\n",
    "    for u, items in records.items():\n",
    "    \t# i是书签id，tags是标签的列表\n",
    "        for i, tags in items.items():\n",
    "        \t# tag是标签id\n",
    "            for tag in tags:\n",
    "                # 用户和tag的关系\n",
    "                addValueToMat(user_tags, u, tag, 1)\n",
    "                # tag和item的关系\n",
    "                addValueToMat(tag_items, tag, i, 1)\n",
    "                # 用户和item的关系\n",
    "                addValueToMat(user_items, u, i, 1)\n",
    "                # tag和用户的关系\n",
    "                addValueToMat(tag_users, tag, u, 1)\n",
    "                # item和用户的关系\n",
    "                addValueToMat(item_users, i, u, 1)\n",
    "                # item和tag关系\n",
    "                addValueToMat(item_tags, i, tag, 1)\n",
    "    print(\"user_tags, tag_items, user_items初始化完成.\")\n",
    "    print(\"len(user_tags): %d, len(tag_items): %d, len(user_items): %d\" % \\\n",
    "          (len(user_tags), len(tag_items), len(user_items)))\n",
    "    print(\"len(tag_users):\", len(tag_users))\n",
    "    print(\"len(item_users)\", len(item_users))"
   ]
  },
  {
   "cell_type": "code",
   "execution_count": 45,
   "metadata": {},
   "outputs": [
    {
     "name": "stdout",
     "output_type": "stream",
     "text": [
      "user_tags, tag_items, user_items初始化完成.\n",
      "len(user_tags): 1860, len(tag_items): 36884, len(user_items): 1860\n",
      "len(tag_users): 36884\n",
      "len(item_users) 59555\n",
      "Wall time: 2.4 s\n"
     ]
    }
   ],
   "source": [
    "%%time \n",
    "initStat()"
   ]
  },
  {
   "cell_type": "code",
   "execution_count": 46,
   "metadata": {},
   "outputs": [],
   "source": [
    "# 算法实现\n",
    "# 1、NormTagBased算法"
   ]
  },
  {
   "cell_type": "code",
   "execution_count": 47,
   "metadata": {},
   "outputs": [],
   "source": [
    "def recommend_by_norm(user, N):\n",
    "    # 先找到用户打过标签的商品{item:[tag...]}\n",
    "    tagged_items = user_items[user]\n",
    "    # 创建推荐字典，存储推荐商品和兴趣分\n",
    "    recommend_items = defaultdict(int)\n",
    "    # 用户u用过的标签t, 以及他使用标签t的次数wut\n",
    "    for t, wut in user_tags[user].items():\n",
    "        # 被打过标签t的商品i，以及商品i被打上标签t的次数wti\n",
    "        for i, wti in tag_items[t].items():\n",
    "            # 目的是推荐用户没打过标签的，但又符合他兴趣的商品\n",
    "            # 因此遇到用户已打过标签的商品就跳过\n",
    "            if i in tagged_items:\n",
    "                continue\n",
    "            recommend_items[i] += (wut / len(user_tags[user])) * (wti / len(tag_users[t]))\n",
    "    return sorted(recommend_items.items(), \n",
    "                 key=operator.itemgetter(1),\n",
    "                 reverse=True)[0:N]"
   ]
  },
  {
   "cell_type": "code",
   "execution_count": 48,
   "metadata": {
    "scrolled": true
   },
   "outputs": [
    {
     "name": "stdout",
     "output_type": "stream",
     "text": [
      "Wall time: 28 ms\n"
     ]
    },
    {
     "data": {
      "text/plain": [
       "[(23702, 0.043225773872645555),\n",
       " (66188, 0.043179118967625364),\n",
       " (28750, 0.04191389791961279)]"
      ]
     },
     "execution_count": 48,
     "metadata": {},
     "output_type": "execute_result"
    }
   ],
   "source": [
    "%%time\n",
    "recommend_by_norm(8, 3)"
   ]
  },
  {
   "cell_type": "code",
   "execution_count": 49,
   "metadata": {},
   "outputs": [],
   "source": [
    "# 使用测试集，计算精确率和召回率\n",
    "def precisionAndRecall(N):\n",
    "    hit = 0\n",
    "    h_recall = 0\n",
    "    h_precision = 0\n",
    "    # user用户，items是字典{书签ids: tag列表}\n",
    "    for user, items in test_data.items():\n",
    "        if user not in train_data:\n",
    "            continue\n",
    "        # 获取Top-N推荐列表\n",
    "        rank = recommend_by_norm_1(user, N)\n",
    "        # item商品(书签ID)，rui是兴趣分\n",
    "        for item, rui in rank:\n",
    "            # 如果推荐的商品在该用户的书签字典中，说明推荐对了，则hit+1\n",
    "            if item in items:\n",
    "                hit = hit + 1\n",
    "        # len(items) 实际打过标签的物品数\n",
    "        h_recall += len(items)\n",
    "        h_precision += N\n",
    "    # 返回精确率、召回率\n",
    "    prec = hit / (h_precision * 1.0)\n",
    "    rec = hit / (h_recall * 1.0)\n",
    "    return prec, rec"
   ]
  },
  {
   "cell_type": "code",
   "execution_count": 50,
   "metadata": {},
   "outputs": [
    {
     "name": "stdout",
     "output_type": "stream",
     "text": [
      "NormTagBased\n",
      "推荐结果评估\n",
      "  N        精确率        召回率\n",
      "  5       0.907%       0.388%\n",
      " 10       0.638%       0.546%\n",
      " 20       0.507%       0.868%\n",
      " 40       0.356%       1.218%\n",
      " 60       0.287%       1.476%\n",
      " 80       0.255%       1.750%\n",
      "100       0.241%       2.061%\n",
      "Wall time: 6min 20s\n"
     ]
    }
   ],
   "source": [
    "%%time \n",
    "print(\"NormTagBased\")\n",
    "testRecommend()"
   ]
  },
  {
   "cell_type": "code",
   "execution_count": 52,
   "metadata": {},
   "outputs": [],
   "source": [
    "# 2、TagBased-TFIDF算法"
   ]
  },
  {
   "cell_type": "code",
   "execution_count": 53,
   "metadata": {},
   "outputs": [],
   "source": [
    "def recommend_by_tfidf(user, N):\n",
    "    tagged_items = user_items[user]\n",
    "    recommend_items = defaultdict(int)\n",
    "    for t, wut in user_tags[user].items():\n",
    "        for i, wti in tag_items[t].items():\n",
    "            if i in tagged_items:\n",
    "                continue\n",
    "            recommend_items[i] += (wut / np.log10(1 + len(tag_users[t]))) * wti\n",
    "    return sorted(recommend_items.items(),\n",
    "                 key=operator.itemgetter(1),\n",
    "                 reverse=True)[:N]"
   ]
  },
  {
   "cell_type": "code",
   "execution_count": 54,
   "metadata": {
    "scrolled": true
   },
   "outputs": [
    {
     "name": "stdout",
     "output_type": "stream",
     "text": [
      "Wall time: 71 ms\n"
     ]
    },
    {
     "data": {
      "text/plain": [
       "[(1416, 113.06884912889319),\n",
       " (1526, 98.41355946187662),\n",
       " (4639, 90.13454458701486)]"
      ]
     },
     "execution_count": 54,
     "metadata": {},
     "output_type": "execute_result"
    }
   ],
   "source": [
    "%%time\n",
    "recommend_by_tfidf(8, 3) "
   ]
  },
  {
   "cell_type": "code",
   "execution_count": 55,
   "metadata": {},
   "outputs": [],
   "source": [
    "# 使用测试集，计算精确率和召回率\n",
    "def precisionAndRecall(N):\n",
    "    hit = 0\n",
    "    h_recall = 0\n",
    "    h_precision = 0\n",
    "    # user用户，items是字典{书签ids: tag列表}\n",
    "    for user, items in test_data.items():\n",
    "        if user not in train_data:\n",
    "            continue\n",
    "        # 获取Top-N推荐列表\n",
    "        rank = recommend_by_tfidf(user, N)\n",
    "        # item商品(书签ID)，rui是兴趣分\n",
    "        for item, rui in rank:\n",
    "            # 如果推荐的商品在该用户的书签字典中，说明推荐对了，则hit+1\n",
    "            if item in items:\n",
    "                hit = hit + 1\n",
    "        # len(items) 实际打过标签的物品数\n",
    "        h_recall += len(items)\n",
    "        h_precision += N\n",
    "    # 返回精确率 和 召回率\n",
    "    prec = hit / (h_precision * 1.0)\n",
    "    rec = hit / (h_recall * 1.0)\n",
    "    return prec, rec"
   ]
  },
  {
   "cell_type": "code",
   "execution_count": 56,
   "metadata": {
    "scrolled": true
   },
   "outputs": [
    {
     "name": "stdout",
     "output_type": "stream",
     "text": [
      "TagBased-TFIDF算法:\n",
      "推荐结果评估\n",
      "  N        精确率        召回率\n",
      "  5       1.008%       0.431%\n",
      " 10       0.761%       0.652%\n",
      " 20       0.549%       0.940%\n",
      " 40       0.402%       1.376%\n",
      " 60       0.328%       1.687%\n",
      " 80       0.297%       2.033%\n",
      "100       0.269%       2.306%\n",
      "Wall time: 19min 37s\n"
     ]
    }
   ],
   "source": [
    "%%time\n",
    "print(\"TagBased-TFIDF算法:\")\n",
    "testRecommend()"
   ]
  }
 ],
 "metadata": {
  "kernelspec": {
   "display_name": "Python 3",
   "language": "python",
   "name": "python3"
  },
  "language_info": {
   "codemirror_mode": {
    "name": "ipython",
    "version": 3
   },
   "file_extension": ".py",
   "mimetype": "text/x-python",
   "name": "python",
   "nbconvert_exporter": "python",
   "pygments_lexer": "ipython3",
   "version": "3.7.4"
  },
  "toc": {
   "base_numbering": 1,
   "nav_menu": {},
   "number_sections": false,
   "sideBar": true,
   "skip_h1_title": false,
   "title_cell": "Table of Contents",
   "title_sidebar": "Contents",
   "toc_cell": false,
   "toc_position": {
    "height": "calc(100% - 180px)",
    "left": "10px",
    "top": "150px",
    "width": "288px"
   },
   "toc_section_display": true,
   "toc_window_display": true
  }
 },
 "nbformat": 4,
 "nbformat_minor": 4
}
