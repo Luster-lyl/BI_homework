{
 "cells": [
  {
   "cell_type": "code",
   "execution_count": 11,
   "metadata": {},
   "outputs": [],
   "source": [
    "# Action2：汽车投诉信息采集\n",
    "# 数据源：http://www.12365auto.com/zlts/0-0-0-0-0-0_0-0-1.shtml\n",
    "# 投诉编号，投诉品牌，投诉车系，投诉车型，问题简述，典型问题，投诉时间，投诉状态\n",
    "# 可以采用Python爬虫，或者第三方可视化工具"
   ]
  },
  {
   "cell_type": "code",
   "execution_count": 20,
   "metadata": {},
   "outputs": [],
   "source": [
    "import requests\n",
    "from fake_useragent import UserAgent\n",
    "from lxml import etree\n",
    "import pandas as pd"
   ]
  },
  {
   "cell_type": "code",
   "execution_count": 22,
   "metadata": {},
   "outputs": [],
   "source": [
    "# ua对象用于后面生成随机user-agent\n",
    "ua = UserAgent()\n",
    "ua_random = ua.random\n",
    "headers = {\"User-Agent\": ua_random} "
   ]
  },
  {
   "cell_type": "code",
   "execution_count": 23,
   "metadata": {},
   "outputs": [
    {
     "name": "stdout",
     "output_type": "stream",
     "text": [
      "['http://www.12365auto.com/zlts/0-0-0-0-0-0_0-0-1.shtml', 'http://www.12365auto.com/zlts/0-0-0-0-0-0_0-0-2.shtml', 'http://www.12365auto.com/zlts/0-0-0-0-0-0_0-0-3.shtml', 'http://www.12365auto.com/zlts/0-0-0-0-0-0_0-0-4.shtml', 'http://www.12365auto.com/zlts/0-0-0-0-0-0_0-0-5.shtml', 'http://www.12365auto.com/zlts/0-0-0-0-0-0_0-0-6.shtml', 'http://www.12365auto.com/zlts/0-0-0-0-0-0_0-0-7.shtml', 'http://www.12365auto.com/zlts/0-0-0-0-0-0_0-0-8.shtml', 'http://www.12365auto.com/zlts/0-0-0-0-0-0_0-0-9.shtml', 'http://www.12365auto.com/zlts/0-0-0-0-0-0_0-0-10.shtml', 'http://www.12365auto.com/zlts/0-0-0-0-0-0_0-0-11.shtml', 'http://www.12365auto.com/zlts/0-0-0-0-0-0_0-0-12.shtml', 'http://www.12365auto.com/zlts/0-0-0-0-0-0_0-0-13.shtml', 'http://www.12365auto.com/zlts/0-0-0-0-0-0_0-0-14.shtml', 'http://www.12365auto.com/zlts/0-0-0-0-0-0_0-0-15.shtml', 'http://www.12365auto.com/zlts/0-0-0-0-0-0_0-0-16.shtml', 'http://www.12365auto.com/zlts/0-0-0-0-0-0_0-0-17.shtml', 'http://www.12365auto.com/zlts/0-0-0-0-0-0_0-0-18.shtml', 'http://www.12365auto.com/zlts/0-0-0-0-0-0_0-0-19.shtml', 'http://www.12365auto.com/zlts/0-0-0-0-0-0_0-0-20.shtml']\n"
     ]
    }
   ],
   "source": [
    "# 设置基础url模板\n",
    "url_base='http://www.12365auto.com/zlts/0-0-0-0-0-0_0-0-%d.shtml'\n",
    "url_list = [url_base % (i+1) for i in range(20)] \n",
    "print(url_list)"
   ]
  },
  {
   "cell_type": "code",
   "execution_count": 25,
   "metadata": {},
   "outputs": [
    {
     "name": "stdout",
     "output_type": "stream",
     "text": [
      "数据1已插入\n",
      "数据2已插入\n",
      "数据3已插入\n",
      "数据4已插入\n",
      "数据5已插入\n",
      "数据6已插入\n",
      "数据7已插入\n",
      "数据8已插入\n",
      "数据9已插入\n",
      "数据10已插入\n",
      "数据11已插入\n",
      "数据12已插入\n",
      "数据13已插入\n",
      "数据14已插入\n",
      "数据15已插入\n",
      "数据16已插入\n",
      "数据17已插入\n",
      "数据18已插入\n",
      "数据19已插入\n",
      "数据20已插入\n"
     ]
    }
   ],
   "source": [
    "# 数据爬取、存贮\n",
    "result={}\n",
    "df={}\n",
    "result = pd.DataFrame(columns = ['id', 'brand', 'car_model', 'type', 'desc', 'problem', 'datetime', 'status'])\n",
    "for page,base_url in enumerate(url_list):\n",
    "    response2 = requests.get(base_url,headers=headers,timeout=10)\n",
    "    text = response2.content.decode()\n",
    "    html = etree.HTML(text)      \n",
    "    div_list = html.xpath(\"//tr\")\n",
    "    df = pd.DataFrame(columns = ['id', 'brand', 'car_model', 'type', 'desc', 'problem', 'datetime', 'status'])\n",
    "    for td in div_list:\n",
    "        if len(td.xpath('.//td//text()'))>0:\n",
    "            temp = {}\n",
    "            temp['id'] = td.xpath('.//td[1]//text()')[0].strip()\n",
    "            temp['brand'] = td.xpath('.//td[2]//text()')[0].strip()\n",
    "            temp['car_model'] = td.xpath('.//td[3]//text()')[0].strip()\n",
    "            temp['type'] = td.xpath('.//td[4]//text()')[0].strip()\n",
    "            temp['desc'] = td.xpath('.//td[5]//text()')[0].strip()\n",
    "            temp['problem'] = td.xpath('.//td[6]//text()')[0].strip()\n",
    "            temp['datetime'] = td.xpath('.//td[7]//text()')[0].strip()\n",
    "            temp['status'] = td.xpath('.//td[8]//text()')[0].strip()\n",
    "            df=df.append(temp,ignore_index=True)       \n",
    "    result=result.append(df,ignore_index=True)\n",
    "    print('数据{}已插入'.format(page+1))"
   ]
  },
  {
   "cell_type": "code",
   "execution_count": 16,
   "metadata": {},
   "outputs": [
    {
     "name": "stdout",
     "output_type": "stream",
     "text": [
      "514337    1\n",
      "514525    1\n",
      "515474    1\n",
      "514023    1\n",
      "513745    1\n",
      "         ..\n",
      "514501    1\n",
      "515058    1\n",
      "513788    1\n",
      "513730    1\n",
      "515095    1\n",
      "Name: id, Length: 600, dtype: int64\n"
     ]
    }
   ],
   "source": [
    "print (result['id'].value_counts()) "
   ]
  },
  {
   "cell_type": "code",
   "execution_count": 18,
   "metadata": {},
   "outputs": [
    {
     "name": "stdout",
     "output_type": "stream",
     "text": [
      "一汽-大众     70\n",
      "东风日产      47\n",
      "上汽大众      42\n",
      "东风标致      33\n",
      "吉利汽车      25\n",
      "          ..\n",
      "奇瑞捷豹路虎     1\n",
      "长安林肯       1\n",
      "御捷新能源      1\n",
      "华晨鑫源       1\n",
      "林肯（进口）     1\n",
      "Name: brand, Length: 89, dtype: int64\n"
     ]
    }
   ],
   "source": [
    "print (result['brand'].value_counts()) "
   ]
  },
  {
   "cell_type": "code",
   "execution_count": 26,
   "metadata": {},
   "outputs": [
    {
     "name": "stdout",
     "output_type": "stream",
     "text": [
      "标致408     18\n",
      "速腾        17\n",
      "轩逸        16\n",
      "迈腾        16\n",
      "朗逸        16\n",
      "          ..\n",
      "奔驰GLA      1\n",
      "探岳GTE      1\n",
      "众泰T500     1\n",
      "致悦         1\n",
      "陆风X7       1\n",
      "Name: car_model, Length: 256, dtype: int64\n"
     ]
    }
   ],
   "source": [
    "print (result['car_model'].value_counts()) "
   ]
  },
  {
   "cell_type": "code",
   "execution_count": 28,
   "metadata": {},
   "outputs": [],
   "source": [
    "#数据存储\n",
    "result.to_csv('car_complain_info_20200823.csv', index=False)"
   ]
  }
 ],
 "metadata": {
  "kernelspec": {
   "display_name": "Python 3",
   "language": "python",
   "name": "python3"
  },
  "language_info": {
   "codemirror_mode": {
    "name": "ipython",
    "version": 3
   },
   "file_extension": ".py",
   "mimetype": "text/x-python",
   "name": "python",
   "nbconvert_exporter": "python",
   "pygments_lexer": "ipython3",
   "version": "3.7.4"
  }
 },
 "nbformat": 4,
 "nbformat_minor": 2
}
