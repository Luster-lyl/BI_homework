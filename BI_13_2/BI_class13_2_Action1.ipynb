{
 "cells": [
  {
   "cell_type": "code",
   "execution_count": 2,
   "metadata": {},
   "outputs": [],
   "source": [
    "import numpy as np\n",
    "import pandas as pd\n",
    "import seaborn as sns\n",
    "from matplotlib import pyplot as plt\n",
    "from ortools.linear_solver.pywraplp import Solver\n",
    "from numba import njit\n",
    "import warnings\n",
    "warnings.filterwarnings('ignore')"
   ]
  },
  {
   "cell_type": "code",
   "execution_count": 3,
   "metadata": {
    "ExecuteTime": {
     "end_time": "2020-11-25T10:52:12.546473Z",
     "start_time": "2020-11-25T10:52:12.524017Z"
    }
   },
   "outputs": [
    {
     "data": {
      "text/html": [
       "<div>\n",
       "<style scoped>\n",
       "    .dataframe tbody tr th:only-of-type {\n",
       "        vertical-align: middle;\n",
       "    }\n",
       "\n",
       "    .dataframe tbody tr th {\n",
       "        vertical-align: top;\n",
       "    }\n",
       "\n",
       "    .dataframe thead th {\n",
       "        text-align: right;\n",
       "    }\n",
       "</style>\n",
       "<table border=\"1\" class=\"dataframe\">\n",
       "  <thead>\n",
       "    <tr style=\"text-align: right;\">\n",
       "      <th></th>\n",
       "      <th>choice_0</th>\n",
       "      <th>choice_1</th>\n",
       "      <th>choice_2</th>\n",
       "      <th>choice_3</th>\n",
       "      <th>choice_4</th>\n",
       "      <th>choice_5</th>\n",
       "      <th>choice_6</th>\n",
       "      <th>choice_7</th>\n",
       "      <th>choice_8</th>\n",
       "      <th>choice_9</th>\n",
       "      <th>n_people</th>\n",
       "    </tr>\n",
       "    <tr>\n",
       "      <th>family_id</th>\n",
       "      <th></th>\n",
       "      <th></th>\n",
       "      <th></th>\n",
       "      <th></th>\n",
       "      <th></th>\n",
       "      <th></th>\n",
       "      <th></th>\n",
       "      <th></th>\n",
       "      <th></th>\n",
       "      <th></th>\n",
       "      <th></th>\n",
       "    </tr>\n",
       "  </thead>\n",
       "  <tbody>\n",
       "    <tr>\n",
       "      <th>0</th>\n",
       "      <td>52</td>\n",
       "      <td>38</td>\n",
       "      <td>12</td>\n",
       "      <td>82</td>\n",
       "      <td>33</td>\n",
       "      <td>75</td>\n",
       "      <td>64</td>\n",
       "      <td>76</td>\n",
       "      <td>10</td>\n",
       "      <td>28</td>\n",
       "      <td>4</td>\n",
       "    </tr>\n",
       "    <tr>\n",
       "      <th>1</th>\n",
       "      <td>26</td>\n",
       "      <td>4</td>\n",
       "      <td>82</td>\n",
       "      <td>5</td>\n",
       "      <td>11</td>\n",
       "      <td>47</td>\n",
       "      <td>38</td>\n",
       "      <td>6</td>\n",
       "      <td>66</td>\n",
       "      <td>61</td>\n",
       "      <td>4</td>\n",
       "    </tr>\n",
       "    <tr>\n",
       "      <th>2</th>\n",
       "      <td>100</td>\n",
       "      <td>54</td>\n",
       "      <td>25</td>\n",
       "      <td>12</td>\n",
       "      <td>27</td>\n",
       "      <td>82</td>\n",
       "      <td>10</td>\n",
       "      <td>89</td>\n",
       "      <td>80</td>\n",
       "      <td>33</td>\n",
       "      <td>3</td>\n",
       "    </tr>\n",
       "    <tr>\n",
       "      <th>3</th>\n",
       "      <td>2</td>\n",
       "      <td>95</td>\n",
       "      <td>1</td>\n",
       "      <td>96</td>\n",
       "      <td>32</td>\n",
       "      <td>6</td>\n",
       "      <td>40</td>\n",
       "      <td>31</td>\n",
       "      <td>9</td>\n",
       "      <td>59</td>\n",
       "      <td>2</td>\n",
       "    </tr>\n",
       "    <tr>\n",
       "      <th>4</th>\n",
       "      <td>53</td>\n",
       "      <td>1</td>\n",
       "      <td>47</td>\n",
       "      <td>93</td>\n",
       "      <td>26</td>\n",
       "      <td>3</td>\n",
       "      <td>46</td>\n",
       "      <td>16</td>\n",
       "      <td>42</td>\n",
       "      <td>39</td>\n",
       "      <td>4</td>\n",
       "    </tr>\n",
       "  </tbody>\n",
       "</table>\n",
       "</div>"
      ],
      "text/plain": [
       "           choice_0  choice_1  choice_2  choice_3  choice_4  choice_5  \\\n",
       "family_id                                                               \n",
       "0                52        38        12        82        33        75   \n",
       "1                26         4        82         5        11        47   \n",
       "2               100        54        25        12        27        82   \n",
       "3                 2        95         1        96        32         6   \n",
       "4                53         1        47        93        26         3   \n",
       "\n",
       "           choice_6  choice_7  choice_8  choice_9  n_people  \n",
       "family_id                                                    \n",
       "0                64        76        10        28         4  \n",
       "1                38         6        66        61         4  \n",
       "2                10        89        80        33         3  \n",
       "3                40        31         9        59         2  \n",
       "4                46        16        42        39         4  "
      ]
     },
     "execution_count": 3,
     "metadata": {},
     "output_type": "execute_result"
    }
   ],
   "source": [
    "df = pd.read_csv(\"F:/BI/第十二周/L22/santa/family_data.csv\", index_col='family_id')\n",
    "df.head()"
   ]
  },
  {
   "cell_type": "code",
   "execution_count": 4,
   "metadata": {
    "ExecuteTime": {
     "end_time": "2020-11-25T10:52:12.607560Z",
     "start_time": "2020-11-25T10:52:12.567020Z"
    }
   },
   "outputs": [
    {
     "data": {
      "text/html": [
       "<div>\n",
       "<style scoped>\n",
       "    .dataframe tbody tr th:only-of-type {\n",
       "        vertical-align: middle;\n",
       "    }\n",
       "\n",
       "    .dataframe tbody tr th {\n",
       "        vertical-align: top;\n",
       "    }\n",
       "\n",
       "    .dataframe thead th {\n",
       "        text-align: right;\n",
       "    }\n",
       "</style>\n",
       "<table border=\"1\" class=\"dataframe\">\n",
       "  <thead>\n",
       "    <tr style=\"text-align: right;\">\n",
       "      <th></th>\n",
       "      <th>choice_0</th>\n",
       "      <th>choice_1</th>\n",
       "      <th>choice_2</th>\n",
       "      <th>choice_3</th>\n",
       "      <th>choice_4</th>\n",
       "      <th>choice_5</th>\n",
       "      <th>choice_6</th>\n",
       "      <th>choice_7</th>\n",
       "      <th>choice_8</th>\n",
       "      <th>choice_9</th>\n",
       "      <th>n_people</th>\n",
       "    </tr>\n",
       "  </thead>\n",
       "  <tbody>\n",
       "    <tr>\n",
       "      <th>count</th>\n",
       "      <td>5000.000000</td>\n",
       "      <td>5000.000000</td>\n",
       "      <td>5000.000000</td>\n",
       "      <td>5000.000000</td>\n",
       "      <td>5000.000000</td>\n",
       "      <td>5000.00000</td>\n",
       "      <td>5000.000000</td>\n",
       "      <td>5000.000000</td>\n",
       "      <td>5000.00000</td>\n",
       "      <td>5000.000000</td>\n",
       "      <td>5000.00000</td>\n",
       "    </tr>\n",
       "    <tr>\n",
       "      <th>mean</th>\n",
       "      <td>40.715000</td>\n",
       "      <td>41.601000</td>\n",
       "      <td>41.194200</td>\n",
       "      <td>41.595000</td>\n",
       "      <td>41.950600</td>\n",
       "      <td>42.63520</td>\n",
       "      <td>41.965000</td>\n",
       "      <td>42.739600</td>\n",
       "      <td>42.33900</td>\n",
       "      <td>42.608200</td>\n",
       "      <td>4.20060</td>\n",
       "    </tr>\n",
       "    <tr>\n",
       "      <th>std</th>\n",
       "      <td>29.054208</td>\n",
       "      <td>29.518375</td>\n",
       "      <td>28.821878</td>\n",
       "      <td>29.094602</td>\n",
       "      <td>29.045049</td>\n",
       "      <td>28.98729</td>\n",
       "      <td>28.711089</td>\n",
       "      <td>28.959156</td>\n",
       "      <td>28.69832</td>\n",
       "      <td>28.116088</td>\n",
       "      <td>1.53272</td>\n",
       "    </tr>\n",
       "    <tr>\n",
       "      <th>min</th>\n",
       "      <td>1.000000</td>\n",
       "      <td>1.000000</td>\n",
       "      <td>1.000000</td>\n",
       "      <td>1.000000</td>\n",
       "      <td>1.000000</td>\n",
       "      <td>1.00000</td>\n",
       "      <td>1.000000</td>\n",
       "      <td>1.000000</td>\n",
       "      <td>1.00000</td>\n",
       "      <td>1.000000</td>\n",
       "      <td>2.00000</td>\n",
       "    </tr>\n",
       "    <tr>\n",
       "      <th>25%</th>\n",
       "      <td>16.000000</td>\n",
       "      <td>16.000000</td>\n",
       "      <td>17.000000</td>\n",
       "      <td>17.000000</td>\n",
       "      <td>17.000000</td>\n",
       "      <td>18.00000</td>\n",
       "      <td>17.000000</td>\n",
       "      <td>18.000000</td>\n",
       "      <td>17.00000</td>\n",
       "      <td>19.000000</td>\n",
       "      <td>3.00000</td>\n",
       "    </tr>\n",
       "    <tr>\n",
       "      <th>50%</th>\n",
       "      <td>38.000000</td>\n",
       "      <td>38.000000</td>\n",
       "      <td>38.000000</td>\n",
       "      <td>39.000000</td>\n",
       "      <td>39.000000</td>\n",
       "      <td>40.00000</td>\n",
       "      <td>39.000000</td>\n",
       "      <td>39.000000</td>\n",
       "      <td>39.00000</td>\n",
       "      <td>39.000000</td>\n",
       "      <td>4.00000</td>\n",
       "    </tr>\n",
       "    <tr>\n",
       "      <th>75%</th>\n",
       "      <td>62.000000</td>\n",
       "      <td>66.000000</td>\n",
       "      <td>63.000000</td>\n",
       "      <td>66.000000</td>\n",
       "      <td>66.000000</td>\n",
       "      <td>66.00000</td>\n",
       "      <td>66.000000</td>\n",
       "      <td>67.000000</td>\n",
       "      <td>66.00000</td>\n",
       "      <td>66.000000</td>\n",
       "      <td>5.00000</td>\n",
       "    </tr>\n",
       "    <tr>\n",
       "      <th>max</th>\n",
       "      <td>100.000000</td>\n",
       "      <td>100.000000</td>\n",
       "      <td>100.000000</td>\n",
       "      <td>100.000000</td>\n",
       "      <td>100.000000</td>\n",
       "      <td>100.00000</td>\n",
       "      <td>100.000000</td>\n",
       "      <td>100.000000</td>\n",
       "      <td>100.00000</td>\n",
       "      <td>100.000000</td>\n",
       "      <td>8.00000</td>\n",
       "    </tr>\n",
       "  </tbody>\n",
       "</table>\n",
       "</div>"
      ],
      "text/plain": [
       "          choice_0     choice_1     choice_2     choice_3     choice_4  \\\n",
       "count  5000.000000  5000.000000  5000.000000  5000.000000  5000.000000   \n",
       "mean     40.715000    41.601000    41.194200    41.595000    41.950600   \n",
       "std      29.054208    29.518375    28.821878    29.094602    29.045049   \n",
       "min       1.000000     1.000000     1.000000     1.000000     1.000000   \n",
       "25%      16.000000    16.000000    17.000000    17.000000    17.000000   \n",
       "50%      38.000000    38.000000    38.000000    39.000000    39.000000   \n",
       "75%      62.000000    66.000000    63.000000    66.000000    66.000000   \n",
       "max     100.000000   100.000000   100.000000   100.000000   100.000000   \n",
       "\n",
       "         choice_5     choice_6     choice_7    choice_8     choice_9  \\\n",
       "count  5000.00000  5000.000000  5000.000000  5000.00000  5000.000000   \n",
       "mean     42.63520    41.965000    42.739600    42.33900    42.608200   \n",
       "std      28.98729    28.711089    28.959156    28.69832    28.116088   \n",
       "min       1.00000     1.000000     1.000000     1.00000     1.000000   \n",
       "25%      18.00000    17.000000    18.000000    17.00000    19.000000   \n",
       "50%      40.00000    39.000000    39.000000    39.00000    39.000000   \n",
       "75%      66.00000    66.000000    67.000000    66.00000    66.000000   \n",
       "max     100.00000   100.000000   100.000000   100.00000   100.000000   \n",
       "\n",
       "         n_people  \n",
       "count  5000.00000  \n",
       "mean      4.20060  \n",
       "std       1.53272  \n",
       "min       2.00000  \n",
       "25%       3.00000  \n",
       "50%       4.00000  \n",
       "75%       5.00000  \n",
       "max       8.00000  "
      ]
     },
     "execution_count": 4,
     "metadata": {},
     "output_type": "execute_result"
    }
   ],
   "source": [
    "df.describe()"
   ]
  },
  {
   "cell_type": "code",
   "execution_count": 5,
   "metadata": {
    "ExecuteTime": {
     "end_time": "2020-11-25T10:52:12.617596Z",
     "start_time": "2020-11-25T10:52:12.611239Z"
    }
   },
   "outputs": [
    {
     "data": {
      "text/plain": [
       "21003"
      ]
     },
     "execution_count": 5,
     "metadata": {},
     "output_type": "execute_result"
    }
   ],
   "source": [
    "# 总人数\n",
    "df['n_people'].sum()"
   ]
  },
  {
   "cell_type": "code",
   "execution_count": 6,
   "metadata": {
    "ExecuteTime": {
     "end_time": "2020-11-25T10:52:13.229549Z",
     "start_time": "2020-11-25T10:52:13.223755Z"
    }
   },
   "outputs": [],
   "source": [
    "# 数据预处理\n",
    "def get_p_cost(i: int, n_people: int) -> int:\n",
    "    \"\"\"计算p_cost的损失\n",
    "    :param i: choice_i\n",
    "    :param n_people: 家庭成员数\n",
    "    \"\"\"\n",
    "    p_cost = 0\n",
    "    # 不同choice的折扣卡\n",
    "    gift_cards = [0, 50, 50, 100, 200, 200, 300, 300, 400, 500, 500]\n",
    "    # 每个家庭成员不同choice的优惠折扣\n",
    "    discount_everyone = [0, 0, 9, 9, 9, 18, 18, 36, 36, 235, 434]\n",
    "\n",
    "    if i >= 0 and i <= 9:\n",
    "        # choice i 的pcost\n",
    "        p_cost = gift_cards[i] + discount_everyone[i] * n_people\n",
    "    else:\n",
    "        p_cost = gift_cards[-1] + discount_everyone[-1] * n_people\n",
    "    return p_cost"
   ]
  },
  {
   "cell_type": "code",
   "execution_count": 7,
   "metadata": {
    "ExecuteTime": {
     "end_time": "2020-11-25T10:52:13.237561Z",
     "start_time": "2020-11-25T10:52:13.233577Z"
    },
    "scrolled": true
   },
   "outputs": [],
   "source": [
    "N_FAMILY = 5000  # 家庭数量\n",
    "N_DAYS = 100  # 每天访问的人数需要在125-300人\n",
    "MIN_OCCUPANCY = 125  # 最小承载量\n",
    "MAX_OCCUPANCY = 300  # 最大承载量"
   ]
  },
  {
   "cell_type": "code",
   "execution_count": 8,
   "metadata": {
    "ExecuteTime": {
     "end_time": "2020-11-25T10:52:14.026095Z",
     "start_time": "2020-11-25T10:52:13.240278Z"
    }
   },
   "outputs": [
    {
     "name": "stdout",
     "output_type": "stream",
     "text": [
      "计算完毕\n"
     ]
    },
    {
     "data": {
      "text/plain": [
       "array([[1440, 1440, 1440, ..., 1440, 1440, 1440],\n",
       "       [1440, 1440, 1440, ..., 1440, 1440, 1440],\n",
       "       [1205, 1205, 1205, ..., 1205, 1205,    0],\n",
       "       ...,\n",
       "       [1910, 1910,  616, ..., 1910, 1910, 1910],\n",
       "       [ 390, 1675, 1675, ..., 1675, 1675, 1675],\n",
       "       [1440, 1440, 1440, ..., 1440, 1440, 1440]])"
      ]
     },
     "execution_count": 8,
     "metadata": {},
     "output_type": "execute_result"
    }
   ],
   "source": [
    "pcost_mat = np.full(shape=(N_FAMILY, N_DAYS), fill_value=99999)\n",
    "\n",
    "for r in range(N_FAMILY):\n",
    "    n_people = df.loc[r, 'n_people']\n",
    "    # 初始化\n",
    "    pcost_mat[r, :] = get_p_cost(9, n_people)\n",
    "    for i in range(10):\n",
    "        col = \"choice_%d\" % i\n",
    "        day = df.loc[r, col]\n",
    "        pcost_mat[r, day - 1] = get_p_cost(i, n_people)\n",
    "print(\"计算完毕\")\n",
    "pcost_mat"
   ]
  },
  {
   "cell_type": "code",
   "execution_count": 11,
   "metadata": {
    "ExecuteTime": {
     "end_time": "2020-11-25T10:52:14.035014Z",
     "start_time": "2020-11-25T10:52:14.028453Z"
    }
   },
   "outputs": [
    {
     "data": {
      "text/plain": [
       "0"
      ]
     },
     "execution_count": 11,
     "metadata": {},
     "output_type": "execute_result"
    }
   ],
   "source": [
    "pcost_mat[0, 51]  # 第0个家庭，choice_0 为 day 52 的成本"
   ]
  },
  {
   "cell_type": "code",
   "execution_count": 12,
   "metadata": {
    "ExecuteTime": {
     "end_time": "2020-11-25T10:52:14.042483Z",
     "start_time": "2020-11-25T10:52:14.037934Z"
    },
    "code_folding": [
     0
    ]
   },
   "outputs": [],
   "source": [
    "# # 计算pcost_mat第二种方法\n",
    "# def get_penalty(choice, n):\n",
    "#     if choice == 0:\n",
    "#         penalty = 0\n",
    "#     if choice == 1:\n",
    "#         penalty = 50\n",
    "#     if choice == 2:\n",
    "#         penalty = 50 + 9 * n\n",
    "#     if choice == 3:\n",
    "#         penalty = 100 + 9 * n\n",
    "#     if choice == 4:\n",
    "#         penalty = 200 + 9 * n\n",
    "#     if choice == 5:\n",
    "#         penalty = 200 + 18 * n\n",
    "#     if choice == 6:\n",
    "#         penalty = 300 + 18 * n\n",
    "#     if choice == 7:\n",
    "#         penalty = 300 + 36 * n\n",
    "#     if choice == 8:\n",
    "#         penalty = 400 + 36 * n\n",
    "#     if choice == 9:\n",
    "#         penalty = 500 + (36 + 199) * n\n",
    "#     if choice > 9:\n",
    "#         penalty = 500 + (36 + 398) * n\n",
    "#     return penalty\n",
    "\n",
    "# pcost_mat = np.full(shape=(N_FAMILY, N_DAYS), fill_value=99999)\n",
    "\n",
    "# for r in range(N_FAMILY):\n",
    "#     n_people = df.loc[r, 'n_people']\n",
    "#     # 初始化\n",
    "#     pcost_mat[r, :] = get_penalty(10, n_people)\n",
    "#     for i in range(10):\n",
    "#         col = \"choice_%d\" % i\n",
    "#         day = df.loc[r, col]\n",
    "#         pcost_mat[r, day - 1] = get_penalty(i, n_people)\n",
    "# #         print(f\"第{r}个家庭，成员数:{n_people}, {col}:{day}, cost:\", get_p_cost(i, n_people))\n",
    "# print(\"偏好成本计算完成\")\n",
    "# pcost_mat"
   ]
  },
  {
   "cell_type": "code",
   "execution_count": 13,
   "metadata": {
    "ExecuteTime": {
     "end_time": "2020-11-25T10:52:14.255644Z",
     "start_time": "2020-11-25T10:52:14.044769Z"
    }
   },
   "outputs": [
    {
     "data": {
      "text/plain": [
       "array([[0.00000000e+00, 0.00000000e+00, 0.00000000e+00, ...,\n",
       "        0.00000000e+00, 0.00000000e+00, 0.00000000e+00],\n",
       "       [0.00000000e+00, 0.00000000e+00, 0.00000000e+00, ...,\n",
       "        0.00000000e+00, 0.00000000e+00, 0.00000000e+00],\n",
       "       [0.00000000e+00, 0.00000000e+00, 0.00000000e+00, ...,\n",
       "        0.00000000e+00, 0.00000000e+00, 0.00000000e+00],\n",
       "       ...,\n",
       "       [1.31354104e+28, 1.16015634e+28, 1.02468267e+28, ...,\n",
       "        2.07329520e+01, 2.34740633e+01, 2.65775778e+01],\n",
       "       [1.52288730e+28, 1.34500277e+28, 1.18789647e+28, ...,\n",
       "        2.35617801e+01, 2.08095894e+01, 2.35617801e+01],\n",
       "       [1.76565289e+28, 1.55934897e+28, 1.37715019e+28, ...,\n",
       "        2.67784790e+01, 2.36496052e+01, 2.08863179e+01]])"
      ]
     },
     "execution_count": 13,
     "metadata": {},
     "output_type": "execute_result"
    }
   ],
   "source": [
    "# 计算财务成本，当天的参观人数、前一天的参观人数，\n",
    "acost_mat = np.zeros((500, 500), dtype=np.float64)\n",
    "\n",
    "for i in range(acost_mat.shape[0]):  # 当天安排的人数\n",
    "    for j in range(acost_mat.shape[1]):  # 前一天安排的人数\n",
    "        diff = abs(i - j)\n",
    "        acost_mat[i, j] = max(0, (i - 125) / 400 * i**(0.5 + diff / 50))\n",
    "\n",
    "acost_mat"
   ]
  },
  {
   "cell_type": "code",
   "execution_count": 14,
   "metadata": {
    "ExecuteTime": {
     "end_time": "2020-11-25T10:52:14.267007Z",
     "start_time": "2020-11-25T10:52:14.258700Z"
    },
    "scrolled": true
   },
   "outputs": [
    {
     "data": {
      "text/plain": [
       "array([[51, 37, 11, ..., 75,  9, 27],\n",
       "       [25,  3, 81, ...,  5, 65, 60],\n",
       "       [99, 53, 24, ..., 88, 79, 32],\n",
       "       ...,\n",
       "       [31, 65, 53, ..., 80,  2,  6],\n",
       "       [66, 91,  3, ..., 11, 25, 69],\n",
       "       [12, 10, 24, ..., 38, 17, 46]])"
      ]
     },
     "execution_count": 14,
     "metadata": {},
     "output_type": "execute_result"
    }
   ],
   "source": [
    "# 每个家庭的倾向选择（choice_） DESIRED 和每个家庭的size\n",
    "\n",
    "FAMILY_SIZE = df['n_people'].values.copy()\n",
    "\n",
    "# 如果不使用copy() 数组减1后，df中对应值也会改变\n",
    "DESIRED = df.loc[:, 'choice_0':'choice_9'].values.copy()\n",
    "# 将天数转为下标，1~100天的下标为0~99\n",
    "DESIRED -= 1\n",
    "DESIRED"
   ]
  },
  {
   "cell_type": "code",
   "execution_count": 15,
   "metadata": {
    "ExecuteTime": {
     "end_time": "2020-11-25T10:52:14.274272Z",
     "start_time": "2020-11-25T10:52:14.269261Z"
    }
   },
   "outputs": [
    {
     "data": {
      "text/plain": [
       "(5000, 10)"
      ]
     },
     "execution_count": 15,
     "metadata": {},
     "output_type": "execute_result"
    }
   ],
   "source": [
    "DESIRED.shape"
   ]
  },
  {
   "cell_type": "code",
   "execution_count": 16,
   "metadata": {
    "ExecuteTime": {
     "end_time": "2020-11-25T10:52:14.282731Z",
     "start_time": "2020-11-25T10:52:14.276627Z"
    }
   },
   "outputs": [
    {
     "data": {
      "text/plain": [
       "array([4, 4, 3, ..., 6, 5, 4])"
      ]
     },
     "execution_count": 16,
     "metadata": {},
     "output_type": "execute_result"
    }
   ],
   "source": [
    "FAMILY_SIZE"
   ]
  },
  {
   "cell_type": "code",
   "execution_count": 17,
   "metadata": {
    "ExecuteTime": {
     "end_time": "2020-11-25T10:52:14.288882Z",
     "start_time": "2020-11-25T10:52:14.285086Z"
    }
   },
   "outputs": [],
   "source": [
    "# 使用LP 对绝大部分家庭进行规划\n",
    "\n",
    "solver = Solver(name=\"AssignmentProblem\",\n",
    "                problem_type=Solver.GLOP_LINEAR_PROGRAMMING)"
   ]
  },
  {
   "cell_type": "code",
   "execution_count": 18,
   "metadata": {
    "ExecuteTime": {
     "end_time": "2020-11-25T10:52:14.512521Z",
     "start_time": "2020-11-25T10:52:14.292877Z"
    },
    "lang": "en"
   },
   "outputs": [
    {
     "name": "stdout",
     "output_type": "stream",
     "text": [
      "CPU times: user 162 ms, sys: 9.32 ms, total: 172 ms\n",
      "Wall time: 215 ms\n"
     ]
    }
   ],
   "source": [
    "%%time\n",
    "x = {}\n",
    "\n",
    "# 存储100天里每天的家庭id\n",
    "cadidates = [[] for x in range(N_DAYS)]\n",
    "\n",
    "# 5000个家庭的family_id\n",
    "for i in range(N_FAMILY):\n",
    "    # 第 i 个家庭的对每个choice偏好的天j\n",
    "    for j in DESIRED[i, :]:\n",
    "        cadidates[j].append(i)\n",
    "        # 定义布尔变量X[i,j]， i代表family_id, j代表偏好的天\n",
    "        x[i, j] = solver.BoolVar(name='x[%i,%i]' % (i, j))"
   ]
  },
  {
   "cell_type": "code",
   "execution_count": 19,
   "metadata": {
    "ExecuteTime": {
     "end_time": "2020-11-25T10:52:14.523385Z",
     "start_time": "2020-11-25T10:52:14.518581Z"
    },
    "scrolled": true
   },
   "outputs": [
    {
     "name": "stdout",
     "output_type": "stream",
     "text": [
      "50000\n"
     ]
    }
   ],
   "source": [
    "# 5000 个家庭 * 10个选择，所以变量个数为：5W个\n",
    "print(solver.NumVariables()) "
   ]
  },
  {
   "cell_type": "code",
   "execution_count": 20,
   "metadata": {
    "ExecuteTime": {
     "end_time": "2020-11-25T10:52:14.895585Z",
     "start_time": "2020-11-25T10:52:14.526139Z"
    }
   },
   "outputs": [
    {
     "data": {
      "text/plain": [
       "[<ortools.linear_solver.linear_solver_natural_api.SumArray at 0x7f91183026d0>,\n",
       " <ortools.linear_solver.linear_solver_natural_api.SumArray at 0x7f9118302a90>]"
      ]
     },
     "execution_count": 20,
     "metadata": {},
     "output_type": "execute_result"
    }
   ],
   "source": [
    "# 参观人数\n",
    "daily_occupancy = [\n",
    "    solver.Sum([x[i, j] * FAMILY_SIZE[i] for i in cadidates[j]])\n",
    "    for j in range(N_DAYS)\n",
    "]\n",
    "\n",
    "daily_occupancy[:2]"
   ]
  },
  {
   "cell_type": "code",
   "execution_count": 21,
   "metadata": {
    "ExecuteTime": {
     "end_time": "2020-11-25T10:52:15.062111Z",
     "start_time": "2020-11-25T10:52:14.897992Z"
    }
   },
   "outputs": [
    {
     "data": {
      "text/plain": [
       "[<ortools.linear_solver.linear_solver_natural_api.SumArray at 0x7f9119740650>,\n",
       " <ortools.linear_solver.linear_solver_natural_api.SumArray at 0x7f9119740750>]"
      ]
     },
     "execution_count": 21,
     "metadata": {},
     "output_type": "execute_result"
    }
   ],
   "source": [
    "family_presence = [\n",
    "    solver.Sum([x[i, j] for j in DESIRED[i, :]]) for i in range(N_FAMILY)\n",
    "]\n",
    "\n",
    "family_presence[:2]"
   ]
  },
  {
   "cell_type": "code",
   "execution_count": 22,
   "metadata": {
    "ExecuteTime": {
     "end_time": "2020-11-25T10:52:16.336503Z",
     "start_time": "2020-11-25T10:52:15.067473Z"
    }
   },
   "outputs": [
    {
     "data": {
      "text/plain": [
       "(50000,\n",
       " [<ortools.linear_solver.linear_solver_natural_api.ProductCst at 0x7f91160b4490>,\n",
       "  <ortools.linear_solver.linear_solver_natural_api.ProductCst at 0x7f91160b4510>,\n",
       "  <ortools.linear_solver.linear_solver_natural_api.ProductCst at 0x7f91160b4590>,\n",
       "  <ortools.linear_solver.linear_solver_natural_api.ProductCst at 0x7f91160b4610>,\n",
       "  <ortools.linear_solver.linear_solver_natural_api.ProductCst at 0x7f91160b4690>])"
      ]
     },
     "execution_count": 22,
     "metadata": {},
     "output_type": "execute_result"
    }
   ],
   "source": [
    "# 目标函数\n",
    "\n",
    "temp = [pcost_mat[i, j] * x[i, j] for i in range(N_FAMILY) for j in DESIRED[i, :]]\n",
    "\n",
    "len(temp), temp[:5]"
   ]
  },
  {
   "cell_type": "code",
   "execution_count": 23,
   "metadata": {
    "ExecuteTime": {
     "end_time": "2020-11-25T10:52:16.683977Z",
     "start_time": "2020-11-25T10:52:16.344813Z"
    }
   },
   "outputs": [],
   "source": [
    "# 设定目标函数preference_cost 部分\n",
    "preference_cost = solver.Sum(temp)\n",
    "\n",
    "# 设定求最小值\n",
    "solver.Minimize(preference_cost)"
   ]
  },
  {
   "cell_type": "code",
   "execution_count": 24,
   "metadata": {
    "ExecuteTime": {
     "end_time": "2020-11-25T10:52:18.369157Z",
     "start_time": "2020-11-25T10:52:16.695223Z"
    }
   },
   "outputs": [],
   "source": [
    "# 约束条件\n",
    "# abs(当前人数 - 前一天人数) <= 20\n",
    "for i in range(N_DAYS - 1):\n",
    "    solver.Add((daily_occupancy[i] - daily_occupancy[i + 1]) <= 20) \n",
    "    solver.Add((daily_occupancy[i + 1] - daily_occupancy[i]) <= 20) \n",
    "\n",
    "# 每个家庭只出现一次\n",
    "for i in range(N_FAMILY):\n",
    "    solver.Add(family_presence[i] == 1) \n",
    "    \n",
    "# 每天访问人数约束: 在最小承载量和最大承载量之间\n",
    "for i in range(N_DAYS):\n",
    "    solver.Add(daily_occupancy[i] >= MIN_OCCUPANCY)\n",
    "    solver.Add(daily_occupancy[i] <= MAX_OCCUPANCY) "
   ]
  },
  {
   "cell_type": "code",
   "execution_count": 25,
   "metadata": {
    "ExecuteTime": {
     "end_time": "2020-11-25T10:52:18.380908Z",
     "start_time": "2020-11-25T10:52:18.372090Z"
    },
    "code_folding": []
   },
   "outputs": [
    {
     "data": {
      "text/plain": [
       "5398"
      ]
     },
     "execution_count": 25,
     "metadata": {},
     "output_type": "execute_result"
    }
   ],
   "source": [
    "# 约束条件的数量\n",
    "solver.NumConstraints()"
   ]
  },
  {
   "cell_type": "code",
   "execution_count": 26,
   "metadata": {
    "ExecuteTime": {
     "end_time": "2020-11-25T10:52:29.905729Z",
     "start_time": "2020-11-25T10:52:18.388173Z"
    }
   },
   "outputs": [
    {
     "name": "stdout",
     "output_type": "stream",
     "text": [
      "目标函数最优值: 76959.32142857142\n",
      "耗时： 15617\n",
      "统计单纯形迭代的次数:  16705\n"
     ]
    }
   ],
   "source": [
    "# 求解结果 \n",
    "\n",
    "res_code = solver.Solve()\n",
    "\n",
    "if res_code == Solver.OPTIMAL:\n",
    "    print(\"目标函数最优值:\", solver.Objective().Value())\n",
    "    # 取变量为1的值\n",
    "    result = [(i, j, x[i, j].solution_value()) for i in range(N_FAMILY)\n",
    "              for j in DESIRED[i, :] if x[i, j].solution_value() > 0]\n",
    "    result_df = pd.DataFrame(result, columns=['family_id', 'day', 'is_appear'])\n",
    "else:\n",
    "    print(\"没找到最优解\")\n",
    "\n",
    "print('耗时：', solver.wall_time())\n",
    "print('统计单纯形迭代的次数: ', solver.iterations())  # 最优值成本73702.31696428571和老师相同"
   ]
  },
  {
   "cell_type": "code",
   "execution_count": 27,
   "metadata": {
    "ExecuteTime": {
     "end_time": "2020-11-25T10:52:30.146727Z",
     "start_time": "2020-11-25T10:52:29.909118Z"
    }
   },
   "outputs": [
    {
     "data": {
      "text/plain": [
       "[300.00000000000006, 280.00000000000006, 300.0, 300.0, 280.0]"
      ]
     },
     "execution_count": 27,
     "metadata": {},
     "output_type": "execute_result"
    }
   ],
   "source": [
    "# 根据最优解计算出的100天内每天人数\n",
    "temp = [n.solution_value() for n in daily_occupancy]\n",
    "temp[:5]"
   ]
  },
  {
   "cell_type": "code",
   "execution_count": 28,
   "metadata": {
    "ExecuteTime": {
     "end_time": "2020-11-25T10:52:30.159195Z",
     "start_time": "2020-11-25T10:52:30.149129Z"
    }
   },
   "outputs": [
    {
     "data": {
      "text/html": [
       "<div>\n",
       "<style scoped>\n",
       "    .dataframe tbody tr th:only-of-type {\n",
       "        vertical-align: middle;\n",
       "    }\n",
       "\n",
       "    .dataframe tbody tr th {\n",
       "        vertical-align: top;\n",
       "    }\n",
       "\n",
       "    .dataframe thead th {\n",
       "        text-align: right;\n",
       "    }\n",
       "</style>\n",
       "<table border=\"1\" class=\"dataframe\">\n",
       "  <thead>\n",
       "    <tr style=\"text-align: right;\">\n",
       "      <th></th>\n",
       "      <th>family_id</th>\n",
       "      <th>day</th>\n",
       "      <th>is_appear</th>\n",
       "    </tr>\n",
       "  </thead>\n",
       "  <tbody>\n",
       "    <tr>\n",
       "      <th>0</th>\n",
       "      <td>0</td>\n",
       "      <td>51</td>\n",
       "      <td>1.0</td>\n",
       "    </tr>\n",
       "    <tr>\n",
       "      <th>1</th>\n",
       "      <td>1</td>\n",
       "      <td>25</td>\n",
       "      <td>1.0</td>\n",
       "    </tr>\n",
       "    <tr>\n",
       "      <th>2</th>\n",
       "      <td>2</td>\n",
       "      <td>99</td>\n",
       "      <td>1.0</td>\n",
       "    </tr>\n",
       "    <tr>\n",
       "      <th>3</th>\n",
       "      <td>3</td>\n",
       "      <td>1</td>\n",
       "      <td>1.0</td>\n",
       "    </tr>\n",
       "    <tr>\n",
       "      <th>4</th>\n",
       "      <td>4</td>\n",
       "      <td>52</td>\n",
       "      <td>1.0</td>\n",
       "    </tr>\n",
       "    <tr>\n",
       "      <th>...</th>\n",
       "      <td>...</td>\n",
       "      <td>...</td>\n",
       "      <td>...</td>\n",
       "    </tr>\n",
       "    <tr>\n",
       "      <th>5069</th>\n",
       "      <td>4995</td>\n",
       "      <td>15</td>\n",
       "      <td>1.0</td>\n",
       "    </tr>\n",
       "    <tr>\n",
       "      <th>5070</th>\n",
       "      <td>4996</td>\n",
       "      <td>87</td>\n",
       "      <td>1.0</td>\n",
       "    </tr>\n",
       "    <tr>\n",
       "      <th>5071</th>\n",
       "      <td>4997</td>\n",
       "      <td>31</td>\n",
       "      <td>1.0</td>\n",
       "    </tr>\n",
       "    <tr>\n",
       "      <th>5072</th>\n",
       "      <td>4998</td>\n",
       "      <td>91</td>\n",
       "      <td>1.0</td>\n",
       "    </tr>\n",
       "    <tr>\n",
       "      <th>5073</th>\n",
       "      <td>4999</td>\n",
       "      <td>12</td>\n",
       "      <td>1.0</td>\n",
       "    </tr>\n",
       "  </tbody>\n",
       "</table>\n",
       "<p>5074 rows × 3 columns</p>\n",
       "</div>"
      ],
      "text/plain": [
       "      family_id  day  is_appear\n",
       "0             0   51        1.0\n",
       "1             1   25        1.0\n",
       "2             2   99        1.0\n",
       "3             3    1        1.0\n",
       "4             4   52        1.0\n",
       "...         ...  ...        ...\n",
       "5069       4995   15        1.0\n",
       "5070       4996   87        1.0\n",
       "5071       4997   31        1.0\n",
       "5072       4998   91        1.0\n",
       "5073       4999   12        1.0\n",
       "\n",
       "[5074 rows x 3 columns]"
      ]
     },
     "execution_count": 28,
     "metadata": {},
     "output_type": "execute_result"
    }
   ],
   "source": [
    "result_df"
   ]
  },
  {
   "cell_type": "code",
   "execution_count": 29,
   "metadata": {
    "ExecuteTime": {
     "end_time": "2020-11-25T10:52:30.169362Z",
     "start_time": "2020-11-25T10:52:30.162323Z"
    }
   },
   "outputs": [
    {
     "data": {
      "text/plain": [
       "(5000, array([   0,    1,    2, ..., 4997, 4998, 4999]))"
      ]
     },
     "execution_count": 29,
     "metadata": {},
     "output_type": "execute_result"
    }
   ],
   "source": [
    "result_df['family_id'].nunique(), result_df['family_id'].unique()"
   ]
  },
  {
   "cell_type": "code",
   "execution_count": 30,
   "metadata": {
    "ExecuteTime": {
     "end_time": "2020-11-25T10:52:30.180402Z",
     "start_time": "2020-11-25T10:52:30.171729Z"
    }
   },
   "outputs": [
    {
     "data": {
      "text/plain": [
       "1.000000e+00    4265\n",
       "1.000000e+00     661\n",
       "2.857143e-01       2\n",
       "6.666667e-01       2\n",
       "7.142857e-01       2\n",
       "                ... \n",
       "5.000000e-01       1\n",
       "2.581836e-15       1\n",
       "4.766466e-15       1\n",
       "2.857143e-01       1\n",
       "3.333333e-01       1\n",
       "Name: is_appear, Length: 146, dtype: int64"
      ]
     },
     "execution_count": 30,
     "metadata": {},
     "output_type": "execute_result"
    }
   ],
   "source": [
    "result_df['is_appear'].value_counts()"
   ]
  },
  {
   "cell_type": "code",
   "execution_count": 31,
   "metadata": {
    "ExecuteTime": {
     "end_time": "2020-11-25T10:52:30.187452Z",
     "start_time": "2020-11-25T10:52:30.182799Z"
    },
    "code_folding": [
     0
    ]
   },
   "outputs": [],
   "source": [
    "# # 另有方法\n",
    "# def solve_LP():\n",
    "#     solver = Solver(name=\"AssignmentProblem\",\n",
    "#                     problem_type=Solver.GLOP_LINEAR_PROGRAMMING)\n",
    "\n",
    "#     x = {}\n",
    "#     # 存储100天里每天的家庭id\n",
    "#     cadidates = [[] for x in range(N_DAYS)]\n",
    "\n",
    "#     # 5000个家庭的family_id\n",
    "#     for i in range(N_FAMILY):\n",
    "#         # 第 i 个家庭的对每个choice偏好的天j\n",
    "#         for j in DESIRED[i, :]:\n",
    "#             cadidates[j].append(i)\n",
    "#             # 定义布尔变量X[i,j]， i代表family_id, j代表偏好的天\n",
    "#             x[i, j] = solver.BoolVar(name='x[%i,%i]' % (i, j))\n",
    "\n",
    "#     # 每日参观人数\n",
    "#     daily_occupancy = [\n",
    "#         solver.Sum([x[i, j] * FAMILY_SIZE[i] for i in cadidates[j]])\n",
    "#         for j in range(N_DAYS)\n",
    "#     ]\n",
    "\n",
    "#     #  每个家庭在10个choice中出现总次数\n",
    "#     #  x[i, j] 有 01两个值，最终是哪个值，需优化\n",
    "#     family_presence = [\n",
    "#         solver.Sum([x[i, j] for j in DESIRED[i, :]]) for i in range(N_FAMILY)\n",
    "#     ]\n",
    "\n",
    "#     # 设定目标函数preference_cost 部分\n",
    "#     temp = [\n",
    "#         pcost_mat[i, j] * x[i, j] for i in range(N_FAMILY)\n",
    "#         for j in DESIRED[i, :]\n",
    "#     ]\n",
    "#     preference_cost = solver.Sum(temp)\n",
    "\n",
    "#     # 设定求最小值\n",
    "#     solver.Minimize(preference_cost)\n",
    "\n",
    "#     # 设定约束条件\n",
    "#     # 当前人数不超过前一天人数的25\n",
    "#     for i in range(N_DAYS - 1):\n",
    "#         solver.Add((daily_occupancy[i] - daily_occupancy[i + 1]) <= 25)\n",
    "#         solver.Add((daily_occupancy[i + 1] - daily_occupancy[i]) <= 25)\n",
    "\n",
    "#     # 每个家庭只出现一次\n",
    "#     for i in range(N_FAMILY):\n",
    "#         solver.Add(family_presence[i] == 1)\n",
    "\n",
    "#     # 每天访问人数约束: 在最小承载量和最大承载量之间\n",
    "#     for i in range(N_DAYS):\n",
    "#         solver.Add(daily_occupancy[i] >= MIN_OCCUPANCY)\n",
    "#         solver.Add(daily_occupancy[i] <= MAX_OCCUPANCY)\n",
    "\n",
    "#     res_code = solver.Solve()\n",
    "\n",
    "#     if res_code == Solver.OPTIMAL:\n",
    "#         print(\"目标函数最优值:\", solver.Objective().Value())\n",
    "#         # 取变量为1的值\n",
    "#         result = [(i, j, x[i, j].solution_value()) for i in range(N_FAMILY)\n",
    "#                   for j in DESIRED[i, :] if x[i, j].solution_value() > 0]\n",
    "#         result_df = pd.DataFrame(result,\n",
    "#                                  columns=['family_id', 'day', 'is_appear'])\n",
    "#     else:\n",
    "#         print(\"没找到最优解\")\n",
    "\n",
    "#     print('耗时：', solver.wall_time())\n",
    "#     print('统计单纯形迭代的次数: ', solver.iterations())\n",
    "#     return result_df\n",
    "\n",
    "# solve_LP()"
   ]
  },
  {
   "cell_type": "code",
   "execution_count": 32,
   "metadata": {
    "ExecuteTime": {
     "end_time": "2020-11-25T10:52:30.215837Z",
     "start_time": "2020-11-25T10:52:30.190451Z"
    }
   },
   "outputs": [
    {
     "data": {
      "text/html": [
       "<div>\n",
       "<style scoped>\n",
       "    .dataframe tbody tr th:only-of-type {\n",
       "        vertical-align: middle;\n",
       "    }\n",
       "\n",
       "    .dataframe tbody tr th {\n",
       "        vertical-align: top;\n",
       "    }\n",
       "\n",
       "    .dataframe thead th {\n",
       "        text-align: right;\n",
       "    }\n",
       "</style>\n",
       "<table border=\"1\" class=\"dataframe\">\n",
       "  <thead>\n",
       "    <tr style=\"text-align: right;\">\n",
       "      <th></th>\n",
       "      <th>family_id</th>\n",
       "      <th>day</th>\n",
       "      <th>is_appear</th>\n",
       "    </tr>\n",
       "  </thead>\n",
       "  <tbody>\n",
       "    <tr>\n",
       "      <th>0</th>\n",
       "      <td>0</td>\n",
       "      <td>51</td>\n",
       "      <td>1.0</td>\n",
       "    </tr>\n",
       "    <tr>\n",
       "      <th>1</th>\n",
       "      <td>1</td>\n",
       "      <td>25</td>\n",
       "      <td>1.0</td>\n",
       "    </tr>\n",
       "    <tr>\n",
       "      <th>2</th>\n",
       "      <td>2</td>\n",
       "      <td>99</td>\n",
       "      <td>1.0</td>\n",
       "    </tr>\n",
       "    <tr>\n",
       "      <th>3</th>\n",
       "      <td>3</td>\n",
       "      <td>1</td>\n",
       "      <td>1.0</td>\n",
       "    </tr>\n",
       "    <tr>\n",
       "      <th>4</th>\n",
       "      <td>4</td>\n",
       "      <td>52</td>\n",
       "      <td>1.0</td>\n",
       "    </tr>\n",
       "    <tr>\n",
       "      <th>...</th>\n",
       "      <td>...</td>\n",
       "      <td>...</td>\n",
       "      <td>...</td>\n",
       "    </tr>\n",
       "    <tr>\n",
       "      <th>5069</th>\n",
       "      <td>4995</td>\n",
       "      <td>15</td>\n",
       "      <td>1.0</td>\n",
       "    </tr>\n",
       "    <tr>\n",
       "      <th>5070</th>\n",
       "      <td>4996</td>\n",
       "      <td>87</td>\n",
       "      <td>1.0</td>\n",
       "    </tr>\n",
       "    <tr>\n",
       "      <th>5071</th>\n",
       "      <td>4997</td>\n",
       "      <td>31</td>\n",
       "      <td>1.0</td>\n",
       "    </tr>\n",
       "    <tr>\n",
       "      <th>5072</th>\n",
       "      <td>4998</td>\n",
       "      <td>91</td>\n",
       "      <td>1.0</td>\n",
       "    </tr>\n",
       "    <tr>\n",
       "      <th>5073</th>\n",
       "      <td>4999</td>\n",
       "      <td>12</td>\n",
       "      <td>1.0</td>\n",
       "    </tr>\n",
       "  </tbody>\n",
       "</table>\n",
       "<p>4938 rows × 3 columns</p>\n",
       "</div>"
      ],
      "text/plain": [
       "      family_id  day  is_appear\n",
       "0             0   51        1.0\n",
       "1             1   25        1.0\n",
       "2             2   99        1.0\n",
       "3             3    1        1.0\n",
       "4             4   52        1.0\n",
       "...         ...  ...        ...\n",
       "5069       4995   15        1.0\n",
       "5070       4996   87        1.0\n",
       "5071       4997   31        1.0\n",
       "5072       4998   91        1.0\n",
       "5073       4999   12        1.0\n",
       "\n",
       "[4938 rows x 3 columns]"
      ]
     },
     "execution_count": 32,
     "metadata": {},
     "output_type": "execute_result"
    }
   ],
   "source": [
    "# 剩余家庭\n",
    "THRS = 0.999  # 设置阈值\n",
    "assigned_df = result_df[result_df['is_appear'] > THRS]\n",
    "assigned_df"
   ]
  },
  {
   "cell_type": "code",
   "execution_count": 33,
   "metadata": {
    "ExecuteTime": {
     "end_time": "2020-11-25T10:52:30.236014Z",
     "start_time": "2020-11-25T10:52:30.224025Z"
    }
   },
   "outputs": [
    {
     "data": {
      "text/plain": [
       "4938"
      ]
     },
     "execution_count": 33,
     "metadata": {},
     "output_type": "execute_result"
    }
   ],
   "source": [
    "assigned_df['family_id'].nunique()  # 可知被安排上的有4931个家庭，且只被安排了一次"
   ]
  },
  {
   "cell_type": "code",
   "execution_count": 34,
   "metadata": {
    "ExecuteTime": {
     "end_time": "2020-11-25T10:52:30.242897Z",
     "start_time": "2020-11-25T10:52:30.238263Z"
    },
    "scrolled": false
   },
   "outputs": [],
   "source": [
    "unassigned_df = result_df[(result_df['is_appear'] < THRS)\n",
    "                          & (result_df['is_appear'] > 1 - THRS)]"
   ]
  },
  {
   "cell_type": "code",
   "execution_count": 35,
   "metadata": {
    "ExecuteTime": {
     "end_time": "2020-11-25T10:52:30.260418Z",
     "start_time": "2020-11-25T10:52:30.248931Z"
    }
   },
   "outputs": [
    {
     "data": {
      "text/html": [
       "<div>\n",
       "<style scoped>\n",
       "    .dataframe tbody tr th:only-of-type {\n",
       "        vertical-align: middle;\n",
       "    }\n",
       "\n",
       "    .dataframe tbody tr th {\n",
       "        vertical-align: top;\n",
       "    }\n",
       "\n",
       "    .dataframe thead th {\n",
       "        text-align: right;\n",
       "    }\n",
       "</style>\n",
       "<table border=\"1\" class=\"dataframe\">\n",
       "  <thead>\n",
       "    <tr style=\"text-align: right;\">\n",
       "      <th></th>\n",
       "      <th>family_id</th>\n",
       "      <th>day</th>\n",
       "      <th>is_appear</th>\n",
       "    </tr>\n",
       "  </thead>\n",
       "  <tbody>\n",
       "    <tr>\n",
       "      <th>97</th>\n",
       "      <td>97</td>\n",
       "      <td>95</td>\n",
       "      <td>0.500000</td>\n",
       "    </tr>\n",
       "    <tr>\n",
       "      <th>98</th>\n",
       "      <td>97</td>\n",
       "      <td>47</td>\n",
       "      <td>0.500000</td>\n",
       "    </tr>\n",
       "    <tr>\n",
       "      <th>234</th>\n",
       "      <td>233</td>\n",
       "      <td>86</td>\n",
       "      <td>0.333333</td>\n",
       "    </tr>\n",
       "    <tr>\n",
       "      <th>235</th>\n",
       "      <td>233</td>\n",
       "      <td>91</td>\n",
       "      <td>0.666667</td>\n",
       "    </tr>\n",
       "    <tr>\n",
       "      <th>246</th>\n",
       "      <td>244</td>\n",
       "      <td>38</td>\n",
       "      <td>0.750000</td>\n",
       "    </tr>\n",
       "    <tr>\n",
       "      <th>...</th>\n",
       "      <td>...</td>\n",
       "      <td>...</td>\n",
       "      <td>...</td>\n",
       "    </tr>\n",
       "    <tr>\n",
       "      <th>4990</th>\n",
       "      <td>4918</td>\n",
       "      <td>42</td>\n",
       "      <td>0.285714</td>\n",
       "    </tr>\n",
       "    <tr>\n",
       "      <th>5008</th>\n",
       "      <td>4936</td>\n",
       "      <td>73</td>\n",
       "      <td>0.500000</td>\n",
       "    </tr>\n",
       "    <tr>\n",
       "      <th>5009</th>\n",
       "      <td>4936</td>\n",
       "      <td>61</td>\n",
       "      <td>0.500000</td>\n",
       "    </tr>\n",
       "    <tr>\n",
       "      <th>5052</th>\n",
       "      <td>4979</td>\n",
       "      <td>13</td>\n",
       "      <td>0.666667</td>\n",
       "    </tr>\n",
       "    <tr>\n",
       "      <th>5053</th>\n",
       "      <td>4979</td>\n",
       "      <td>54</td>\n",
       "      <td>0.333333</td>\n",
       "    </tr>\n",
       "  </tbody>\n",
       "</table>\n",
       "<p>124 rows × 3 columns</p>\n",
       "</div>"
      ],
      "text/plain": [
       "      family_id  day  is_appear\n",
       "97           97   95   0.500000\n",
       "98           97   47   0.500000\n",
       "234         233   86   0.333333\n",
       "235         233   91   0.666667\n",
       "246         244   38   0.750000\n",
       "...         ...  ...        ...\n",
       "4990       4918   42   0.285714\n",
       "5008       4936   73   0.500000\n",
       "5009       4936   61   0.500000\n",
       "5052       4979   13   0.666667\n",
       "5053       4979   54   0.333333\n",
       "\n",
       "[124 rows x 3 columns]"
      ]
     },
     "execution_count": 35,
     "metadata": {},
     "output_type": "execute_result"
    }
   ],
   "source": [
    "unassigned_df"
   ]
  },
  {
   "cell_type": "code",
   "execution_count": 36,
   "metadata": {
    "ExecuteTime": {
     "end_time": "2020-11-25T10:52:30.269830Z",
     "start_time": "2020-11-25T10:52:30.263160Z"
    }
   },
   "outputs": [
    {
     "data": {
      "text/plain": [
       "62"
      ]
     },
     "execution_count": 36,
     "metadata": {},
     "output_type": "execute_result"
    }
   ],
   "source": [
    "familes = unassigned_df['family_id'].unique()\n",
    "n_familes = unassigned_df['family_id'].nunique() # 没安排上的家庭\n",
    "n_familes"
   ]
  },
  {
   "cell_type": "code",
   "execution_count": 37,
   "metadata": {
    "ExecuteTime": {
     "end_time": "2020-11-25T10:52:30.295613Z",
     "start_time": "2020-11-25T10:52:30.273511Z"
    }
   },
   "outputs": [
    {
     "data": {
      "text/plain": [
       "array([4, 4, 3, ..., 6, 5, 4])"
      ]
     },
     "execution_count": 37,
     "metadata": {},
     "output_type": "execute_result"
    }
   ],
   "source": [
    "# 统计每天安排家庭访问人数\n",
    "FAMILY_SIZE"
   ]
  },
  {
   "cell_type": "code",
   "execution_count": 38,
   "metadata": {
    "ExecuteTime": {
     "end_time": "2020-11-25T10:52:30.306873Z",
     "start_time": "2020-11-25T10:52:30.300895Z"
    }
   },
   "outputs": [
    {
     "data": {
      "text/plain": [
       "0          0\n",
       "1          1\n",
       "2          2\n",
       "3          3\n",
       "4          4\n",
       "        ... \n",
       "5069    4995\n",
       "5070    4996\n",
       "5071    4997\n",
       "5072    4998\n",
       "5073    4999\n",
       "Name: family_id, Length: 4938, dtype: int64"
      ]
     },
     "execution_count": 38,
     "metadata": {},
     "output_type": "execute_result"
    }
   ],
   "source": [
    "assigned_df.family_id"
   ]
  },
  {
   "cell_type": "code",
   "execution_count": 39,
   "metadata": {
    "ExecuteTime": {
     "end_time": "2020-11-25T10:52:30.318606Z",
     "start_time": "2020-11-25T10:52:30.309923Z"
    }
   },
   "outputs": [],
   "source": [
    "assigned_df.loc[:, 'family_size'] = FAMILY_SIZE[assigned_df.family_id].copy()"
   ]
  },
  {
   "cell_type": "code",
   "execution_count": 40,
   "metadata": {
    "ExecuteTime": {
     "end_time": "2020-11-25T10:52:30.332308Z",
     "start_time": "2020-11-25T10:52:30.321968Z"
    }
   },
   "outputs": [
    {
     "data": {
      "text/html": [
       "<div>\n",
       "<style scoped>\n",
       "    .dataframe tbody tr th:only-of-type {\n",
       "        vertical-align: middle;\n",
       "    }\n",
       "\n",
       "    .dataframe tbody tr th {\n",
       "        vertical-align: top;\n",
       "    }\n",
       "\n",
       "    .dataframe thead th {\n",
       "        text-align: right;\n",
       "    }\n",
       "</style>\n",
       "<table border=\"1\" class=\"dataframe\">\n",
       "  <thead>\n",
       "    <tr style=\"text-align: right;\">\n",
       "      <th></th>\n",
       "      <th>family_id</th>\n",
       "      <th>day</th>\n",
       "      <th>is_appear</th>\n",
       "      <th>family_size</th>\n",
       "    </tr>\n",
       "  </thead>\n",
       "  <tbody>\n",
       "    <tr>\n",
       "      <th>0</th>\n",
       "      <td>0</td>\n",
       "      <td>51</td>\n",
       "      <td>1.0</td>\n",
       "      <td>4</td>\n",
       "    </tr>\n",
       "    <tr>\n",
       "      <th>1</th>\n",
       "      <td>1</td>\n",
       "      <td>25</td>\n",
       "      <td>1.0</td>\n",
       "      <td>4</td>\n",
       "    </tr>\n",
       "  </tbody>\n",
       "</table>\n",
       "</div>"
      ],
      "text/plain": [
       "   family_id  day  is_appear  family_size\n",
       "0          0   51        1.0            4\n",
       "1          1   25        1.0            4"
      ]
     },
     "execution_count": 40,
     "metadata": {},
     "output_type": "execute_result"
    }
   ],
   "source": [
    "assigned_df.head(2)"
   ]
  },
  {
   "cell_type": "code",
   "execution_count": 41,
   "metadata": {
    "ExecuteTime": {
     "end_time": "2020-11-25T10:52:30.350459Z",
     "start_time": "2020-11-25T10:52:30.341876Z"
    }
   },
   "outputs": [
    {
     "data": {
      "text/plain": [
       "day\n",
       "0     290\n",
       "1     277\n",
       "2     298\n",
       "3     297\n",
       "4     278\n",
       "     ... \n",
       "95    152\n",
       "96    130\n",
       "97    123\n",
       "98    124\n",
       "99    123\n",
       "Name: family_size, Length: 100, dtype: int64"
      ]
     },
     "execution_count": 41,
     "metadata": {},
     "output_type": "execute_result"
    }
   ],
   "source": [
    "# 统计每天安排上的访问人数 和老师不同\n",
    "assigned_daily_occupancy = assigned_df.groupby(\"day\")['family_size'].sum()\n",
    "assigned_daily_occupancy"
   ]
  },
  {
   "cell_type": "code",
   "execution_count": 42,
   "metadata": {
    "ExecuteTime": {
     "end_time": "2020-11-25T10:52:32.275857Z",
     "start_time": "2020-11-25T10:52:30.352550Z"
    }
   },
   "outputs": [
    {
     "data": {
      "image/png": "[encoded data removed]",
      "text/plain": [
       "<Figure size 1440x288 with 1 Axes>"
      ]
     },
     "metadata": {},
     "output_type": "display_data"
    }
   ],
   "source": [
    "# 安排上的每日出现人数可视化\n",
    "sns.set_context(\"notebook\")\n",
    "ax = assigned_daily_occupancy.plot(kind='bar', figsize=(20, 4), rot=90)\n",
    "ax.plot([0, 100], [125, 125], '--', color='r', label='Min Line')\n",
    "plt.legend(['Min Line', 'People Quantity'])\n",
    "plt.show()"
   ]
  },
  {
   "cell_type": "code",
   "execution_count": 43,
   "metadata": {
    "ExecuteTime": {
     "end_time": "2020-11-25T10:52:32.690065Z",
     "start_time": "2020-11-25T10:52:32.278652Z"
    }
   },
   "outputs": [
    {
     "data": {
      "text/plain": [
       "<BarContainer object of 100 artists>"
      ]
     },
     "execution_count": 43,
     "metadata": {},
     "output_type": "execute_result"
    },
    {
     "data": {
      "image/png": "[encoded data removed]",
      "text/plain": [
       "<Figure size 1440x288 with 1 Axes>"
      ]
     },
     "metadata": {},
     "output_type": "display_data"
    }
   ],
   "source": [
    "#  统计每一天剩余的最小承载量\n",
    "\n",
    "min_occupancy = np.array(\n",
    "    [max(0, MIN_OCCUPANCY - x) for x in assigned_daily_occupancy])\n",
    "plt.figure(figsize=(20, 4))\n",
    "plt.bar(range(100), height=min_occupancy)"
   ]
  },
  {
   "cell_type": "code",
   "execution_count": 44,
   "metadata": {
    "ExecuteTime": {
     "end_time": "2020-11-25T10:52:32.701371Z",
     "start_time": "2020-11-25T10:52:32.693885Z"
    }
   },
   "outputs": [
    {
     "data": {
      "text/plain": [
       "array([0, 0, 0, 0, 0, 0, 0, 0, 0, 0, 0, 0, 0, 0, 0, 0, 0, 0, 0, 0, 0, 0,\n",
       "       0, 0, 0, 0, 0, 0, 0, 0, 0, 0, 0, 0, 0, 0, 0, 0, 0, 0, 0, 0, 0, 0,\n",
       "       0, 0, 0, 0, 0, 0, 0, 0, 0, 0, 0, 0, 0, 0, 0, 0, 0, 0, 1, 5, 0, 0,\n",
       "       0, 0, 0, 1, 0, 0, 0, 0, 0, 0, 0, 0, 0, 0, 0, 0, 0, 5, 0, 0, 0, 0,\n",
       "       0, 0, 0, 2, 0, 0, 0, 0, 0, 2, 1, 2])"
      ]
     },
     "execution_count": 44,
     "metadata": {},
     "output_type": "execute_result"
    }
   ],
   "source": [
    "min_occupancy"
   ]
  },
  {
   "cell_type": "code",
   "execution_count": 45,
   "metadata": {
    "ExecuteTime": {
     "end_time": "2020-11-25T10:52:33.160340Z",
     "start_time": "2020-11-25T10:52:32.704230Z"
    },
    "scrolled": true
   },
   "outputs": [
    {
     "data": {
      "text/plain": [
       "Text(0, 100, 'Mean: 93')"
      ]
     },
     "execution_count": 45,
     "metadata": {},
     "output_type": "execute_result"
    },
    {
     "data": {
      "image/png": "[encoded data removed]",
      "text/plain": [
       "<Figure size 1440x288 with 1 Axes>"
      ]
     },
     "metadata": {},
     "output_type": "display_data"
    }
   ],
   "source": [
    "# 所有安排均没有超出最大承载量\n",
    "max_occupancy = np.array([MAX_OCCUPANCY - x for x in assigned_daily_occupancy])\n",
    "mean_occ = np.mean(max_occupancy)\n",
    "plt.figure(figsize=(20, 4))\n",
    "plt.bar(range(100), height=max_occupancy)\n",
    "plt.plot([0, 100], [mean_occ] * 2, '--', color='r')\n",
    "plt.legend(['Mean Line', 'Remaining max_occupancy]'])\n",
    "plt.text(0, 100, 'Mean: %d' % mean_occ, fontsize=12)"
   ]
  },
  {
   "cell_type": "code",
   "execution_count": 46,
   "metadata": {
    "ExecuteTime": {
     "end_time": "2020-11-25T10:52:33.171084Z",
     "start_time": "2020-11-25T10:52:33.164920Z"
    }
   },
   "outputs": [
    {
     "data": {
      "text/plain": [
       "array([ 10,  23,   2,   3,  22,  46,  62,  40,  22,   6,   1,   3,  20,\n",
       "        46,  43,  20,   2,  14,  29,  46,  68,  63,  40,  19,   4,   3,\n",
       "        21,  47,  71,  45,  24,  28,  48,  68,  91, 107,  85,  71,  50,\n",
       "        69,  86, 108,  92,  70,  48,  31,  49,  70,  88,  94,  72,  52,\n",
       "        54,  75,  93, 112, 131, 109,  96, 111, 131, 154, 176, 180, 163,\n",
       "       135, 126, 144, 164, 176, 175, 164, 142, 130, 149, 162, 175, 175,\n",
       "       158, 138, 117, 142, 160, 180, 168, 152, 129, 111, 126, 148, 170,\n",
       "       177, 170, 147, 126, 148, 170, 177, 176, 177])"
      ]
     },
     "execution_count": 46,
     "metadata": {},
     "output_type": "execute_result"
    }
   ],
   "source": [
    "max_occupancy"
   ]
  },
  {
   "cell_type": "code",
   "execution_count": 47,
   "metadata": {
    "ExecuteTime": {
     "end_time": "2020-11-25T10:52:33.189336Z",
     "start_time": "2020-11-25T10:52:33.174879Z"
    }
   },
   "outputs": [],
   "source": [
    "# MIP规划\n",
    "\n",
    "def solve_MIP(familes, min_occupancy, max_occupancy):\n",
    "    # 创建求解器\n",
    "    solver = Solver(\"AssignmentProblem\", Solver.CBC_MIXED_INTEGER_PROGRAMMING)\n",
    "    n_family = len(familes)\n",
    "    x = {}\n",
    "\n",
    "    # 存储100天里每天的家庭id\n",
    "    cadidates = [[] for x in range(N_DAYS)]\n",
    "\n",
    "    # 69个待安排的家庭的family_id\n",
    "    for i in familes:\n",
    "        # 第 i 个家庭的对每个choice偏好的天j\n",
    "        for j in DESIRED[i, :]:\n",
    "            cadidates[j].append(i)\n",
    "            # 定义布尔变量X[i,j]， i代表family_id, j代表偏好的天\n",
    "            x[i, j] = solver.BoolVar(name='x[%i,%i]' % (i, j))\n",
    "\n",
    "    # 每日参观人数\n",
    "    daily_occupancy = [\n",
    "        solver.Sum([x[i, j] * FAMILY_SIZE[i] for i in cadidates[j]])\n",
    "        for j in range(N_DAYS)\n",
    "    ]\n",
    "\n",
    "    #  每个家庭在10个choice中出现总次数\n",
    "    family_presence = [\n",
    "        solver.Sum([x[i, j] for j in DESIRED[i, :]]) for i in familes\n",
    "    ]\n",
    "\n",
    "    # 设定目标函数preference_cost 部分\n",
    "    temp = [\n",
    "        pcost_mat[i, j] * x[i, j] for i in familes\n",
    "        for j in DESIRED[i, :]\n",
    "    ]\n",
    "    preference_cost = solver.Sum(temp)\n",
    "\n",
    "    # 设定求最小值\n",
    "    solver.Minimize(preference_cost)\n",
    "\n",
    "    # 设定约束条件\n",
    "    # 每个家庭只出现一次\n",
    "    for i in range(n_family):\n",
    "        solver.Add(family_presence[i] == 1)\n",
    "\n",
    "    # 每天访问人数约束: 在剩余最小承载量和剩余最大承载量之间\n",
    "    for i in range(N_DAYS):\n",
    "        solver.Add(daily_occupancy[i] >= min_occupancy[i])\n",
    "        solver.Add(daily_occupancy[i] <= max_occupancy[i])\n",
    "        \n",
    "    res_code = solver.Solve()\n",
    "\n",
    "    if res_code == Solver.OPTIMAL:\n",
    "        print(\"目标函数最优值:\", solver.Objective().Value())\n",
    "        # 取变量为1的值\n",
    "        result = [(i, j, x[i, j].solution_value()) for i in familes\n",
    "                  for j in DESIRED[i, :] if x[i, j].solution_value() > 0]\n",
    "        result_df = pd.DataFrame(result, columns=['family_id', 'day', 'is_appear'])\n",
    "    else:\n",
    "        print(\"没找到最优解\")\n",
    "\n",
    "    print('耗时：', solver.wall_time())\n",
    "    print('统计单纯形迭代的次数: ', solver.iterations())\n",
    "    return result_df"
   ]
  },
  {
   "cell_type": "code",
   "execution_count": 48,
   "metadata": {
    "ExecuteTime": {
     "end_time": "2020-11-25T10:52:33.267454Z",
     "start_time": "2020-11-25T10:52:33.192047Z"
    }
   },
   "outputs": [
    {
     "name": "stdout",
     "output_type": "stream",
     "text": [
      "目标函数最优值: 1242.0\n",
      "耗时： 68\n",
      "统计单纯形迭代的次数:  0\n"
     ]
    }
   ],
   "source": [
    "remain_result_df = solve_MIP(familes, min_occupancy, max_occupancy)"
   ]
  },
  {
   "cell_type": "code",
   "execution_count": 49,
   "metadata": {
    "ExecuteTime": {
     "end_time": "2020-11-25T10:52:33.292700Z",
     "start_time": "2020-11-25T10:52:33.272109Z"
    }
   },
   "outputs": [
    {
     "data": {
      "text/html": [
       "<div>\n",
       "<style scoped>\n",
       "    .dataframe tbody tr th:only-of-type {\n",
       "        vertical-align: middle;\n",
       "    }\n",
       "\n",
       "    .dataframe tbody tr th {\n",
       "        vertical-align: top;\n",
       "    }\n",
       "\n",
       "    .dataframe thead th {\n",
       "        text-align: right;\n",
       "    }\n",
       "</style>\n",
       "<table border=\"1\" class=\"dataframe\">\n",
       "  <thead>\n",
       "    <tr style=\"text-align: right;\">\n",
       "      <th></th>\n",
       "      <th>family_id</th>\n",
       "      <th>day</th>\n",
       "      <th>is_appear</th>\n",
       "    </tr>\n",
       "  </thead>\n",
       "  <tbody>\n",
       "    <tr>\n",
       "      <th>0</th>\n",
       "      <td>97</td>\n",
       "      <td>95</td>\n",
       "      <td>1.0</td>\n",
       "    </tr>\n",
       "    <tr>\n",
       "      <th>1</th>\n",
       "      <td>233</td>\n",
       "      <td>91</td>\n",
       "      <td>1.0</td>\n",
       "    </tr>\n",
       "    <tr>\n",
       "      <th>2</th>\n",
       "      <td>244</td>\n",
       "      <td>38</td>\n",
       "      <td>1.0</td>\n",
       "    </tr>\n",
       "    <tr>\n",
       "      <th>3</th>\n",
       "      <td>248</td>\n",
       "      <td>32</td>\n",
       "      <td>1.0</td>\n",
       "    </tr>\n",
       "    <tr>\n",
       "      <th>4</th>\n",
       "      <td>295</td>\n",
       "      <td>46</td>\n",
       "      <td>1.0</td>\n",
       "    </tr>\n",
       "    <tr>\n",
       "      <th>...</th>\n",
       "      <td>...</td>\n",
       "      <td>...</td>\n",
       "      <td>...</td>\n",
       "    </tr>\n",
       "    <tr>\n",
       "      <th>57</th>\n",
       "      <td>4869</td>\n",
       "      <td>59</td>\n",
       "      <td>1.0</td>\n",
       "    </tr>\n",
       "    <tr>\n",
       "      <th>58</th>\n",
       "      <td>4886</td>\n",
       "      <td>98</td>\n",
       "      <td>1.0</td>\n",
       "    </tr>\n",
       "    <tr>\n",
       "      <th>59</th>\n",
       "      <td>4918</td>\n",
       "      <td>58</td>\n",
       "      <td>1.0</td>\n",
       "    </tr>\n",
       "    <tr>\n",
       "      <th>60</th>\n",
       "      <td>4936</td>\n",
       "      <td>73</td>\n",
       "      <td>1.0</td>\n",
       "    </tr>\n",
       "    <tr>\n",
       "      <th>61</th>\n",
       "      <td>4979</td>\n",
       "      <td>13</td>\n",
       "      <td>1.0</td>\n",
       "    </tr>\n",
       "  </tbody>\n",
       "</table>\n",
       "<p>62 rows × 3 columns</p>\n",
       "</div>"
      ],
      "text/plain": [
       "    family_id  day  is_appear\n",
       "0          97   95        1.0\n",
       "1         233   91        1.0\n",
       "2         244   38        1.0\n",
       "3         248   32        1.0\n",
       "4         295   46        1.0\n",
       "..        ...  ...        ...\n",
       "57       4869   59        1.0\n",
       "58       4886   98        1.0\n",
       "59       4918   58        1.0\n",
       "60       4936   73        1.0\n",
       "61       4979   13        1.0\n",
       "\n",
       "[62 rows x 3 columns]"
      ]
     },
     "execution_count": 49,
     "metadata": {},
     "output_type": "execute_result"
    }
   ],
   "source": [
    "remain_result_df"
   ]
  },
  {
   "cell_type": "code",
   "execution_count": 50,
   "metadata": {
    "ExecuteTime": {
     "end_time": "2020-11-25T10:52:33.301002Z",
     "start_time": "2020-11-25T10:52:33.295714Z"
    }
   },
   "outputs": [],
   "source": [
    "# 结果汇总\n",
    "\n",
    "remain_result_df.loc[:, 'family_size'] = FAMILY_SIZE[\n",
    "    remain_result_df.family_id].copy()"
   ]
  },
  {
   "cell_type": "code",
   "execution_count": 51,
   "metadata": {
    "ExecuteTime": {
     "end_time": "2020-11-25T10:52:33.327629Z",
     "start_time": "2020-11-25T10:52:33.303534Z"
    }
   },
   "outputs": [
    {
     "data": {
      "text/html": [
       "<div>\n",
       "<style scoped>\n",
       "    .dataframe tbody tr th:only-of-type {\n",
       "        vertical-align: middle;\n",
       "    }\n",
       "\n",
       "    .dataframe tbody tr th {\n",
       "        vertical-align: top;\n",
       "    }\n",
       "\n",
       "    .dataframe thead th {\n",
       "        text-align: right;\n",
       "    }\n",
       "</style>\n",
       "<table border=\"1\" class=\"dataframe\">\n",
       "  <thead>\n",
       "    <tr style=\"text-align: right;\">\n",
       "      <th></th>\n",
       "      <th>family_id</th>\n",
       "      <th>day</th>\n",
       "      <th>is_appear</th>\n",
       "      <th>family_size</th>\n",
       "    </tr>\n",
       "  </thead>\n",
       "  <tbody>\n",
       "    <tr>\n",
       "      <th>0</th>\n",
       "      <td>0</td>\n",
       "      <td>51</td>\n",
       "      <td>1.0</td>\n",
       "      <td>4</td>\n",
       "    </tr>\n",
       "    <tr>\n",
       "      <th>1</th>\n",
       "      <td>1</td>\n",
       "      <td>25</td>\n",
       "      <td>1.0</td>\n",
       "      <td>4</td>\n",
       "    </tr>\n",
       "    <tr>\n",
       "      <th>2</th>\n",
       "      <td>2</td>\n",
       "      <td>99</td>\n",
       "      <td>1.0</td>\n",
       "      <td>3</td>\n",
       "    </tr>\n",
       "    <tr>\n",
       "      <th>3</th>\n",
       "      <td>3</td>\n",
       "      <td>1</td>\n",
       "      <td>1.0</td>\n",
       "      <td>2</td>\n",
       "    </tr>\n",
       "    <tr>\n",
       "      <th>4</th>\n",
       "      <td>4</td>\n",
       "      <td>52</td>\n",
       "      <td>1.0</td>\n",
       "      <td>4</td>\n",
       "    </tr>\n",
       "    <tr>\n",
       "      <th>...</th>\n",
       "      <td>...</td>\n",
       "      <td>...</td>\n",
       "      <td>...</td>\n",
       "      <td>...</td>\n",
       "    </tr>\n",
       "    <tr>\n",
       "      <th>4995</th>\n",
       "      <td>4995</td>\n",
       "      <td>15</td>\n",
       "      <td>1.0</td>\n",
       "      <td>4</td>\n",
       "    </tr>\n",
       "    <tr>\n",
       "      <th>4996</th>\n",
       "      <td>4996</td>\n",
       "      <td>87</td>\n",
       "      <td>1.0</td>\n",
       "      <td>2</td>\n",
       "    </tr>\n",
       "    <tr>\n",
       "      <th>4997</th>\n",
       "      <td>4997</td>\n",
       "      <td>31</td>\n",
       "      <td>1.0</td>\n",
       "      <td>6</td>\n",
       "    </tr>\n",
       "    <tr>\n",
       "      <th>4998</th>\n",
       "      <td>4998</td>\n",
       "      <td>91</td>\n",
       "      <td>1.0</td>\n",
       "      <td>5</td>\n",
       "    </tr>\n",
       "    <tr>\n",
       "      <th>4999</th>\n",
       "      <td>4999</td>\n",
       "      <td>12</td>\n",
       "      <td>1.0</td>\n",
       "      <td>4</td>\n",
       "    </tr>\n",
       "  </tbody>\n",
       "</table>\n",
       "<p>5000 rows × 4 columns</p>\n",
       "</div>"
      ],
      "text/plain": [
       "      family_id  day  is_appear  family_size\n",
       "0             0   51        1.0            4\n",
       "1             1   25        1.0            4\n",
       "2             2   99        1.0            3\n",
       "3             3    1        1.0            2\n",
       "4             4   52        1.0            4\n",
       "...         ...  ...        ...          ...\n",
       "4995       4995   15        1.0            4\n",
       "4996       4996   87        1.0            2\n",
       "4997       4997   31        1.0            6\n",
       "4998       4998   91        1.0            5\n",
       "4999       4999   12        1.0            4\n",
       "\n",
       "[5000 rows x 4 columns]"
      ]
     },
     "execution_count": 51,
     "metadata": {},
     "output_type": "execute_result"
    }
   ],
   "source": [
    "merge_result = assigned_df.append(remain_result_df)\n",
    "merge_result = merge_result.sort_values('family_id').reset_index(drop=True)\n",
    "merge_result"
   ]
  },
  {
   "cell_type": "code",
   "execution_count": 52,
   "metadata": {
    "ExecuteTime": {
     "end_time": "2020-11-25T10:52:33.345332Z",
     "start_time": "2020-11-25T10:52:33.332957Z"
    }
   },
   "outputs": [],
   "source": [
    "#  结果评估\n",
    "#  Score = preference cost + accounting penalty\n",
    "\n",
    "predictions = merge_result['day'].values.copy()"
   ]
  },
  {
   "cell_type": "code",
   "execution_count": 53,
   "metadata": {
    "ExecuteTime": {
     "end_time": "2020-11-25T10:52:33.355445Z",
     "start_time": "2020-11-25T10:52:33.350247Z"
    }
   },
   "outputs": [
    {
     "data": {
      "text/plain": [
       "array([[1440, 1440, 1440, ..., 1440, 1440, 1440],\n",
       "       [1440, 1440, 1440, ..., 1440, 1440, 1440],\n",
       "       [1205, 1205, 1205, ..., 1205, 1205,    0],\n",
       "       ...,\n",
       "       [1910, 1910,  616, ..., 1910, 1910, 1910],\n",
       "       [ 390, 1675, 1675, ..., 1675, 1675, 1675],\n",
       "       [1440, 1440, 1440, ..., 1440, 1440, 1440]])"
      ]
     },
     "execution_count": 53,
     "metadata": {},
     "output_type": "execute_result"
    }
   ],
   "source": [
    "pcost_mat"
   ]
  },
  {
   "cell_type": "code",
   "execution_count": 54,
   "metadata": {
    "ExecuteTime": {
     "end_time": "2020-11-25T10:52:33.368472Z",
     "start_time": "2020-11-25T10:52:33.358917Z"
    }
   },
   "outputs": [],
   "source": [
    "# 根据安排情况，计算preference cost\n",
    "@njit(fastmath=True)\n",
    "def get_preference_cost(predictions):\n",
    "    # 储存当天访问人数\n",
    "    daily_occupancy = np.zeros(N_DAYS + 1, dtype=np.int64)\n",
    "    penalty = 0\n",
    "    for i, p in enumerate(predictions):\n",
    "        # 计算家庭人数\n",
    "        n_people = FAMILY_SIZE[i]\n",
    "        # 第i个家庭，p天访问时间的pcost\n",
    "        penalty += pcost_mat[i, p]\n",
    "        # 统计当天人数\n",
    "        daily_occupancy[p] += n_people\n",
    "    return penalty, daily_occupancy\n",
    "\n",
    "\n",
    "# 根据安排的情况统计accounting cost\n",
    "@njit(fastmath=True)\n",
    "def get_accounting_cost(daily_occupancy):\n",
    "    accounting_cost = 0.\n",
    "    num_out_of_range = 0.\n",
    "    daily_occupancy[-1] = daily_occupancy[-2]\n",
    "    for day in range(N_DAYS):\n",
    "        # 前一天\n",
    "        n_pl = daily_occupancy[day + 1]\n",
    "        # 当天\n",
    "        n = daily_occupancy[day]\n",
    "        \n",
    "        # 如果超过了承载范围，则设置out_of_range\n",
    "        num_out_of_range += (n > MAX_OCCUPANCY) or (n < MIN_OCCUPANCY)\n",
    "        \n",
    "        # 计算accounting cost\n",
    "        accounting_cost += acost_mat[n, n_pl]\n",
    "    return accounting_cost, num_out_of_range\n",
    "\n",
    "@njit(fastmath=True)\n",
    "def cost_func(predictions):\n",
    "    # 根据预测结果计算偏好成本和accounting_cost\n",
    "    preference_cost, daily_occupancy = get_preference_cost(predictions)\n",
    "    accounting_cost, num_out_of_range = get_accounting_cost(daily_occupancy)\n",
    "    # 越界无穷大，代表不允许超过承载范围\n",
    "    final_cost = preference_cost + accounting_cost + 9999999 * num_out_of_range\n",
    "    \n",
    "    return final_cost"
   ]
  },
  {
   "cell_type": "code",
   "execution_count": 55,
   "metadata": {
    "ExecuteTime": {
     "end_time": "2020-11-25T10:52:33.667313Z",
     "start_time": "2020-11-25T10:52:33.370927Z"
    }
   },
   "outputs": [],
   "source": [
    "preference_cost, daily_occupancy = get_preference_cost(predictions)"
   ]
  },
  {
   "cell_type": "code",
   "execution_count": 56,
   "metadata": {
    "ExecuteTime": {
     "end_time": "2020-11-25T10:52:33.676014Z",
     "start_time": "2020-11-25T10:52:33.670171Z"
    }
   },
   "outputs": [
    {
     "data": {
      "text/plain": [
       "75233"
      ]
     },
     "execution_count": 56,
     "metadata": {},
     "output_type": "execute_result"
    }
   ],
   "source": [
    "preference_cost"
   ]
  },
  {
   "cell_type": "code",
   "execution_count": 57,
   "metadata": {
    "ExecuteTime": {
     "end_time": "2020-11-25T10:52:33.815476Z",
     "start_time": "2020-11-25T10:52:33.679378Z"
    }
   },
   "outputs": [
    {
     "data": {
      "text/plain": [
       "3363.282933895302"
      ]
     },
     "execution_count": 57,
     "metadata": {},
     "output_type": "execute_result"
    }
   ],
   "source": [
    "accounting_cost, num_out_of_range = get_accounting_cost(daily_occupancy)\n",
    "accounting_cost"
   ]
  },
  {
   "cell_type": "code",
   "execution_count": 58,
   "metadata": {
    "ExecuteTime": {
     "end_time": "2020-11-25T10:52:33.925134Z",
     "start_time": "2020-11-25T10:52:33.818208Z"
    }
   },
   "outputs": [
    {
     "data": {
      "text/plain": [
       "78596.2829338953"
      ]
     },
     "execution_count": 58,
     "metadata": {},
     "output_type": "execute_result"
    }
   ],
   "source": [
    "# 最终成本\n",
    "cost_func(merge_result['day'].values)"
   ]
  },
  {
   "cell_type": "code",
   "execution_count": 59,
   "metadata": {
    "ExecuteTime": {
     "end_time": "2020-11-25T10:52:33.932652Z",
     "start_time": "2020-11-25T10:52:33.927826Z"
    }
   },
   "outputs": [],
   "source": [
    "# 保存预测结果\n",
    "def save_result(pred, filename):\n",
    "    result = pd.DataFrame(range(N_FAMILY), columns=['family_id'])\n",
    "    result['assigned_day'] = pred + 1\n",
    "    result.to_csv(filename, index=False)\n",
    "    print(f\"save to file {filename}\")\n",
    "    return result"
   ]
  },
  {
   "cell_type": "code",
   "execution_count": 60,
   "metadata": {
    "ExecuteTime": {
     "end_time": "2020-11-25T10:52:33.954136Z",
     "start_time": "2020-11-25T10:52:33.939081Z"
    }
   },
   "outputs": [
    {
     "name": "stdout",
     "output_type": "stream",
     "text": [
      "save to file submission.csv\n"
     ]
    }
   ],
   "source": [
    "result = save_result(merge_result['day'], 'submission.csv')"
   ]
  },
  {
   "cell_type": "code",
   "execution_count": 61,
   "metadata": {},
   "outputs": [],
   "source": [
    "# 方案优化\n",
    "#通过更换family_id的选择，查找更好的score\n",
    "#每次更换后，都对方案进行评估，选择更小的score方案"
   ]
  },
  {
   "cell_type": "code",
   "execution_count": 62,
   "metadata": {
    "ExecuteTime": {
     "end_time": "2020-11-25T10:52:33.972567Z",
     "start_time": "2020-11-25T10:52:33.967307Z"
    }
   },
   "outputs": [
    {
     "data": {
      "text/plain": [
       "(0, 4999)"
      ]
     },
     "execution_count": 62,
     "metadata": {},
     "output_type": "execute_result"
    }
   ],
   "source": [
    "fobs = np.argsort(FAMILY_SIZE)\n",
    "fobs.min(), fobs.max()"
   ]
  },
  {
   "cell_type": "code",
   "execution_count": 63,
   "metadata": {
    "ExecuteTime": {
     "end_time": "2020-11-25T10:52:33.980997Z",
     "start_time": "2020-11-25T10:52:33.975285Z"
    }
   },
   "outputs": [],
   "source": [
    "# 从成员最少的家庭开始打擂\n",
    "def find_better(pred):\n",
    "    \"\"\"打擂法探索更好的方案\"\"\"\n",
    "    fobs = np.argsort(FAMILY_SIZE)\n",
    "    score = cost_func(pred)\n",
    "    original_score = np.inf \n",
    "    # 如果找不到更新则终止\n",
    "    while score < original_score:\n",
    "        original_score = score\n",
    "        for family_id in fobs:\n",
    "            # 10个choice中探索\n",
    "            for pick in range(10):\n",
    "                # 得到family_id在choice_pick的日期 new\n",
    "                new = DESIRED[family_id, pick]\n",
    "                # 安排的原日期\n",
    "                old = pred[family_id]\n",
    "                # old替换为new\n",
    "                pred[family_id] = new\n",
    "                # 重新计算分数\n",
    "                new_score = cost_func(pred)\n",
    "                if new_score < score:\n",
    "                    score = new_score\n",
    "                else:\n",
    "                    pred[family_id] = old\n",
    "        print(f'成本:{score}')\n",
    "    print(f\"最终score={score}\")\n",
    "    return pred"
   ]
  },
  {
   "cell_type": "code",
   "execution_count": 64,
   "metadata": {
    "ExecuteTime": {
     "end_time": "2020-11-25T10:52:41.079123Z",
     "start_time": "2020-11-25T10:52:33.983590Z"
    }
   },
   "outputs": [
    {
     "name": "stdout",
     "output_type": "stream",
     "text": [
      "成本:75134.34022659628\n",
      "成本:73982.31203705008\n",
      "成本:73523.23228533549\n",
      "成本:73243.97263973276\n",
      "成本:73114.86384138808\n",
      "成本:73030.00614795453\n",
      "成本:73008.58961123612\n",
      "成本:72976.7592792808\n",
      "成本:72964.62984592363\n",
      "成本:72964.62984592363\n",
      "最终score=72964.62984592363\n"
     ]
    }
   ],
   "source": [
    "pred = merge_result['day'].values.copy()\n",
    "new_pred = find_better(pred)"
   ]
  },
  {
   "cell_type": "code",
   "execution_count": 65,
   "metadata": {
    "ExecuteTime": {
     "end_time": "2020-11-25T10:52:46.569604Z",
     "start_time": "2020-11-25T10:52:41.081760Z"
    }
   },
   "outputs": [
    {
     "name": "stdout",
     "output_type": "stream",
     "text": [
      "成本:74838.51702849907\n",
      "成本:74435.99196793434\n",
      "成本:74045.73868523882\n",
      "成本:73901.44121214704\n",
      "成本:73780.82000947774\n",
      "成本:73722.32355063813\n",
      "成本:73722.32355063813\n",
      "最后的score=73722.32355063813\n"
     ]
    }
   ],
   "source": [
    "# 从成员最多的家庭开始打擂\n",
    "def find_better(prediction):\n",
    "    \"\"\"打擂法探索更好的方案\"\"\"\n",
    "    pred = prediction.copy()\n",
    "    fobs = np.argsort(FAMILY_SIZE)[::-1]\n",
    "    score = cost_func(pred)\n",
    "    original_score = np.inf \n",
    "    # 如果找不到更新则终止\n",
    "    while score < original_score:\n",
    "        original_score = score\n",
    "        for family_id in fobs:\n",
    "            # 10个choice中探索\n",
    "            for pick in range(10):\n",
    "                # 得到family_id在choice_pick的日期 new\n",
    "                new = DESIRED[family_id, pick]\n",
    "                # 安排的原日期\n",
    "                old = pred[family_id]\n",
    "                # old替换为new\n",
    "                pred[family_id] = new\n",
    "                # 重新计算分数\n",
    "                new_score = cost_func(pred)\n",
    "                if new_score < score:\n",
    "                    score = new_score\n",
    "                else:\n",
    "                    pred[family_id] = old\n",
    "        print(f'成本:{score}')\n",
    "    print(f\"最后的score={score}\")\n",
    "    return pred\n",
    "\n",
    "pred = predictions.copy()\n",
    "\n",
    "new_pred = find_better(pred)"
   ]
  }
 ],
 "metadata": {
  "kernelspec": {
   "display_name": "Python 3",
   "language": "python",
   "name": "python3"
  },
  "language_info": {
   "codemirror_mode": {
    "name": "ipython",
    "version": 3
   },
   "file_extension": ".py",
   "mimetype": "text/x-python",
   "name": "python",
   "nbconvert_exporter": "python",
   "pygments_lexer": "ipython3",
   "version": "3.7.4"
  },
  "nbTranslate": {
   "displayLangs": [
    "zh-cn"
   ],
   "hotkey": "alt-t",
   "langInMainMenu": true,
   "sourceLang": "en",
   "targetLang": "zh-cn",
   "useGoogleTranslate": true
  },
  "toc": {
   "base_numbering": 1,
   "nav_menu": {},
   "number_sections": false,
   "sideBar": true,
   "skip_h1_title": false,
   "title_cell": "Table of Contents",
   "title_sidebar": "Contents",
   "toc_cell": true,
   "toc_position": {
    "height": "calc(100% - 180px)",
    "left": "10px",
    "top": "150px",
    "width": "287.997px"
   },
   "toc_section_display": true,
   "toc_window_display": true
  },
  "varInspector": {
   "cols": {
    "lenName": 16,
    "lenType": 16,
    "lenVar": 40
   },
   "kernels_config": {
    "python": {
     "delete_cmd_postfix": "",
     "delete_cmd_prefix": "del ",
     "library": "var_list.py",
     "varRefreshCmd": "print(var_dic_list())"
    },
    "r": {
     "delete_cmd_postfix": ") ",
     "delete_cmd_prefix": "rm(",
     "library": "var_list.r",
     "varRefreshCmd": "cat(var_dic_list()) "
    }
   },
   "types_to_exclude": [
    "module",
    "function",
    "builtin_function_or_method",
    "instance",
    "_Feature"
   ],
   "window_display": false
  }
 },
 "nbformat": 4,
 "nbformat_minor": 4
}
