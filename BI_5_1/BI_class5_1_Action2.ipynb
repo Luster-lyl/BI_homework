{
 "cells": [
  {
   "cell_type": "code",
   "execution_count": 3,
   "metadata": {},
   "outputs": [],
   "source": [
    "import pandas as pd\n",
    "from sklearn.metrics import mean_squared_error\n",
    "from sklearn.model_selection import train_test_split\n",
    "from sklearn.preprocessing import LabelEncoder\n",
    "from deepctr.models import DeepFM\n",
    "from deepctr.feature_column import SparseFeat, get_feature_names"
   ]
  },
  {
   "cell_type": "code",
   "execution_count": 5,
   "metadata": {},
   "outputs": [],
   "source": [
    "data = pd.read_csv(\"F:/BI/第五周/核心板/L5/deepfm/movielens_sample.txt\")\n",
    "sparse_features = [\"movie_id\", \"user_id\", \"gender\", \"age\", \"occupation\", \"zip\"]\n",
    "target = ['rating']"
   ]
  },
  {
   "cell_type": "code",
   "execution_count": 6,
   "metadata": {},
   "outputs": [],
   "source": [
    "# 对特征标签进行编码\n",
    "for feature in sparse_features:\n",
    "    lbe = LabelEncoder()\n",
    "    data[feature] = lbe.fit_transform(data[feature])"
   ]
  },
  {
   "cell_type": "code",
   "execution_count": 7,
   "metadata": {},
   "outputs": [],
   "source": [
    "# 计算每个特征中的 不同特征值的个数\n",
    "fixlen_feature_columns = [SparseFeat(feature, data[feature].nunique()) for feature in sparse_features]\n",
    "linear_feature_columns = fixlen_feature_columns\n",
    "dnn_feature_columns = fixlen_feature_columns\n",
    "feature_names = get_feature_names(linear_feature_columns + dnn_feature_columns)"
   ]
  },
  {
   "cell_type": "code",
   "execution_count": 8,
   "metadata": {},
   "outputs": [],
   "source": [
    "# 将数据集切分成训练集和测试集\n",
    "train, test = train_test_split(data, test_size=0.2)\n",
    "train_model_input = {name:train[name].values for name in feature_names}\n",
    "test_model_input = {name:test[name].values for name in feature_names}"
   ]
  },
  {
   "cell_type": "code",
   "execution_count": 9,
   "metadata": {
    "scrolled": false
   },
   "outputs": [
    {
     "name": "stdout",
     "output_type": "stream",
     "text": [
      "Epoch 1/50\n"
     ]
    },
    {
     "name": "stderr",
     "output_type": "stream",
     "text": [
      "F:\\Anaconda_download\\anaconda_0\\lib\\site-packages\\tensorflow\\python\\framework\\indexed_slices.py:432: UserWarning: Converting sparse IndexedSlices to a dense Tensor of unknown shape. This may consume a large amount of memory.\n",
      "  \"Converting sparse IndexedSlices to a dense Tensor of unknown shape. \"\n"
     ]
    },
    {
     "name": "stdout",
     "output_type": "stream",
     "text": [
      "1/1 [==============================] - 0s 312ms/step - loss: 14.0155 - mse: 14.0155 - val_loss: 13.3590 - val_mse: 13.3590\n",
      "Epoch 2/50\n",
      "1/1 [==============================] - 0s 23ms/step - loss: 13.8776 - mse: 13.8776 - val_loss: 13.2429 - val_mse: 13.2429\n",
      "Epoch 3/50\n",
      "1/1 [==============================] - 0s 22ms/step - loss: 13.7298 - mse: 13.7298 - val_loss: 13.1182 - val_mse: 13.1182\n",
      "Epoch 4/50\n",
      "1/1 [==============================] - 0s 25ms/step - loss: 13.5720 - mse: 13.5720 - val_loss: 12.9858 - val_mse: 12.9858\n",
      "Epoch 5/50\n",
      "1/1 [==============================] - 0s 22ms/step - loss: 13.4044 - mse: 13.4044 - val_loss: 12.8449 - val_mse: 12.8449\n",
      "Epoch 6/50\n",
      "1/1 [==============================] - 0s 22ms/step - loss: 13.2265 - mse: 13.2265 - val_loss: 12.6951 - val_mse: 12.6951\n",
      "Epoch 7/50\n",
      "1/1 [==============================] - 0s 25ms/step - loss: 13.0375 - mse: 13.0375 - val_loss: 12.5357 - val_mse: 12.5357\n",
      "Epoch 8/50\n",
      "1/1 [==============================] - 0s 24ms/step - loss: 12.8363 - mse: 12.8363 - val_loss: 12.3664 - val_mse: 12.3664\n",
      "Epoch 9/50\n",
      "1/1 [==============================] - 0s 23ms/step - loss: 12.6224 - mse: 12.6224 - val_loss: 12.1861 - val_mse: 12.1861\n",
      "Epoch 10/50\n",
      "1/1 [==============================] - 0s 23ms/step - loss: 12.3949 - mse: 12.3949 - val_loss: 11.9944 - val_mse: 11.9944\n",
      "Epoch 11/50\n",
      "1/1 [==============================] - 0s 23ms/step - loss: 12.1530 - mse: 12.1530 - val_loss: 11.7909 - val_mse: 11.7909\n",
      "Epoch 12/50\n",
      "1/1 [==============================] - 0s 24ms/step - loss: 11.8956 - mse: 11.8956 - val_loss: 11.5750 - val_mse: 11.5750\n",
      "Epoch 13/50\n",
      "1/1 [==============================] - 0s 23ms/step - loss: 11.6218 - mse: 11.6218 - val_loss: 11.3460 - val_mse: 11.3460\n",
      "Epoch 14/50\n",
      "1/1 [==============================] - 0s 22ms/step - loss: 11.3307 - mse: 11.3307 - val_loss: 11.1033 - val_mse: 11.1033\n",
      "Epoch 15/50\n",
      "1/1 [==============================] - 0s 22ms/step - loss: 11.0216 - mse: 11.0216 - val_loss: 10.8468 - val_mse: 10.8468\n",
      "Epoch 16/50\n",
      "1/1 [==============================] - 0s 25ms/step - loss: 10.6937 - mse: 10.6937 - val_loss: 10.5759 - val_mse: 10.5759\n",
      "Epoch 17/50\n",
      "1/1 [==============================] - 0s 24ms/step - loss: 10.3464 - mse: 10.3464 - val_loss: 10.2901 - val_mse: 10.2901\n",
      "Epoch 18/50\n",
      "1/1 [==============================] - 0s 23ms/step - loss: 9.9790 - mse: 9.9790 - val_loss: 9.9891 - val_mse: 9.9891\n",
      "Epoch 19/50\n",
      "1/1 [==============================] - 0s 23ms/step - loss: 9.5912 - mse: 9.5912 - val_loss: 9.6726 - val_mse: 9.6725\n",
      "Epoch 20/50\n",
      "1/1 [==============================] - 0s 24ms/step - loss: 9.1831 - mse: 9.1831 - val_loss: 9.3404 - val_mse: 9.3404\n",
      "Epoch 21/50\n",
      "1/1 [==============================] - 0s 21ms/step - loss: 8.7544 - mse: 8.7544 - val_loss: 8.9927 - val_mse: 8.9927\n",
      "Epoch 22/50\n",
      "1/1 [==============================] - 0s 21ms/step - loss: 8.3053 - mse: 8.3052 - val_loss: 8.6295 - val_mse: 8.6295\n",
      "Epoch 23/50\n",
      "1/1 [==============================] - 0s 24ms/step - loss: 7.8364 - mse: 7.8364 - val_loss: 8.2512 - val_mse: 8.2512\n",
      "Epoch 24/50\n",
      "1/1 [==============================] - 0s 23ms/step - loss: 7.3491 - mse: 7.3490 - val_loss: 7.8588 - val_mse: 7.8588\n",
      "Epoch 25/50\n",
      "1/1 [==============================] - 0s 20ms/step - loss: 6.8450 - mse: 6.8450 - val_loss: 7.4536 - val_mse: 7.4536\n",
      "Epoch 26/50\n",
      "1/1 [==============================] - 0s 23ms/step - loss: 6.3265 - mse: 6.3265 - val_loss: 7.0372 - val_mse: 7.0372\n",
      "Epoch 27/50\n",
      "1/1 [==============================] - 0s 23ms/step - loss: 5.7967 - mse: 5.7967 - val_loss: 6.6114 - val_mse: 6.6113\n",
      "Epoch 28/50\n",
      "1/1 [==============================] - 0s 22ms/step - loss: 5.2594 - mse: 5.2593 - val_loss: 6.1783 - val_mse: 6.1783\n",
      "Epoch 29/50\n",
      "1/1 [==============================] - 0s 23ms/step - loss: 4.7193 - mse: 4.7193 - val_loss: 5.7410 - val_mse: 5.7410\n",
      "Epoch 30/50\n",
      "1/1 [==============================] - 0s 22ms/step - loss: 4.1823 - mse: 4.1822 - val_loss: 5.3035 - val_mse: 5.3035\n",
      "Epoch 31/50\n",
      "1/1 [==============================] - 0s 23ms/step - loss: 3.6550 - mse: 3.6550 - val_loss: 4.8702 - val_mse: 4.8702\n",
      "Epoch 32/50\n",
      "1/1 [==============================] - 0s 24ms/step - loss: 3.1454 - mse: 3.1454 - val_loss: 4.4463 - val_mse: 4.4463\n",
      "Epoch 33/50\n",
      "1/1 [==============================] - 0s 23ms/step - loss: 2.6623 - mse: 2.6623 - val_loss: 4.0364 - val_mse: 4.0364\n",
      "Epoch 34/50\n",
      "1/1 [==============================] - 0s 24ms/step - loss: 2.2155 - mse: 2.2154 - val_loss: 3.6479 - val_mse: 3.6479\n",
      "Epoch 35/50\n",
      "1/1 [==============================] - 0s 22ms/step - loss: 1.8149 - mse: 1.8149 - val_loss: 3.2872 - val_mse: 3.2871\n",
      "Epoch 36/50\n",
      "1/1 [==============================] - 0s 22ms/step - loss: 1.4709 - mse: 1.4709 - val_loss: 2.9606 - val_mse: 2.9606\n",
      "Epoch 37/50\n",
      "1/1 [==============================] - 0s 24ms/step - loss: 1.1927 - mse: 1.1927 - val_loss: 2.6739 - val_mse: 2.6739\n",
      "Epoch 38/50\n",
      "1/1 [==============================] - 0s 23ms/step - loss: 0.9876 - mse: 0.9875 - val_loss: 2.4328 - val_mse: 2.4328\n",
      "Epoch 39/50\n",
      "1/1 [==============================] - 0s 24ms/step - loss: 0.8593 - mse: 0.8593 - val_loss: 2.2402 - val_mse: 2.2402\n",
      "Epoch 40/50\n",
      "1/1 [==============================] - 0s 25ms/step - loss: 0.8061 - mse: 0.8061 - val_loss: 2.0963 - val_mse: 2.0962\n",
      "Epoch 41/50\n",
      "1/1 [==============================] - 0s 22ms/step - loss: 0.8186 - mse: 0.8186 - val_loss: 1.9972 - val_mse: 1.9972\n",
      "Epoch 42/50\n",
      "1/1 [==============================] - 0s 22ms/step - loss: 0.8793 - mse: 0.8793 - val_loss: 1.9359 - val_mse: 1.9359\n",
      "Epoch 43/50\n",
      "1/1 [==============================] - 0s 23ms/step - loss: 0.9639 - mse: 0.9638 - val_loss: 1.9027 - val_mse: 1.9026\n",
      "Epoch 44/50\n",
      "1/1 [==============================] - 0s 23ms/step - loss: 1.0458 - mse: 1.0458 - val_loss: 1.8876 - val_mse: 1.8876\n",
      "Epoch 45/50\n",
      "1/1 [==============================] - 0s 25ms/step - loss: 1.1024 - mse: 1.1023 - val_loss: 1.8830 - val_mse: 1.8829\n",
      "Epoch 46/50\n",
      "1/1 [==============================] - 0s 23ms/step - loss: 1.1190 - mse: 1.1189 - val_loss: 1.8841 - val_mse: 1.8841\n",
      "Epoch 47/50\n",
      "1/1 [==============================] - 0s 24ms/step - loss: 1.0917 - mse: 1.0916 - val_loss: 1.8896 - val_mse: 1.8895\n",
      "Epoch 48/50\n",
      "1/1 [==============================] - 0s 23ms/step - loss: 1.0252 - mse: 1.0251 - val_loss: 1.9004 - val_mse: 1.9004\n",
      "Epoch 49/50\n",
      "1/1 [==============================] - 0s 24ms/step - loss: 0.9300 - mse: 0.9300 - val_loss: 1.9188 - val_mse: 1.9188\n",
      "Epoch 50/50\n",
      "1/1 [==============================] - 0s 22ms/step - loss: 0.8193 - mse: 0.8193 - val_loss: 1.9469 - val_mse: 1.9469\n"
     ]
    }
   ],
   "source": [
    "# 使用DeepFM进行训练\n",
    "model = DeepFM(linear_feature_columns, dnn_feature_columns, task='regression')\n",
    "model.compile(\"adam\", \"mse\", metrics=['mse'], )\n",
    "history = model.fit(train_model_input, train[target].values, batch_size=256, epochs=50, verbose=True, validation_split=0.2, )"
   ]
  },
  {
   "cell_type": "code",
   "execution_count": 10,
   "metadata": {},
   "outputs": [
    {
     "name": "stdout",
     "output_type": "stream",
     "text": [
      "MSE 1.8667\n"
     ]
    }
   ],
   "source": [
    "# 使用DeepFM进行预测\n",
    "pred_ans = model.predict(test_model_input, batch_size=256)\n",
    "mse = round(mean_squared_error(test[target].values, pred_ans), 4)\n",
    "print(\"MSE\", mse)"
   ]
  }
 ],
 "metadata": {
  "kernelspec": {
   "display_name": "Python 3",
   "language": "python",
   "name": "python3"
  },
  "language_info": {
   "codemirror_mode": {
    "name": "ipython",
    "version": 3
   },
   "file_extension": ".py",
   "mimetype": "text/x-python",
   "name": "python",
   "nbconvert_exporter": "python",
   "pygments_lexer": "ipython3",
   "version": "3.7.4"
  }
 },
 "nbformat": 4,
 "nbformat_minor": 4
}
