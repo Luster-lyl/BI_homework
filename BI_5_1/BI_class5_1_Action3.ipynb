{
 "cells": [
  {
   "cell_type": "code",
   "execution_count": 11,
   "metadata": {},
   "outputs": [],
   "source": [
    "from surprise import KNNBasic\n",
    "from surprise import KNNWithMeans\n",
    "from surprise import KNNWithZScore\n",
    "from surprise import KNNBaseline\n",
    "from surprise import Dataset, Reader\n",
    "from surprise.model_selection import cross_validate"
   ]
  },
  {
   "cell_type": "code",
   "execution_count": 12,
   "metadata": {},
   "outputs": [],
   "source": [
    "# 数据读取\n",
    "reader = Reader(line_format='user item rating timestamp', sep=',', skip_lines=1)\n",
    "data = Dataset.load_from_file('F:/BI/第五周/核心板/L5/libfm/ratings.csv', reader=reader)\n",
    "trainset = data.build_full_trainset()"
   ]
  },
  {
   "cell_type": "code",
   "execution_count": 13,
   "metadata": {},
   "outputs": [],
   "source": [
    "# 取最相似的用户计算时，只取最相似的k个\n",
    "algo = KNNWithMeans(k=50, sim_options={'user_based': False, 'name': 'cosine'})\n",
    "algo1 = KNNBasic(k=50, sim_options={'user_based': False, 'name': 'cosine'})\n",
    "algo2 = KNNBasic(k=50, sim_options={'user_based': False, 'name': 'cosine'})\n",
    "algo3 = KNNBasic(k=50, sim_options={'user_based': False, 'name': 'cosine'})"
   ]
  },
  {
   "cell_type": "code",
   "execution_count": 6,
   "metadata": {},
   "outputs": [
    {
     "name": "stdout",
     "output_type": "stream",
     "text": [
      "Computing the cosine similarity matrix...\n",
      "Done computing similarity matrix.\n",
      "Computing the cosine similarity matrix...\n",
      "Done computing similarity matrix.\n",
      "Computing the cosine similarity matrix...\n",
      "Done computing similarity matrix.\n",
      "Evaluating RMSE, MAE of algorithm KNNWithMeans on 3 split(s).\n",
      "\n",
      "                  Fold 1  Fold 2  Fold 3  Mean    Std     \n",
      "RMSE (testset)    0.8686  0.8662  0.8674  0.8674  0.0010  \n",
      "MAE (testset)     0.6652  0.6635  0.6642  0.6643  0.0007  \n",
      "Fit time          65.33   69.27   73.75   69.45   3.44    \n",
      "Test time         121.69  126.65  128.62  125.65  2.92    \n"
     ]
    },
    {
     "data": {
      "text/plain": [
       "{'test_rmse': array([0.86855678, 0.86621799, 0.8673951 ]),\n",
       " 'test_mae': array([0.66521032, 0.66349432, 0.66421593]),\n",
       " 'fit_time': (65.33195948600769, 69.26969289779663, 73.75110268592834),\n",
       " 'test_time': (121.68899774551392, 126.65442657470703, 128.62001180648804)}"
      ]
     },
     "execution_count": 6,
     "metadata": {},
     "output_type": "execute_result"
    }
   ],
   "source": [
    "# 1、使用KNNWithMeans算法\n",
    "cross_validate(algo, data, measures=['RMSE', 'MAE'], cv=3, verbose=True)"
   ]
  },
  {
   "cell_type": "code",
   "execution_count": 9,
   "metadata": {},
   "outputs": [
    {
     "name": "stdout",
     "output_type": "stream",
     "text": [
      "Computing the cosine similarity matrix...\n",
      "Done computing similarity matrix.\n",
      "Computing the cosine similarity matrix...\n",
      "Done computing similarity matrix.\n",
      "Computing the cosine similarity matrix...\n",
      "Done computing similarity matrix.\n",
      "Evaluating RMSE, MAE of algorithm KNNBasic on 3 split(s).\n",
      "\n",
      "                  Fold 1  Fold 2  Fold 3  Mean    Std     \n",
      "RMSE (testset)    0.9591  0.9593  0.9568  0.9584  0.0011  \n",
      "MAE (testset)     0.7401  0.7397  0.7390  0.7396  0.0005  \n",
      "Fit time          79.24   79.45   77.30   78.66   0.97    \n",
      "Test time         126.13  128.60  132.99  129.24  2.84    \n"
     ]
    },
    {
     "data": {
      "text/plain": [
       "{'test_rmse': array([0.95909782, 0.95925922, 0.95678492]),\n",
       " 'test_mae': array([0.74011366, 0.73974253, 0.73902427]),\n",
       " 'fit_time': (79.23505282402039, 79.44996309280396, 77.29818725585938),\n",
       " 'test_time': (126.12672972679138, 128.59797263145447, 132.98513913154602)}"
      ]
     },
     "execution_count": 9,
     "metadata": {},
     "output_type": "execute_result"
    }
   ],
   "source": [
    "# 2、使用KNNBasic算法\n",
    "cross_validate(algo1, data, measures=['RMSE', 'MAE'], cv=3, verbose=True)"
   ]
  },
  {
   "cell_type": "code",
   "execution_count": 14,
   "metadata": {},
   "outputs": [
    {
     "name": "stdout",
     "output_type": "stream",
     "text": [
      "Computing the cosine similarity matrix...\n",
      "Done computing similarity matrix.\n",
      "Computing the cosine similarity matrix...\n",
      "Done computing similarity matrix.\n",
      "Computing the cosine similarity matrix...\n",
      "Done computing similarity matrix.\n",
      "Evaluating RMSE, MAE of algorithm KNNBasic on 3 split(s).\n",
      "\n",
      "                  Fold 1  Fold 2  Fold 3  Mean    Std     \n",
      "RMSE (testset)    0.9596  0.9559  0.9598  0.9584  0.0018  \n",
      "MAE (testset)     0.7399  0.7385  0.7402  0.7395  0.0007  \n",
      "Fit time          77.62   76.35   59.22   71.06   8.39    \n",
      "Test time         130.60  121.86  99.49   117.32  13.10   \n"
     ]
    },
    {
     "data": {
      "text/plain": [
       "{'test_rmse': array([0.95958746, 0.95586889, 0.95976985]),\n",
       " 'test_mae': array([0.73988569, 0.73848784, 0.74017842]),\n",
       " 'fit_time': (77.62135028839111, 76.35387229919434, 59.21899890899658),\n",
       " 'test_time': (130.60123014450073, 121.85812568664551, 99.4892749786377)}"
      ]
     },
     "execution_count": 14,
     "metadata": {},
     "output_type": "execute_result"
    }
   ],
   "source": [
    "# 3、使用KNNWithZScore算法\n",
    "cross_validate(algo2, data, measures=['RMSE', 'MAE'], cv=3, verbose=True)"
   ]
  },
  {
   "cell_type": "code",
   "execution_count": 15,
   "metadata": {},
   "outputs": [
    {
     "name": "stdout",
     "output_type": "stream",
     "text": [
      "Computing the cosine similarity matrix...\n",
      "Done computing similarity matrix.\n",
      "Computing the cosine similarity matrix...\n",
      "Done computing similarity matrix.\n",
      "Computing the cosine similarity matrix...\n",
      "Done computing similarity matrix.\n",
      "Evaluating RMSE, MAE of algorithm KNNBasic on 3 split(s).\n",
      "\n",
      "                  Fold 1  Fold 2  Fold 3  Mean    Std     \n",
      "RMSE (testset)    0.9575  0.9568  0.9593  0.9579  0.0010  \n",
      "MAE (testset)     0.7388  0.7385  0.7408  0.7394  0.0010  \n",
      "Fit time          72.80   60.27   63.18   65.42   5.35    \n",
      "Test time         100.42  97.25   103.06  100.24  2.38    \n"
     ]
    },
    {
     "data": {
      "text/plain": [
       "{'test_rmse': array([0.95751541, 0.95684124, 0.95928225]),\n",
       " 'test_mae': array([0.73884397, 0.7384541 , 0.7407832 ]),\n",
       " 'fit_time': (72.79884481430054, 60.26832723617554, 63.17798733711243),\n",
       " 'test_time': (100.42118334770203, 97.24900007247925, 103.06299948692322)}"
      ]
     },
     "execution_count": 15,
     "metadata": {},
     "output_type": "execute_result"
    }
   ],
   "source": [
    "# 4、使用KNNBaseline算法\n",
    "cross_validate(algo3, data, measures=['RMSE', 'MAE'], cv=3, verbose=True)"
   ]
  }
 ],
 "metadata": {
  "kernelspec": {
   "display_name": "Python 3",
   "language": "python",
   "name": "python3"
  },
  "language_info": {
   "codemirror_mode": {
    "name": "ipython",
    "version": 3
   },
   "file_extension": ".py",
   "mimetype": "text/x-python",
   "name": "python",
   "nbconvert_exporter": "python",
   "pygments_lexer": "ipython3",
   "version": "3.7.4"
  }
 },
 "nbformat": 4,
 "nbformat_minor": 4
}
