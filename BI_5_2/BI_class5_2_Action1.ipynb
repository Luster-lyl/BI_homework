{
 "cells": [
  {
   "cell_type": "code",
   "execution_count": 1,
   "metadata": {
    "colab": {},
    "colab_type": "code",
    "id": "xC_MqELmf83A"
   },
   "outputs": [],
   "source": [
    "import pandas as pd\n",
    "from matplotlib import pyplot as plt\n",
    "from sklearn.metrics import mean_squared_error\n",
    "from sklearn.preprocessing import LabelEncoder\n",
    "from sklearn.model_selection import train_test_split\n",
    "from deepctr.models import WDL\n",
    "from deepctr.feature_column import SparseFeat, get_feature_names\n",
    "from sklearn.metrics import mean_absolute_error"
   ]
  },
  {
   "cell_type": "code",
   "execution_count": 3,
   "metadata": {
    "colab": {},
    "colab_type": "code",
    "id": "5mFT2uVZf83J"
   },
   "outputs": [],
   "source": [
    "# 数据加载\n",
    "df = pd.read_csv('F:/BI/第五周/核心板/L5/libfm/ratings.csv')"
   ]
  },
  {
   "cell_type": "code",
   "execution_count": 5,
   "metadata": {
    "colab": {},
    "colab_type": "code",
    "id": "gxdmnB8gf83T"
   },
   "outputs": [],
   "source": [
    "# 选取特征\n",
    "sparse_features = [\"userId\", \"movieId\", \"timestamp\"]\n",
    "target = ['rating']"
   ]
  },
  {
   "cell_type": "code",
   "execution_count": 6,
   "metadata": {
    "colab": {},
    "colab_type": "code",
    "id": "ugiRwam7f83X"
   },
   "outputs": [],
   "source": [
    "for feature in sparse_features:\n",
    "    transfer = LabelEncoder()\n",
    "    df[feature] = transfer.fit_transform(df[feature])"
   ]
  },
  {
   "cell_type": "code",
   "execution_count": 8,
   "metadata": {
    "colab": {},
    "colab_type": "code",
    "id": "esjh459Vf83c"
   },
   "outputs": [],
   "source": [
    "fixlen_feature_columns = [SparseFeat(f, df[f].nunique()) for f in sparse_features]\n",
    "linear_feature_columns = fixlen_feature_columns\n",
    "dnn_feature_columns = fixlen_feature_columns\n",
    "feature_names = get_feature_names(linear_feature_columns + dnn_feature_columns)"
   ]
  },
  {
   "cell_type": "code",
   "execution_count": 11,
   "metadata": {
    "colab": {
     "base_uri": "https://localhost:8080/",
     "height": 34
    },
    "colab_type": "code",
    "id": "1ELOYj-Cf83l",
    "outputId": "b09b6ec7-28f0-48f7-fe38-efcd995d82db",
    "scrolled": true
   },
   "outputs": [
    {
     "data": {
      "text/plain": [
       "7120"
      ]
     },
     "execution_count": 11,
     "metadata": {},
     "output_type": "execute_result"
    }
   ],
   "source": [
    "# 计算特征gender中不同特征值的个数\n",
    "df['userId'].nunique()"
   ]
  },
  {
   "cell_type": "code",
   "execution_count": 12,
   "metadata": {
    "colab": {
     "base_uri": "https://localhost:8080/",
     "height": 54
    },
    "colab_type": "code",
    "id": "_zLet_s8f83p",
    "outputId": "a5d73afb-7824-4901-e31e-8c71ed10ca92"
   },
   "outputs": [
    {
     "data": {
      "text/plain": [
       "SparseFeat(name='userId', vocabulary_size=7120, embedding_dim=4, use_hash=False, dtype='int32', embeddings_initializer=<tensorflow.python.keras.initializers.initializers_v1.RandomNormal object at 0x0000017496B07088>, embedding_name='userId', group_name='default_group', trainable=True)"
      ]
     },
     "execution_count": 12,
     "metadata": {},
     "output_type": "execute_result"
    }
   ],
   "source": [
    "SparseFeat(name='userId', vocabulary_size=7120, embedding_dim=4)"
   ]
  },
  {
   "cell_type": "code",
   "execution_count": null,
   "metadata": {},
   "outputs": [],
   "source": [
    "# 数据集拆分"
   ]
  },
  {
   "cell_type": "code",
   "execution_count": 13,
   "metadata": {
    "colab": {},
    "colab_type": "code",
    "id": "7E_rGrW0f83s"
   },
   "outputs": [],
   "source": [
    "df_train, df_test = train_test_split(df, test_size=0.2, random_state=30)"
   ]
  },
  {
   "cell_type": "code",
   "execution_count": 14,
   "metadata": {
    "colab": {
     "base_uri": "https://localhost:8080/",
     "height": 34
    },
    "colab_type": "code",
    "id": "2Eeonabhf83x",
    "outputId": "d617924f-e2d3-4f47-a4ae-dd66e3e93de8",
    "scrolled": true
   },
   "outputs": [
    {
     "data": {
      "text/plain": [
       "((838860, 4), (209715, 4))"
      ]
     },
     "execution_count": 14,
     "metadata": {},
     "output_type": "execute_result"
    }
   ],
   "source": [
    "df_train.shape, df_test.shape"
   ]
  },
  {
   "cell_type": "code",
   "execution_count": 15,
   "metadata": {
    "colab": {},
    "colab_type": "code",
    "id": "IZV_KoT5f830"
   },
   "outputs": [],
   "source": [
    "train_model_input = {n:df_train[n].values for n in feature_names}\n",
    "test_model_input = {n:df_test[n].values for n in feature_names}"
   ]
  },
  {
   "cell_type": "code",
   "execution_count": null,
   "metadata": {},
   "outputs": [],
   "source": [
    "# 模型的建立"
   ]
  },
  {
   "cell_type": "code",
   "execution_count": 16,
   "metadata": {
    "colab": {},
    "colab_type": "code",
    "id": "oYvtPFF_f835"
   },
   "outputs": [],
   "source": [
    "model = WDL(\n",
    "    linear_feature_columns,\n",
    "    dnn_feature_columns,\n",
    "    task='regression',\n",
    "    dnn_hidden_units=(256, 256),\n",
    "    l2_reg_linear=10,\n",
    "    l2_reg_embedding=10,\n",
    "    l2_reg_dnn=1,\n",
    "    dnn_dropout=0.5,\n",
    "    dnn_activation='relu',\n",
    "    seed=1020\n",
    "           )"
   ]
  },
  {
   "cell_type": "code",
   "execution_count": 17,
   "metadata": {
    "colab": {},
    "colab_type": "code",
    "id": "nfhfUj3Cf837"
   },
   "outputs": [],
   "source": [
    "# 模型编译\n",
    "model.compile(optimizer='adam', loss='mse', metrics=['mse'])"
   ]
  },
  {
   "cell_type": "code",
   "execution_count": 18,
   "metadata": {
    "colab": {
     "base_uri": "https://localhost:8080/",
     "height": 445
    },
    "colab_type": "code",
    "id": "SxidnN_Tf83-",
    "outputId": "ef9a71a8-ad22-49b5-a0f1-ffd5f8c451d7",
    "scrolled": true
   },
   "outputs": [
    {
     "name": "stdout",
     "output_type": "stream",
     "text": [
      "Epoch 1/10\n"
     ]
    },
    {
     "name": "stderr",
     "output_type": "stream",
     "text": [
      "F:\\Anaconda_download\\anaconda_0\\lib\\site-packages\\tensorflow\\python\\framework\\indexed_slices.py:432: UserWarning: Converting sparse IndexedSlices to a dense Tensor of unknown shape. This may consume a large amount of memory.\n",
      "  \"Converting sparse IndexedSlices to a dense Tensor of unknown shape. \"\n"
     ]
    },
    {
     "name": "stdout",
     "output_type": "stream",
     "text": [
      "2622/2622 [==============================] - 104s 40ms/step - loss: 5.3455 - mse: 1.3650 - val_loss: 1.2206 - val_mse: 1.1031\n",
      "Epoch 2/10\n",
      "2622/2622 [==============================] - 103s 39ms/step - loss: 1.2185 - mse: 1.1685 - val_loss: 1.1721 - val_mse: 1.1037\n",
      "Epoch 3/10\n",
      "2622/2622 [==============================] - 103s 39ms/step - loss: 1.1981 - mse: 1.1510 - val_loss: 1.1632 - val_mse: 1.1033\n",
      "Epoch 4/10\n",
      "2622/2622 [==============================] - 104s 40ms/step - loss: 1.1833 - mse: 1.1366 - val_loss: 1.1583 - val_mse: 1.1042\n",
      "Epoch 5/10\n",
      "2622/2622 [==============================] - 103s 39ms/step - loss: 1.1735 - mse: 1.1275 - val_loss: 1.1567 - val_mse: 1.1023\n",
      "Epoch 6/10\n",
      "2622/2622 [==============================] - 103s 39ms/step - loss: 1.1660 - mse: 1.1205 - val_loss: 1.1578 - val_mse: 1.1031\n",
      "Epoch 7/10\n",
      "2622/2622 [==============================] - 103s 39ms/step - loss: 1.1615 - mse: 1.1158 - val_loss: 1.1555 - val_mse: 1.1023\n",
      "Epoch 8/10\n",
      "2622/2622 [==============================] - 103s 39ms/step - loss: 1.1583 - mse: 1.1128 - val_loss: 1.1552 - val_mse: 1.1025\n",
      "Epoch 9/10\n",
      "2622/2622 [==============================] - 105s 40ms/step - loss: 1.1562 - mse: 1.1109 - val_loss: 1.1549 - val_mse: 1.1029\n",
      "Epoch 10/10\n",
      "2622/2622 [==============================] - 105s 40ms/step - loss: 1.1548 - mse: 1.1095 - val_loss: 1.1553 - val_mse: 1.1024\n",
      "Wall time: 17min 20s\n"
     ]
    }
   ],
   "source": [
    "# 训练模型\n",
    "%%time\n",
    "EPOCH = 10\n",
    "history = model.fit(\n",
    "    train_model_input,\n",
    "    df_train[target].values,\n",
    "    batch_size=256,\n",
    "    epochs=EPOCH,\n",
    "    validation_split=0.2,\n",
    "    shuffle=True,\n",
    "    verbose=1,\n",
    "    workers=2\n",
    ")\n",
    "\n",
    "hist_dict  = history.history"
   ]
  },
  {
   "cell_type": "code",
   "execution_count": 19,
   "metadata": {
    "colab": {
     "base_uri": "https://localhost:8080/",
     "height": 34
    },
    "colab_type": "code",
    "id": "z9AxLJs1f84D",
    "outputId": "1b075514-d6c4-4a22-ff63-83e3aada8113"
   },
   "outputs": [
    {
     "data": {
      "text/plain": [
       "dict_keys(['loss', 'mse', 'val_loss', 'val_mse'])"
      ]
     },
     "execution_count": 19,
     "metadata": {},
     "output_type": "execute_result"
    }
   ],
   "source": [
    "hist_dict.keys()"
   ]
  },
  {
   "cell_type": "code",
   "execution_count": 20,
   "metadata": {
    "colab": {},
    "colab_type": "code",
    "id": "kAJMWelMf84K"
   },
   "outputs": [],
   "source": [
    "# 预测\n",
    "test_preds = model.predict(test_model_input, batch_size=256)"
   ]
  },
  {
   "cell_type": "code",
   "execution_count": 21,
   "metadata": {
    "colab": {
     "base_uri": "https://localhost:8080/",
     "height": 51
    },
    "colab_type": "code",
    "id": "CacPWhpAf84O",
    "outputId": "8c23521d-accb-4484-d64b-2b4c7097ca76"
   },
   "outputs": [
    {
     "data": {
      "text/plain": [
       "array([[3.5383964],\n",
       "       [3.5379453]], dtype=float32)"
      ]
     },
     "execution_count": 21,
     "metadata": {},
     "output_type": "execute_result"
    }
   ],
   "source": [
    "test_preds[:2]"
   ]
  },
  {
   "cell_type": "code",
   "execution_count": 22,
   "metadata": {
    "colab": {
     "base_uri": "https://localhost:8080/",
     "height": 34
    },
    "colab_type": "code",
    "id": "znG5Xm7Xf84R",
    "outputId": "20e8ebf1-148b-4b71-9d4e-d0121d7bf4c8"
   },
   "outputs": [
    {
     "data": {
      "text/plain": [
       "1.109423841748677"
      ]
     },
     "execution_count": 22,
     "metadata": {},
     "output_type": "execute_result"
    }
   ],
   "source": [
    "# 计算MSE\n",
    "mean_squared_error(df_test[target].values, test_preds)"
   ]
  },
  {
   "cell_type": "code",
   "execution_count": 23,
   "metadata": {
    "colab": {},
    "colab_type": "code",
    "id": "ufh9codof84T"
   },
   "outputs": [],
   "source": [
    "df_peds = df_test.copy()"
   ]
  },
  {
   "cell_type": "code",
   "execution_count": 24,
   "metadata": {
    "colab": {
     "base_uri": "https://localhost:8080/",
     "height": 34
    },
    "colab_type": "code",
    "id": "O7QRjFqDwfp5",
    "outputId": "7f3ea664-de7d-40f0-c7fd-d66785bebac0"
   },
   "outputs": [
    {
     "data": {
      "text/plain": [
       "(209715, 4)"
      ]
     },
     "execution_count": 24,
     "metadata": {},
     "output_type": "execute_result"
    }
   ],
   "source": [
    "df_peds.shape"
   ]
  },
  {
   "cell_type": "code",
   "execution_count": 25,
   "metadata": {
    "colab": {
     "base_uri": "https://localhost:8080/",
     "height": 80
    },
    "colab_type": "code",
    "id": "wQjaTUQVwkIz",
    "outputId": "83da575b-0569-4a98-d628-81d7631d21be"
   },
   "outputs": [
    {
     "data": {
      "text/html": [
       "<div>\n",
       "<style scoped>\n",
       "    .dataframe tbody tr th:only-of-type {\n",
       "        vertical-align: middle;\n",
       "    }\n",
       "\n",
       "    .dataframe tbody tr th {\n",
       "        vertical-align: top;\n",
       "    }\n",
       "\n",
       "    .dataframe thead th {\n",
       "        text-align: right;\n",
       "    }\n",
       "</style>\n",
       "<table border=\"1\" class=\"dataframe\">\n",
       "  <thead>\n",
       "    <tr style=\"text-align: right;\">\n",
       "      <th></th>\n",
       "      <th>userId</th>\n",
       "      <th>movieId</th>\n",
       "      <th>rating</th>\n",
       "      <th>timestamp</th>\n",
       "    </tr>\n",
       "  </thead>\n",
       "  <tbody>\n",
       "    <tr>\n",
       "      <td>817193</td>\n",
       "      <td>5450</td>\n",
       "      <td>1190</td>\n",
       "      <td>3.5</td>\n",
       "      <td>588296</td>\n",
       "    </tr>\n",
       "  </tbody>\n",
       "</table>\n",
       "</div>"
      ],
      "text/plain": [
       "        userId  movieId  rating  timestamp\n",
       "817193    5450     1190     3.5     588296"
      ]
     },
     "execution_count": 25,
     "metadata": {},
     "output_type": "execute_result"
    }
   ],
   "source": [
    "df_peds.head(1)"
   ]
  },
  {
   "cell_type": "code",
   "execution_count": 26,
   "metadata": {
    "colab": {
     "base_uri": "https://localhost:8080/",
     "height": 34
    },
    "colab_type": "code",
    "id": "3bYE8mVjwt7r",
    "outputId": "d19dd96d-7555-4b16-9320-35d17a492be9"
   },
   "outputs": [
    {
     "data": {
      "text/plain": [
       "(209715, 1)"
      ]
     },
     "execution_count": 26,
     "metadata": {},
     "output_type": "execute_result"
    }
   ],
   "source": [
    "test_preds.shape"
   ]
  },
  {
   "cell_type": "code",
   "execution_count": 27,
   "metadata": {
    "colab": {},
    "colab_type": "code",
    "id": "8SThiTnYf84Y"
   },
   "outputs": [],
   "source": [
    "df_peds['preds'] = test_preds[:, 0]"
   ]
  },
  {
   "cell_type": "code",
   "execution_count": 28,
   "metadata": {
    "colab": {
     "base_uri": "https://localhost:8080/",
     "height": 204
    },
    "colab_type": "code",
    "id": "2hQzNj3glK-_",
    "outputId": "c9ad568f-5f43-4183-f005-da99487bb4b9"
   },
   "outputs": [
    {
     "data": {
      "text/html": [
       "<div>\n",
       "<style scoped>\n",
       "    .dataframe tbody tr th:only-of-type {\n",
       "        vertical-align: middle;\n",
       "    }\n",
       "\n",
       "    .dataframe tbody tr th {\n",
       "        vertical-align: top;\n",
       "    }\n",
       "\n",
       "    .dataframe thead th {\n",
       "        text-align: right;\n",
       "    }\n",
       "</style>\n",
       "<table border=\"1\" class=\"dataframe\">\n",
       "  <thead>\n",
       "    <tr style=\"text-align: right;\">\n",
       "      <th></th>\n",
       "      <th>rating</th>\n",
       "      <th>preds</th>\n",
       "    </tr>\n",
       "  </thead>\n",
       "  <tbody>\n",
       "    <tr>\n",
       "      <td>817193</td>\n",
       "      <td>3.5</td>\n",
       "      <td>3.538396</td>\n",
       "    </tr>\n",
       "    <tr>\n",
       "      <td>438441</td>\n",
       "      <td>2.0</td>\n",
       "      <td>3.537945</td>\n",
       "    </tr>\n",
       "    <tr>\n",
       "      <td>370515</td>\n",
       "      <td>5.0</td>\n",
       "      <td>3.537991</td>\n",
       "    </tr>\n",
       "    <tr>\n",
       "      <td>840250</td>\n",
       "      <td>4.5</td>\n",
       "      <td>3.538244</td>\n",
       "    </tr>\n",
       "    <tr>\n",
       "      <td>250809</td>\n",
       "      <td>3.0</td>\n",
       "      <td>3.538232</td>\n",
       "    </tr>\n",
       "  </tbody>\n",
       "</table>\n",
       "</div>"
      ],
      "text/plain": [
       "        rating     preds\n",
       "817193     3.5  3.538396\n",
       "438441     2.0  3.537945\n",
       "370515     5.0  3.537991\n",
       "840250     4.5  3.538244\n",
       "250809     3.0  3.538232"
      ]
     },
     "execution_count": 28,
     "metadata": {},
     "output_type": "execute_result"
    }
   ],
   "source": [
    "# 真实值与预测值对比\n",
    "df_peds[['rating', 'preds']].head()"
   ]
  }
 ],
 "metadata": {
  "accelerator": "GPU",
  "colab": {
   "collapsed_sections": [],
   "name": "MQ04_Lesson05_Action1_WideDeepRatePredict.ipynb",
   "provenance": []
  },
  "kernelspec": {
   "display_name": "Python 3",
   "language": "python",
   "name": "python3"
  },
  "language_info": {
   "codemirror_mode": {
    "name": "ipython",
    "version": 3
   },
   "file_extension": ".py",
   "mimetype": "text/x-python",
   "name": "python",
   "nbconvert_exporter": "python",
   "pygments_lexer": "ipython3",
   "version": "3.7.4"
  },
  "toc": {
   "base_numbering": 1,
   "nav_menu": {},
   "number_sections": false,
   "sideBar": true,
   "skip_h1_title": false,
   "title_cell": "Table of Contents",
   "title_sidebar": "Contents",
   "toc_cell": true,
   "toc_position": {},
   "toc_section_display": true,
   "toc_window_display": true
  }
 },
 "nbformat": 4,
 "nbformat_minor": 1
}
