{
 "cells": [
  {
   "cell_type": "code",
   "execution_count": 11,
   "metadata": {},
   "outputs": [],
   "source": [
    "# Action1：不用任何数学库，如何求出sqrt(10)，并且精确到小数点后10位"
   ]
  },
  {
   "cell_type": "code",
   "execution_count": 17,
   "metadata": {},
   "outputs": [],
   "source": [
    "# 采用二分法实现\n",
    "epsion = 1e-10\n",
    "def sqrt10():\n",
    "    low, high =3, 4\n",
    "    mid = (low + high) / 2\n",
    "    while high - low > epsion:\n",
    "        if mid * mid > 10:\n",
    "            high = mid\n",
    "        else:\n",
    "            low = mid\n",
    "        mid = (high + low) / 2\n",
    "    return mid"
   ]
  },
  {
   "cell_type": "code",
   "execution_count": 18,
   "metadata": {},
   "outputs": [
    {
     "name": "stdout",
     "output_type": "stream",
     "text": [
      "3.1622776602\n"
     ]
    }
   ],
   "source": [
    "result = sqrt10()\n",
    "print('%.10f' % result)"
   ]
  },
  {
   "cell_type": "code",
   "execution_count": 19,
   "metadata": {},
   "outputs": [
    {
     "name": "stdout",
     "output_type": "stream",
     "text": [
      "3.1622776602\n"
     ]
    }
   ],
   "source": [
    "# 对比结果\n",
    "import numpy as np\n",
    "print('%.10f' % np.sqrt(10))"
   ]
  }
 ],
 "metadata": {
  "kernelspec": {
   "display_name": "Python 3",
   "language": "python",
   "name": "python3"
  },
  "language_info": {
   "codemirror_mode": {
    "name": "ipython",
    "version": 3
   },
   "file_extension": ".py",
   "mimetype": "text/x-python",
   "name": "python",
   "nbconvert_exporter": "python",
   "pygments_lexer": "ipython3",
   "version": "3.7.4"
  }
 },
 "nbformat": 4,
 "nbformat_minor": 2
}
