{
 "cells": [
  {
   "cell_type": "markdown",
   "metadata": {},
   "source": [
    "基于评分卡的风控模型开发    \n",
    "数据集GiveMeSomeCredit，15万样本数据    \n",
    "https://www.kaggle.com/c/GiveMeSomeCredit/data     \n",
    "使用WOE进行特征变换，IV进行特征筛选，LR构建风控模型，并对模型评分规则进行可解释性说明     \n",
    "– 基本属性：包括了借款人当时的年龄    \n",
    "– 偿债能力：包括了借款人的月收入、负债比率    \n",
    "– 信用往来：两年内35-59天逾期次数、两年内60-89天逾期次数、两年内90天或高于90天逾期的次数    \n",
    "– 财产状况：包括了开放式信贷和贷款数量、不动产贷款或额度数量。    \n",
    "– 其他因素：包括了借款人的家属数量    "
   ]
  },
  {
   "cell_type": "markdown",
   "metadata": {
    "toc": true
   },
   "source": [
    "<h1>Table of Contents<span class=\"tocSkip\"></span></h1>\n",
    "<div class=\"toc\"><ul class=\"toc-item\"><li><span><a href=\"#1-加载数据\" data-toc-modified-id=\"1-加载数据-1\">1 加载数据</a></span></li><li><span><a href=\"#2-EDA\" data-toc-modified-id=\"2-EDA-2\">2 EDA</a></span><ul class=\"toc-item\"><li><span><a href=\"#2.1-缺失值\" data-toc-modified-id=\"2.1-缺失值-2.1\">2.1 缺失值</a></span><ul class=\"toc-item\"><li><span><a href=\"#可视化缺失值\" data-toc-modified-id=\"可视化缺失值-2.1.1\">可视化缺失值</a></span></li><li><span><a href=\"#填充缺失值\" data-toc-modified-id=\"填充缺失值-2.1.2\">填充缺失值</a></span></li></ul></li><li><span><a href=\"#2.2-探索目标值分布\" data-toc-modified-id=\"2.2-探索目标值分布-2.2\">2.2 探索目标值分布</a></span></li><li><span><a href=\"#2.3-RevolvingUtilizationOfUnsecuredLines\" data-toc-modified-id=\"2.3-RevolvingUtilizationOfUnsecuredLines-2.3\">2.3 RevolvingUtilizationOfUnsecuredLines</a></span><ul class=\"toc-item\"><li><span><a href=\"#2.3.1-RevolvingUtilizationOfUnsecuredLines-样本数分布统计\" data-toc-modified-id=\"2.3.1-RevolvingUtilizationOfUnsecuredLines-样本数分布统计-2.3.1\">2.3.1 RevolvingUtilizationOfUnsecuredLines 样本数分布统计</a></span></li><li><span><a href=\"#2.3.2-RevolvingUtilizationOfUnsecuredLines中违约情况\" data-toc-modified-id=\"2.3.2-RevolvingUtilizationOfUnsecuredLines中违约情况-2.3.2\">2.3.2 RevolvingUtilizationOfUnsecuredLines中违约情况</a></span></li></ul></li><li><span><a href=\"#2.4-age\" data-toc-modified-id=\"2.4-age-2.4\">2.4 age</a></span><ul class=\"toc-item\"><li><span><a href=\"#2.4.1-不同年龄的样本数\" data-toc-modified-id=\"2.4.1-不同年龄的样本数-2.4.1\">2.4.1 不同年龄的样本数</a></span></li><li><span><a href=\"#2.4.2-不同年龄下违约情况\" data-toc-modified-id=\"2.4.2-不同年龄下违约情况-2.4.2\">2.4.2 不同年龄下违约情况</a></span></li></ul></li><li><span><a href=\"#2.5-NumberOfTime30-59DaysPastDueNotWorse\" data-toc-modified-id=\"2.5-NumberOfTime30-59DaysPastDueNotWorse-2.5\">2.5 NumberOfTime30-59DaysPastDueNotWorse</a></span><ul class=\"toc-item\"><li><span><a href=\"#2.5.1-30-59天不同逾期次数的样本数\" data-toc-modified-id=\"2.5.1-30-59天不同逾期次数的样本数-2.5.1\">2.5.1 30-59天不同逾期次数的样本数</a></span></li><li><span><a href=\"#2.5.2-30-59天不同逾期次数中违约与未违约样本数统计\" data-toc-modified-id=\"2.5.2-30-59天不同逾期次数中违约与未违约样本数统计-2.5.2\">2.5.2 30-59天不同逾期次数中违约与未违约样本数统计</a></span></li></ul></li><li><span><a href=\"#2.6-DebtRatio\" data-toc-modified-id=\"2.6-DebtRatio-2.6\">2.6 DebtRatio</a></span><ul class=\"toc-item\"><li><span><a href=\"#2.6.1-债务比的分布\" data-toc-modified-id=\"2.6.1-债务比的分布-2.6.1\">2.6.1 债务比的分布</a></span></li><li><span><a href=\"#2.6.2-违约与不违约下的债务比的分布\" data-toc-modified-id=\"2.6.2-违约与不违约下的债务比的分布-2.6.2\">2.6.2 违约与不违约下的债务比的分布</a></span></li></ul></li><li><span><a href=\"#2.7-MonthlyIncome-每月收入\" data-toc-modified-id=\"2.7-MonthlyIncome-每月收入-2.7\">2.7 MonthlyIncome 每月收入</a></span><ul class=\"toc-item\"><li><span><a href=\"#2.7.1--每月收入的分布\" data-toc-modified-id=\"2.7.1--每月收入的分布-2.7.1\">2.7.1  每月收入的分布</a></span></li><li><span><a href=\"#2.7.2-违约与未违约用户的每月收入分布\" data-toc-modified-id=\"2.7.2-违约与未违约用户的每月收入分布-2.7.2\">2.7.2 违约与未违约用户的每月收入分布</a></span></li></ul></li><li><span><a href=\"#2.8-违约与未违约样本的公开贷款和信用额度的数量分布\" data-toc-modified-id=\"2.8-违约与未违约样本的公开贷款和信用额度的数量分布-2.8\">2.8 违约与未违约样本的公开贷款和信用额度的数量分布</a></span></li><li><span><a href=\"#2.9-违约与未违约样本的NumberOfTimes90DaysLate统计\" data-toc-modified-id=\"2.9-违约与未违约样本的NumberOfTimes90DaysLate统计-2.9\">2.9 违约与未违约样本的NumberOfTimes90DaysLate统计</a></span></li><li><span><a href=\"#2.10-违约与未违约样本的-NumberRealEstateLoansOrLines\" data-toc-modified-id=\"2.10-违约与未违约样本的-NumberRealEstateLoansOrLines-2.10\">2.10 违约与未违约样本的 NumberRealEstateLoansOrLines</a></span></li><li><span><a href=\"#2.11-违约与未违约样本的NumberOfTime60-89DaysPastDueNotWorse分布\" data-toc-modified-id=\"2.11-违约与未违约样本的NumberOfTime60-89DaysPastDueNotWorse分布-2.11\">2.11 违约与未违约样本的NumberOfTime60-89DaysPastDueNotWorse分布</a></span></li><li><span><a href=\"#2.12-违约与未违约样本的NumberOfDependents-的分布\" data-toc-modified-id=\"2.12-违约与未违约样本的NumberOfDependents-的分布-2.12\">2.12 违约与未违约样本的NumberOfDependents 的分布</a></span></li></ul></li><li><span><a href=\"#3-数据分箱\" data-toc-modified-id=\"3-数据分箱-3\">3 数据分箱</a></span><ul class=\"toc-item\"><li><span><a href=\"#3.1-对RevolvingUtilizationOfUnsecuredLines分5箱\" data-toc-modified-id=\"3.1-对RevolvingUtilizationOfUnsecuredLines分5箱-3.1\">3.1 对RevolvingUtilizationOfUnsecuredLines分5箱</a></span></li><li><span><a href=\"#3.2-age分6箱\" data-toc-modified-id=\"3.2-age分6箱-3.2\">3.2 age分6箱</a></span></li><li><span><a href=\"#3.3-NumberOfTime30-59DaysPastDueNotWorse分10桶\" data-toc-modified-id=\"3.3-NumberOfTime30-59DaysPastDueNotWorse分10桶-3.3\">3.3 NumberOfTime30-59DaysPastDueNotWorse分10桶</a></span></li><li><span><a href=\"#3.4-DebtRatio分5桶\" data-toc-modified-id=\"3.4-DebtRatio分5桶-3.4\">3.4 DebtRatio分5桶</a></span></li><li><span><a href=\"#3.5-MonthlyIncome-分5桶\" data-toc-modified-id=\"3.5-MonthlyIncome-分5桶-3.5\">3.5 MonthlyIncome 分5桶</a></span></li><li><span><a href=\"#3.6-NumberOfOpenCreditLinesAndLoans分5桶\" data-toc-modified-id=\"3.6-NumberOfOpenCreditLinesAndLoans分5桶-3.6\">3.6 NumberOfOpenCreditLinesAndLoans分5桶</a></span></li><li><span><a href=\"#3.7-NumberOfTimes90DaysLate分10桶\" data-toc-modified-id=\"3.7-NumberOfTimes90DaysLate分10桶-3.7\">3.7 NumberOfTimes90DaysLate分10桶</a></span></li><li><span><a href=\"#3.8-NumberRealEstateLoansOrLines分5段\" data-toc-modified-id=\"3.8-NumberRealEstateLoansOrLines分5段-3.8\">3.8 NumberRealEstateLoansOrLines分5段</a></span></li><li><span><a href=\"#3.9-NumberOfTime60-89DaysPastDueNotWorse分10段\" data-toc-modified-id=\"3.9-NumberOfTime60-89DaysPastDueNotWorse分10段-3.9\">3.9 NumberOfTime60-89DaysPastDueNotWorse分10段</a></span></li><li><span><a href=\"#3.10-NumberOfDependents分6桶\" data-toc-modified-id=\"3.10-NumberOfDependents分6桶-3.10\">3.10 NumberOfDependents分6桶</a></span></li></ul></li><li><span><a href=\"#4-计算WOE和IV\" data-toc-modified-id=\"4-计算WOE和IV-4\">4 计算WOE和IV</a></span></li><li><span><a href=\"#5-根据IV->-0.1-选择特征\" data-toc-modified-id=\"5-根据IV->-0.1-选择特征-5\">5 根据IV &gt; 0.1 选择特征</a></span></li><li><span><a href=\"#6-获得所筛选特征的WOE的规则\" data-toc-modified-id=\"6-获得所筛选特征的WOE的规则-6\">6 获得所筛选特征的WOE的规则</a></span></li><li><span><a href=\"#7-逻辑回归建模\" data-toc-modified-id=\"7-逻辑回归建模-7\">7 逻辑回归建模</a></span><ul class=\"toc-item\"><li><span><a href=\"#7.2-将训练集和验证集分开\" data-toc-modified-id=\"7.2-将训练集和验证集分开-7.1\">7.2 将训练集和验证集分开</a></span></li><li><span><a href=\"#7.3-训练及评估\" data-toc-modified-id=\"7.3-训练及评估-7.2\">7.3 训练及评估</a></span></li><li><span><a href=\"#7.4-可视化混淆矩阵\" data-toc-modified-id=\"7.4-可视化混淆矩阵-7.3\">7.4 可视化混淆矩阵</a></span></li></ul></li><li><span><a href=\"#8-评分卡\" data-toc-modified-id=\"8-评分卡-8\">8 评分卡</a></span><ul class=\"toc-item\"><li><span><a href=\"#8.1-生成评分卡模型\" data-toc-modified-id=\"8.1-生成评分卡模型-8.1\">8.1 生成评分卡模型</a></span></li><li><span><a href=\"#8.2-应用评分卡模型计算评分\" data-toc-modified-id=\"8.2-应用评分卡模型计算评分-8.2\">8.2 应用评分卡模型计算评分</a></span><ul class=\"toc-item\"><li><span><a href=\"#8.2.1--自定义评分卡转换函数\" data-toc-modified-id=\"8.2.1--自定义评分卡转换函数-8.2.1\">8.2.1  自定义评分卡转换函数</a></span></li><li><span><a href=\"#8.2.2-随机抽样查看评分\" data-toc-modified-id=\"8.2.2-随机抽样查看评分-8.2.2\">8.2.2 随机抽样查看评分</a></span></li></ul></li></ul></li><li><span><a href=\"#9-总结\" data-toc-modified-id=\"9-总结-9\">9 总结</a></span></li></ul></div>"
   ]
  },
  {
   "cell_type": "code",
   "execution_count": 2,
   "metadata": {
    "ExecuteTime": {
     "end_time": "2020-12-17T18:14:12.121548Z",
     "start_time": "2020-12-17T18:14:10.818802Z"
    }
   },
   "outputs": [],
   "source": [
    "import math\n",
    "import numpy as np\n",
    "import pandas as pd\n",
    "import missingno as msno\n",
    "import seaborn as sns\n",
    "from matplotlib import pyplot as plt\n",
    "from imblearn.over_sampling import SMOTE, RandomOverSampler\n",
    "from sklearn.preprocessing import StandardScaler\n",
    "from sklearn.model_selection import train_test_split\n",
    "from sklearn.linear_model import LogisticRegression\n",
    "from sklearn.ensemble import RandomForestRegressor\n",
    "from sklearn.metrics import accuracy_score, roc_auc_score, confusion_matrix, plot_confusion_matrix\n",
    "\n",
    "sns.set_style(\"darkgrid\")\n",
    "sns.set_context(\"notebook\")"
   ]
  },
  {
   "cell_type": "code",
   "execution_count": 5,
   "metadata": {
    "ExecuteTime": {
     "end_time": "2020-12-17T18:14:12.266199Z",
     "start_time": "2020-12-17T18:14:12.125515Z"
    }
   },
   "outputs": [
    {
     "data": {
      "text/html": [
       "<div>\n",
       "<style scoped>\n",
       "    .dataframe tbody tr th:only-of-type {\n",
       "        vertical-align: middle;\n",
       "    }\n",
       "\n",
       "    .dataframe tbody tr th {\n",
       "        vertical-align: top;\n",
       "    }\n",
       "\n",
       "    .dataframe thead th {\n",
       "        text-align: right;\n",
       "    }\n",
       "</style>\n",
       "<table border=\"1\" class=\"dataframe\">\n",
       "  <thead>\n",
       "    <tr style=\"text-align: right;\">\n",
       "      <th></th>\n",
       "      <th>Unnamed: 0</th>\n",
       "      <th>SeriousDlqin2yrs</th>\n",
       "      <th>RevolvingUtilizationOfUnsecuredLines</th>\n",
       "      <th>age</th>\n",
       "      <th>NumberOfTime30-59DaysPastDueNotWorse</th>\n",
       "      <th>DebtRatio</th>\n",
       "      <th>MonthlyIncome</th>\n",
       "      <th>NumberOfOpenCreditLinesAndLoans</th>\n",
       "      <th>NumberOfTimes90DaysLate</th>\n",
       "      <th>NumberRealEstateLoansOrLines</th>\n",
       "      <th>NumberOfTime60-89DaysPastDueNotWorse</th>\n",
       "      <th>NumberOfDependents</th>\n",
       "    </tr>\n",
       "  </thead>\n",
       "  <tbody>\n",
       "    <tr>\n",
       "      <th>0</th>\n",
       "      <td>1</td>\n",
       "      <td>1</td>\n",
       "      <td>0.766127</td>\n",
       "      <td>45</td>\n",
       "      <td>2</td>\n",
       "      <td>0.802982</td>\n",
       "      <td>9120.0</td>\n",
       "      <td>13</td>\n",
       "      <td>0</td>\n",
       "      <td>6</td>\n",
       "      <td>0</td>\n",
       "      <td>2.0</td>\n",
       "    </tr>\n",
       "    <tr>\n",
       "      <th>1</th>\n",
       "      <td>2</td>\n",
       "      <td>0</td>\n",
       "      <td>0.957151</td>\n",
       "      <td>40</td>\n",
       "      <td>0</td>\n",
       "      <td>0.121876</td>\n",
       "      <td>2600.0</td>\n",
       "      <td>4</td>\n",
       "      <td>0</td>\n",
       "      <td>0</td>\n",
       "      <td>0</td>\n",
       "      <td>1.0</td>\n",
       "    </tr>\n",
       "    <tr>\n",
       "      <th>2</th>\n",
       "      <td>3</td>\n",
       "      <td>0</td>\n",
       "      <td>0.658180</td>\n",
       "      <td>38</td>\n",
       "      <td>1</td>\n",
       "      <td>0.085113</td>\n",
       "      <td>3042.0</td>\n",
       "      <td>2</td>\n",
       "      <td>1</td>\n",
       "      <td>0</td>\n",
       "      <td>0</td>\n",
       "      <td>0.0</td>\n",
       "    </tr>\n",
       "    <tr>\n",
       "      <th>3</th>\n",
       "      <td>4</td>\n",
       "      <td>0</td>\n",
       "      <td>0.233810</td>\n",
       "      <td>30</td>\n",
       "      <td>0</td>\n",
       "      <td>0.036050</td>\n",
       "      <td>3300.0</td>\n",
       "      <td>5</td>\n",
       "      <td>0</td>\n",
       "      <td>0</td>\n",
       "      <td>0</td>\n",
       "      <td>0.0</td>\n",
       "    </tr>\n",
       "    <tr>\n",
       "      <th>4</th>\n",
       "      <td>5</td>\n",
       "      <td>0</td>\n",
       "      <td>0.907239</td>\n",
       "      <td>49</td>\n",
       "      <td>1</td>\n",
       "      <td>0.024926</td>\n",
       "      <td>63588.0</td>\n",
       "      <td>7</td>\n",
       "      <td>0</td>\n",
       "      <td>1</td>\n",
       "      <td>0</td>\n",
       "      <td>0.0</td>\n",
       "    </tr>\n",
       "    <tr>\n",
       "      <th>...</th>\n",
       "      <td>...</td>\n",
       "      <td>...</td>\n",
       "      <td>...</td>\n",
       "      <td>...</td>\n",
       "      <td>...</td>\n",
       "      <td>...</td>\n",
       "      <td>...</td>\n",
       "      <td>...</td>\n",
       "      <td>...</td>\n",
       "      <td>...</td>\n",
       "      <td>...</td>\n",
       "      <td>...</td>\n",
       "    </tr>\n",
       "    <tr>\n",
       "      <th>149995</th>\n",
       "      <td>149996</td>\n",
       "      <td>0</td>\n",
       "      <td>0.040674</td>\n",
       "      <td>74</td>\n",
       "      <td>0</td>\n",
       "      <td>0.225131</td>\n",
       "      <td>2100.0</td>\n",
       "      <td>4</td>\n",
       "      <td>0</td>\n",
       "      <td>1</td>\n",
       "      <td>0</td>\n",
       "      <td>0.0</td>\n",
       "    </tr>\n",
       "    <tr>\n",
       "      <th>149996</th>\n",
       "      <td>149997</td>\n",
       "      <td>0</td>\n",
       "      <td>0.299745</td>\n",
       "      <td>44</td>\n",
       "      <td>0</td>\n",
       "      <td>0.716562</td>\n",
       "      <td>5584.0</td>\n",
       "      <td>4</td>\n",
       "      <td>0</td>\n",
       "      <td>1</td>\n",
       "      <td>0</td>\n",
       "      <td>2.0</td>\n",
       "    </tr>\n",
       "    <tr>\n",
       "      <th>149997</th>\n",
       "      <td>149998</td>\n",
       "      <td>0</td>\n",
       "      <td>0.246044</td>\n",
       "      <td>58</td>\n",
       "      <td>0</td>\n",
       "      <td>3870.000000</td>\n",
       "      <td>NaN</td>\n",
       "      <td>18</td>\n",
       "      <td>0</td>\n",
       "      <td>1</td>\n",
       "      <td>0</td>\n",
       "      <td>0.0</td>\n",
       "    </tr>\n",
       "    <tr>\n",
       "      <th>149998</th>\n",
       "      <td>149999</td>\n",
       "      <td>0</td>\n",
       "      <td>0.000000</td>\n",
       "      <td>30</td>\n",
       "      <td>0</td>\n",
       "      <td>0.000000</td>\n",
       "      <td>5716.0</td>\n",
       "      <td>4</td>\n",
       "      <td>0</td>\n",
       "      <td>0</td>\n",
       "      <td>0</td>\n",
       "      <td>0.0</td>\n",
       "    </tr>\n",
       "    <tr>\n",
       "      <th>149999</th>\n",
       "      <td>150000</td>\n",
       "      <td>0</td>\n",
       "      <td>0.850283</td>\n",
       "      <td>64</td>\n",
       "      <td>0</td>\n",
       "      <td>0.249908</td>\n",
       "      <td>8158.0</td>\n",
       "      <td>8</td>\n",
       "      <td>0</td>\n",
       "      <td>2</td>\n",
       "      <td>0</td>\n",
       "      <td>0.0</td>\n",
       "    </tr>\n",
       "  </tbody>\n",
       "</table>\n",
       "<p>150000 rows × 12 columns</p>\n",
       "</div>"
      ],
      "text/plain": [
       "        Unnamed: 0  SeriousDlqin2yrs  RevolvingUtilizationOfUnsecuredLines  \\\n",
       "0                1                 1                              0.766127   \n",
       "1                2                 0                              0.957151   \n",
       "2                3                 0                              0.658180   \n",
       "3                4                 0                              0.233810   \n",
       "4                5                 0                              0.907239   \n",
       "...            ...               ...                                   ...   \n",
       "149995      149996                 0                              0.040674   \n",
       "149996      149997                 0                              0.299745   \n",
       "149997      149998                 0                              0.246044   \n",
       "149998      149999                 0                              0.000000   \n",
       "149999      150000                 0                              0.850283   \n",
       "\n",
       "        age  NumberOfTime30-59DaysPastDueNotWorse    DebtRatio  MonthlyIncome  \\\n",
       "0        45                                     2     0.802982         9120.0   \n",
       "1        40                                     0     0.121876         2600.0   \n",
       "2        38                                     1     0.085113         3042.0   \n",
       "3        30                                     0     0.036050         3300.0   \n",
       "4        49                                     1     0.024926        63588.0   \n",
       "...     ...                                   ...          ...            ...   \n",
       "149995   74                                     0     0.225131         2100.0   \n",
       "149996   44                                     0     0.716562         5584.0   \n",
       "149997   58                                     0  3870.000000            NaN   \n",
       "149998   30                                     0     0.000000         5716.0   \n",
       "149999   64                                     0     0.249908         8158.0   \n",
       "\n",
       "        NumberOfOpenCreditLinesAndLoans  NumberOfTimes90DaysLate  \\\n",
       "0                                    13                        0   \n",
       "1                                     4                        0   \n",
       "2                                     2                        1   \n",
       "3                                     5                        0   \n",
       "4                                     7                        0   \n",
       "...                                 ...                      ...   \n",
       "149995                                4                        0   \n",
       "149996                                4                        0   \n",
       "149997                               18                        0   \n",
       "149998                                4                        0   \n",
       "149999                                8                        0   \n",
       "\n",
       "        NumberRealEstateLoansOrLines  NumberOfTime60-89DaysPastDueNotWorse  \\\n",
       "0                                  6                                     0   \n",
       "1                                  0                                     0   \n",
       "2                                  0                                     0   \n",
       "3                                  0                                     0   \n",
       "4                                  1                                     0   \n",
       "...                              ...                                   ...   \n",
       "149995                             1                                     0   \n",
       "149996                             1                                     0   \n",
       "149997                             1                                     0   \n",
       "149998                             0                                     0   \n",
       "149999                             2                                     0   \n",
       "\n",
       "        NumberOfDependents  \n",
       "0                      2.0  \n",
       "1                      1.0  \n",
       "2                      0.0  \n",
       "3                      0.0  \n",
       "4                      0.0  \n",
       "...                    ...  \n",
       "149995                 0.0  \n",
       "149996                 2.0  \n",
       "149997                 0.0  \n",
       "149998                 0.0  \n",
       "149999                 0.0  \n",
       "\n",
       "[150000 rows x 12 columns]"
      ]
     },
     "execution_count": 5,
     "metadata": {},
     "output_type": "execute_result"
    }
   ],
   "source": [
    "# 数据加载\n",
    "data = pd.read_csv(\"F:\\BI\\第十五周\\score_card\\cs-training.csv\")\n",
    "data"
   ]
  },
  {
   "cell_type": "code",
   "execution_count": 6,
   "metadata": {
    "ExecuteTime": {
     "end_time": "2020-12-17T18:14:12.282029Z",
     "start_time": "2020-12-17T18:14:12.270942Z"
    }
   },
   "outputs": [],
   "source": [
    "data = data.iloc[:, 1:]"
   ]
  },
  {
   "cell_type": "code",
   "execution_count": 7,
   "metadata": {
    "ExecuteTime": {
     "end_time": "2020-12-17T18:14:12.380046Z",
     "start_time": "2020-12-17T18:14:12.286318Z"
    }
   },
   "outputs": [
    {
     "data": {
      "text/html": [
       "<div>\n",
       "<style scoped>\n",
       "    .dataframe tbody tr th:only-of-type {\n",
       "        vertical-align: middle;\n",
       "    }\n",
       "\n",
       "    .dataframe tbody tr th {\n",
       "        vertical-align: top;\n",
       "    }\n",
       "\n",
       "    .dataframe thead th {\n",
       "        text-align: right;\n",
       "    }\n",
       "</style>\n",
       "<table border=\"1\" class=\"dataframe\">\n",
       "  <thead>\n",
       "    <tr style=\"text-align: right;\">\n",
       "      <th></th>\n",
       "      <th>SeriousDlqin2yrs</th>\n",
       "      <th>RevolvingUtilizationOfUnsecuredLines</th>\n",
       "      <th>age</th>\n",
       "      <th>NumberOfTime30-59DaysPastDueNotWorse</th>\n",
       "      <th>DebtRatio</th>\n",
       "      <th>MonthlyIncome</th>\n",
       "      <th>NumberOfOpenCreditLinesAndLoans</th>\n",
       "      <th>NumberOfTimes90DaysLate</th>\n",
       "      <th>NumberRealEstateLoansOrLines</th>\n",
       "      <th>NumberOfTime60-89DaysPastDueNotWorse</th>\n",
       "      <th>NumberOfDependents</th>\n",
       "    </tr>\n",
       "  </thead>\n",
       "  <tbody>\n",
       "    <tr>\n",
       "      <th>count</th>\n",
       "      <td>150000.000000</td>\n",
       "      <td>150000.000000</td>\n",
       "      <td>150000.000000</td>\n",
       "      <td>150000.000000</td>\n",
       "      <td>150000.000000</td>\n",
       "      <td>1.202690e+05</td>\n",
       "      <td>150000.000000</td>\n",
       "      <td>150000.000000</td>\n",
       "      <td>150000.000000</td>\n",
       "      <td>150000.000000</td>\n",
       "      <td>146076.000000</td>\n",
       "    </tr>\n",
       "    <tr>\n",
       "      <th>mean</th>\n",
       "      <td>0.066840</td>\n",
       "      <td>6.048438</td>\n",
       "      <td>52.295207</td>\n",
       "      <td>0.421033</td>\n",
       "      <td>353.005076</td>\n",
       "      <td>6.670221e+03</td>\n",
       "      <td>8.452760</td>\n",
       "      <td>0.265973</td>\n",
       "      <td>1.018240</td>\n",
       "      <td>0.240387</td>\n",
       "      <td>0.757222</td>\n",
       "    </tr>\n",
       "    <tr>\n",
       "      <th>std</th>\n",
       "      <td>0.249746</td>\n",
       "      <td>249.755371</td>\n",
       "      <td>14.771866</td>\n",
       "      <td>4.192781</td>\n",
       "      <td>2037.818523</td>\n",
       "      <td>1.438467e+04</td>\n",
       "      <td>5.145951</td>\n",
       "      <td>4.169304</td>\n",
       "      <td>1.129771</td>\n",
       "      <td>4.155179</td>\n",
       "      <td>1.115086</td>\n",
       "    </tr>\n",
       "    <tr>\n",
       "      <th>min</th>\n",
       "      <td>0.000000</td>\n",
       "      <td>0.000000</td>\n",
       "      <td>0.000000</td>\n",
       "      <td>0.000000</td>\n",
       "      <td>0.000000</td>\n",
       "      <td>0.000000e+00</td>\n",
       "      <td>0.000000</td>\n",
       "      <td>0.000000</td>\n",
       "      <td>0.000000</td>\n",
       "      <td>0.000000</td>\n",
       "      <td>0.000000</td>\n",
       "    </tr>\n",
       "    <tr>\n",
       "      <th>25%</th>\n",
       "      <td>0.000000</td>\n",
       "      <td>0.029867</td>\n",
       "      <td>41.000000</td>\n",
       "      <td>0.000000</td>\n",
       "      <td>0.175074</td>\n",
       "      <td>3.400000e+03</td>\n",
       "      <td>5.000000</td>\n",
       "      <td>0.000000</td>\n",
       "      <td>0.000000</td>\n",
       "      <td>0.000000</td>\n",
       "      <td>0.000000</td>\n",
       "    </tr>\n",
       "    <tr>\n",
       "      <th>50%</th>\n",
       "      <td>0.000000</td>\n",
       "      <td>0.154181</td>\n",
       "      <td>52.000000</td>\n",
       "      <td>0.000000</td>\n",
       "      <td>0.366508</td>\n",
       "      <td>5.400000e+03</td>\n",
       "      <td>8.000000</td>\n",
       "      <td>0.000000</td>\n",
       "      <td>1.000000</td>\n",
       "      <td>0.000000</td>\n",
       "      <td>0.000000</td>\n",
       "    </tr>\n",
       "    <tr>\n",
       "      <th>75%</th>\n",
       "      <td>0.000000</td>\n",
       "      <td>0.559046</td>\n",
       "      <td>63.000000</td>\n",
       "      <td>0.000000</td>\n",
       "      <td>0.868254</td>\n",
       "      <td>8.249000e+03</td>\n",
       "      <td>11.000000</td>\n",
       "      <td>0.000000</td>\n",
       "      <td>2.000000</td>\n",
       "      <td>0.000000</td>\n",
       "      <td>1.000000</td>\n",
       "    </tr>\n",
       "    <tr>\n",
       "      <th>max</th>\n",
       "      <td>1.000000</td>\n",
       "      <td>50708.000000</td>\n",
       "      <td>109.000000</td>\n",
       "      <td>98.000000</td>\n",
       "      <td>329664.000000</td>\n",
       "      <td>3.008750e+06</td>\n",
       "      <td>58.000000</td>\n",
       "      <td>98.000000</td>\n",
       "      <td>54.000000</td>\n",
       "      <td>98.000000</td>\n",
       "      <td>20.000000</td>\n",
       "    </tr>\n",
       "  </tbody>\n",
       "</table>\n",
       "</div>"
      ],
      "text/plain": [
       "       SeriousDlqin2yrs  RevolvingUtilizationOfUnsecuredLines            age  \\\n",
       "count     150000.000000                         150000.000000  150000.000000   \n",
       "mean           0.066840                              6.048438      52.295207   \n",
       "std            0.249746                            249.755371      14.771866   \n",
       "min            0.000000                              0.000000       0.000000   \n",
       "25%            0.000000                              0.029867      41.000000   \n",
       "50%            0.000000                              0.154181      52.000000   \n",
       "75%            0.000000                              0.559046      63.000000   \n",
       "max            1.000000                          50708.000000     109.000000   \n",
       "\n",
       "       NumberOfTime30-59DaysPastDueNotWorse      DebtRatio  MonthlyIncome  \\\n",
       "count                         150000.000000  150000.000000   1.202690e+05   \n",
       "mean                               0.421033     353.005076   6.670221e+03   \n",
       "std                                4.192781    2037.818523   1.438467e+04   \n",
       "min                                0.000000       0.000000   0.000000e+00   \n",
       "25%                                0.000000       0.175074   3.400000e+03   \n",
       "50%                                0.000000       0.366508   5.400000e+03   \n",
       "75%                                0.000000       0.868254   8.249000e+03   \n",
       "max                               98.000000  329664.000000   3.008750e+06   \n",
       "\n",
       "       NumberOfOpenCreditLinesAndLoans  NumberOfTimes90DaysLate  \\\n",
       "count                    150000.000000            150000.000000   \n",
       "mean                          8.452760                 0.265973   \n",
       "std                           5.145951                 4.169304   \n",
       "min                           0.000000                 0.000000   \n",
       "25%                           5.000000                 0.000000   \n",
       "50%                           8.000000                 0.000000   \n",
       "75%                          11.000000                 0.000000   \n",
       "max                          58.000000                98.000000   \n",
       "\n",
       "       NumberRealEstateLoansOrLines  NumberOfTime60-89DaysPastDueNotWorse  \\\n",
       "count                 150000.000000                         150000.000000   \n",
       "mean                       1.018240                              0.240387   \n",
       "std                        1.129771                              4.155179   \n",
       "min                        0.000000                              0.000000   \n",
       "25%                        0.000000                              0.000000   \n",
       "50%                        1.000000                              0.000000   \n",
       "75%                        2.000000                              0.000000   \n",
       "max                       54.000000                             98.000000   \n",
       "\n",
       "       NumberOfDependents  \n",
       "count       146076.000000  \n",
       "mean             0.757222  \n",
       "std              1.115086  \n",
       "min              0.000000  \n",
       "25%              0.000000  \n",
       "50%              0.000000  \n",
       "75%              1.000000  \n",
       "max             20.000000  "
      ]
     },
     "execution_count": 7,
     "metadata": {},
     "output_type": "execute_result"
    }
   ],
   "source": [
    "data.describe()"
   ]
  },
  {
   "cell_type": "code",
   "execution_count": 8,
   "metadata": {
    "ExecuteTime": {
     "end_time": "2020-12-17T18:14:12.390110Z",
     "start_time": "2020-12-17T18:14:12.383514Z"
    }
   },
   "outputs": [
    {
     "data": {
      "text/plain": [
       "SeriousDlqin2yrs                          int64\n",
       "RevolvingUtilizationOfUnsecuredLines    float64\n",
       "age                                       int64\n",
       "NumberOfTime30-59DaysPastDueNotWorse      int64\n",
       "DebtRatio                               float64\n",
       "MonthlyIncome                           float64\n",
       "NumberOfOpenCreditLinesAndLoans           int64\n",
       "NumberOfTimes90DaysLate                   int64\n",
       "NumberRealEstateLoansOrLines              int64\n",
       "NumberOfTime60-89DaysPastDueNotWorse      int64\n",
       "NumberOfDependents                      float64\n",
       "dtype: object"
      ]
     },
     "execution_count": 8,
     "metadata": {},
     "output_type": "execute_result"
    }
   ],
   "source": [
    "data.dtypes"
   ]
  },
  {
   "cell_type": "markdown",
   "metadata": {},
   "source": [
    "EDA"
   ]
  },
  {
   "cell_type": "code",
   "execution_count": 7,
   "metadata": {
    "ExecuteTime": {
     "end_time": "2020-12-17T18:14:13.060970Z",
     "start_time": "2020-12-17T18:14:13.051290Z"
    },
    "scrolled": true
   },
   "outputs": [
    {
     "data": {
      "text/plain": [
       "SeriousDlqin2yrs                            0\n",
       "RevolvingUtilizationOfUnsecuredLines        0\n",
       "age                                         0\n",
       "NumberOfTime30-59DaysPastDueNotWorse        0\n",
       "DebtRatio                                   0\n",
       "MonthlyIncome                           29731\n",
       "NumberOfOpenCreditLinesAndLoans             0\n",
       "NumberOfTimes90DaysLate                     0\n",
       "NumberRealEstateLoansOrLines                0\n",
       "NumberOfTime60-89DaysPastDueNotWorse        0\n",
       "NumberOfDependents                       3924\n",
       "dtype: int64"
      ]
     },
     "execution_count": 7,
     "metadata": {},
     "output_type": "execute_result"
    }
   ],
   "source": [
    "# 缺失值填充\n",
    "data.isna().sum()"
   ]
  },
  {
   "cell_type": "code",
   "execution_count": 9,
   "metadata": {
    "ExecuteTime": {
     "end_time": "2020-12-17T18:14:13.092598Z",
     "start_time": "2020-12-17T18:14:13.076113Z"
    }
   },
   "outputs": [],
   "source": [
    "# 使用中位数填充缺失值，并将数据类型修改为整数类型\n",
    "data['NumberOfDependents'] = data['NumberOfDependents'].fillna(\n",
    "    data['NumberOfDependents'].median()).astype(\"int\")\n",
    "data['MonthlyIncome'] = data['MonthlyIncome'].fillna(data['MonthlyIncome'].median())"
   ]
  },
  {
   "cell_type": "code",
   "execution_count": 10,
   "metadata": {
    "ExecuteTime": {
     "end_time": "2020-12-17T18:14:13.118009Z",
     "start_time": "2020-12-17T18:14:13.095220Z"
    }
   },
   "outputs": [
    {
     "data": {
      "text/plain": [
       "SeriousDlqin2yrs                        0\n",
       "RevolvingUtilizationOfUnsecuredLines    0\n",
       "age                                     0\n",
       "NumberOfTime30-59DaysPastDueNotWorse    0\n",
       "DebtRatio                               0\n",
       "MonthlyIncome                           0\n",
       "NumberOfOpenCreditLinesAndLoans         0\n",
       "NumberOfTimes90DaysLate                 0\n",
       "NumberRealEstateLoansOrLines            0\n",
       "NumberOfTime60-89DaysPastDueNotWorse    0\n",
       "NumberOfDependents                      0\n",
       "dtype: int64"
      ]
     },
     "execution_count": 10,
     "metadata": {},
     "output_type": "execute_result"
    }
   ],
   "source": [
    "data.isna().sum()"
   ]
  },
  {
   "cell_type": "code",
   "execution_count": 14,
   "metadata": {
    "ExecuteTime": {
     "end_time": "2020-12-17T18:14:13.984101Z",
     "start_time": "2020-12-17T18:14:13.266379Z"
    }
   },
   "outputs": [
    {
     "data": {
      "image/png": "[encoded data removed]",
      "text/plain": [
       "<Figure size 432x288 with 1 Axes>"
      ]
     },
     "metadata": {},
     "output_type": "display_data"
    }
   ],
   "source": [
    "# RevolvingUtilizationOfUnsecuredLines 样本数分布统计\n",
    "ax = data[['RevolvingUtilizationOfUnsecuredLines']].plot(kind='hist')\n",
    "ax.set_yscale(\"log\")"
   ]
  },
  {
   "cell_type": "code",
   "execution_count": 15,
   "metadata": {
    "ExecuteTime": {
     "end_time": "2020-12-17T18:14:14.001675Z",
     "start_time": "2020-12-17T18:14:13.987008Z"
    }
   },
   "outputs": [
    {
     "data": {
      "text/plain": [
       "count    150000.000000\n",
       "mean          6.048438\n",
       "std         249.755371\n",
       "min           0.000000\n",
       "25%           0.029867\n",
       "50%           0.154181\n",
       "75%           0.559046\n",
       "max       50708.000000\n",
       "Name: RevolvingUtilizationOfUnsecuredLines, dtype: float64"
      ]
     },
     "execution_count": 15,
     "metadata": {},
     "output_type": "execute_result"
    }
   ],
   "source": [
    "data['RevolvingUtilizationOfUnsecuredLines'].describe()"
   ]
  },
  {
   "cell_type": "code",
   "execution_count": 16,
   "metadata": {
    "ExecuteTime": {
     "end_time": "2020-12-17T18:14:14.033858Z",
     "start_time": "2020-12-17T18:14:14.004447Z"
    }
   },
   "outputs": [
    {
     "data": {
      "text/html": [
       "<div>\n",
       "<style scoped>\n",
       "    .dataframe tbody tr th:only-of-type {\n",
       "        vertical-align: middle;\n",
       "    }\n",
       "\n",
       "    .dataframe tbody tr th {\n",
       "        vertical-align: top;\n",
       "    }\n",
       "\n",
       "    .dataframe thead th {\n",
       "        text-align: right;\n",
       "    }\n",
       "</style>\n",
       "<table border=\"1\" class=\"dataframe\">\n",
       "  <thead>\n",
       "    <tr style=\"text-align: right;\">\n",
       "      <th></th>\n",
       "      <th>count</th>\n",
       "      <th>mean</th>\n",
       "      <th>std</th>\n",
       "      <th>min</th>\n",
       "      <th>25%</th>\n",
       "      <th>50%</th>\n",
       "      <th>75%</th>\n",
       "      <th>max</th>\n",
       "    </tr>\n",
       "    <tr>\n",
       "      <th>SeriousDlqin2yrs</th>\n",
       "      <th></th>\n",
       "      <th></th>\n",
       "      <th></th>\n",
       "      <th></th>\n",
       "      <th></th>\n",
       "      <th></th>\n",
       "      <th></th>\n",
       "      <th></th>\n",
       "    </tr>\n",
       "  </thead>\n",
       "  <tbody>\n",
       "    <tr>\n",
       "      <th>0</th>\n",
       "      <td>139974.0</td>\n",
       "      <td>6.168855</td>\n",
       "      <td>256.126350</td>\n",
       "      <td>0.0</td>\n",
       "      <td>0.026983</td>\n",
       "      <td>0.133288</td>\n",
       "      <td>0.487686</td>\n",
       "      <td>50708.0</td>\n",
       "    </tr>\n",
       "    <tr>\n",
       "      <th>1</th>\n",
       "      <td>10026.0</td>\n",
       "      <td>4.367282</td>\n",
       "      <td>131.835778</td>\n",
       "      <td>0.0</td>\n",
       "      <td>0.398219</td>\n",
       "      <td>0.838853</td>\n",
       "      <td>1.000000</td>\n",
       "      <td>8328.0</td>\n",
       "    </tr>\n",
       "  </tbody>\n",
       "</table>\n",
       "</div>"
      ],
      "text/plain": [
       "                     count      mean         std  min       25%       50%  \\\n",
       "SeriousDlqin2yrs                                                            \n",
       "0                 139974.0  6.168855  256.126350  0.0  0.026983  0.133288   \n",
       "1                  10026.0  4.367282  131.835778  0.0  0.398219  0.838853   \n",
       "\n",
       "                       75%      max  \n",
       "SeriousDlqin2yrs                     \n",
       "0                 0.487686  50708.0  \n",
       "1                 1.000000   8328.0  "
      ]
     },
     "execution_count": 16,
     "metadata": {},
     "output_type": "execute_result"
    }
   ],
   "source": [
    "# RevolvingUtilizationOfUnsecuredLines 违约查看\n",
    "groups = data.groupby(\"SeriousDlqin2yrs\")['RevolvingUtilizationOfUnsecuredLines']\n",
    "groups.describe()"
   ]
  },
  {
   "cell_type": "code",
   "execution_count": 17,
   "metadata": {
    "ExecuteTime": {
     "end_time": "2020-12-17T18:14:14.617059Z",
     "start_time": "2020-12-17T18:14:14.036739Z"
    }
   },
   "outputs": [
    {
     "data": {
      "text/plain": [
       "SeriousDlqin2yrs\n",
       "0    AxesSubplot(0.125,0.125;0.775x0.755)\n",
       "1    AxesSubplot(0.125,0.125;0.775x0.755)\n",
       "Name: RevolvingUtilizationOfUnsecuredLines, dtype: object"
      ]
     },
     "execution_count": 17,
     "metadata": {},
     "output_type": "execute_result"
    },
    {
     "data": {
      "image/png": "[encoded data removed]",
      "text/plain": [
       "<Figure size 1152x288 with 1 Axes>"
      ]
     },
     "metadata": {},
     "output_type": "display_data"
    }
   ],
   "source": [
    "groups.hist(figsize=(16, 4), stacked=True, log=True, legend=True)"
   ]
  },
  {
   "cell_type": "markdown",
   "metadata": {
    "ExecuteTime": {
     "end_time": "2020-12-12T08:22:04.740468Z",
     "start_time": "2020-12-12T08:22:04.732320Z"
    }
   },
   "source": [
    "除房地产和汽车贷款等无分期付款债务外，信用卡和个人信用额度的总余额除以信贷限额很高时，反而没有违约。"
   ]
  },
  {
   "cell_type": "markdown",
   "metadata": {},
   "source": [
    "age "
   ]
  },
  {
   "cell_type": "code",
   "execution_count": 18,
   "metadata": {
    "ExecuteTime": {
     "end_time": "2020-12-17T18:14:14.633446Z",
     "start_time": "2020-12-17T18:14:14.620987Z"
    }
   },
   "outputs": [
    {
     "data": {
      "text/plain": [
       "count    150000.000000\n",
       "mean         52.295207\n",
       "std          14.771866\n",
       "min           0.000000\n",
       "25%          41.000000\n",
       "50%          52.000000\n",
       "75%          63.000000\n",
       "max         109.000000\n",
       "Name: age, dtype: float64"
      ]
     },
     "execution_count": 18,
     "metadata": {},
     "output_type": "execute_result"
    }
   ],
   "source": [
    "# 不同年龄样本\n",
    "data['age'].describe()"
   ]
  },
  {
   "cell_type": "code",
   "execution_count": 19,
   "metadata": {
    "ExecuteTime": {
     "end_time": "2020-12-17T18:14:16.578056Z",
     "start_time": "2020-12-17T18:14:14.638445Z"
    }
   },
   "outputs": [
    {
     "data": {
      "image/png": "[encoded data removed]",
      "text/plain": [
       "<Figure size 1152x288 with 1 Axes>"
      ]
     },
     "metadata": {},
     "output_type": "display_data"
    }
   ],
   "source": [
    "plt.figure(figsize=(16, 4))\n",
    "ax = sns.countplot(data=data, x='age')\n",
    "_ = ax.set_xticklabels(sorted(data['age'].unique()), rotation=90)"
   ]
  },
  {
   "cell_type": "code",
   "execution_count": 20,
   "metadata": {
    "ExecuteTime": {
     "end_time": "2020-12-17T18:14:18.366558Z",
     "start_time": "2020-12-17T18:14:16.580638Z"
    }
   },
   "outputs": [
    {
     "data": {
      "text/plain": [
       "<seaborn.axisgrid.FacetGrid at 0x7ff9f8e17310>"
      ]
     },
     "execution_count": 20,
     "metadata": {},
     "output_type": "execute_result"
    },
    {
     "data": {
      "image/png": "[encoded data removed]",
      "text/plain": [
       "<Figure size 459.3x360 with 1 Axes>"
      ]
     },
     "metadata": {},
     "output_type": "display_data"
    }
   ],
   "source": [
    "# 不同年龄违约情况\n",
    "sns.displot(data=data, x='age', hue='SeriousDlqin2yrs', multiple=\"stack\")"
   ]
  },
  {
   "cell_type": "markdown",
   "metadata": {},
   "source": [
    "如果要保证每个分桶内都有正样本，则分组的bins可以是`[-math.inf, 30, 40, 50, 60, 70, math.inf]`"
   ]
  },
  {
   "cell_type": "markdown",
   "metadata": {},
   "source": [
    "NumberOfTime30-59DaysPastDueNotWorse"
   ]
  },
  {
   "cell_type": "code",
   "execution_count": 21,
   "metadata": {
    "ExecuteTime": {
     "end_time": "2020-12-17T18:14:19.150711Z",
     "start_time": "2020-12-17T18:14:18.371769Z"
    }
   },
   "outputs": [
    {
     "data": {
      "image/png": "[encoded data removed]",
      "text/plain": [
       "<Figure size 432x288 with 1 Axes>"
      ]
     },
     "metadata": {},
     "output_type": "display_data"
    }
   ],
   "source": [
    "# 30-59天不同逾期次数的样本数\n",
    "ax = sns.countplot(data=data, x='NumberOfTime30-59DaysPastDueNotWorse')\n",
    "ax.set_yscale('log')"
   ]
  },
  {
   "cell_type": "markdown",
   "metadata": {},
   "source": [
    "绝大多数样本没有发生过逾期"
   ]
  },
  {
   "cell_type": "code",
   "execution_count": 22,
   "metadata": {
    "ExecuteTime": {
     "end_time": "2020-12-17T18:14:20.181463Z",
     "start_time": "2020-12-17T18:14:19.154512Z"
    }
   },
   "outputs": [
    {
     "data": {
      "image/png": "[encoded data removed]",
      "text/plain": [
       "<Figure size 432x288 with 1 Axes>"
      ]
     },
     "metadata": {},
     "output_type": "display_data"
    }
   ],
   "source": [
    "# 30-59天不同逾期次数中违约与未违约样本数统计\n",
    "ax = sns.countplot(data=data,\n",
    "                   x='NumberOfTime30-59DaysPastDueNotWorse',\n",
    "                   hue='SeriousDlqin2yrs')\n",
    "ax.set_yscale('log')"
   ]
  },
  {
   "cell_type": "markdown",
   "metadata": {},
   "source": [
    "一共16个取值，为了保证分桶后，每一桶都有正样本，则分桶bins可以是`[-math.inf, 0, 1, 2, 3, 4, 5, 6, 7, 8, math.inf]`"
   ]
  },
  {
   "cell_type": "code",
   "execution_count": 23,
   "metadata": {
    "ExecuteTime": {
     "end_time": "2020-12-17T18:14:20.866052Z",
     "start_time": "2020-12-17T18:14:20.198180Z"
    }
   },
   "outputs": [
    {
     "data": {
      "image/png": "[encoded data removed]",
      "text/plain": [
       "<Figure size 432x288 with 1 Axes>"
      ]
     },
     "metadata": {},
     "output_type": "display_data"
    }
   ],
   "source": [
    "# 债务比\n",
    "ax = data[['DebtRatio']].plot(kind='hist')\n",
    "ax.set_yscale(\"log\")"
   ]
  },
  {
   "cell_type": "code",
   "execution_count": 24,
   "metadata": {
    "ExecuteTime": {
     "end_time": "2020-12-17T18:14:20.890250Z",
     "start_time": "2020-12-17T18:14:20.872871Z"
    }
   },
   "outputs": [
    {
     "data": {
      "text/plain": [
       "count    150000.000000\n",
       "mean        353.005076\n",
       "std        2037.818523\n",
       "min           0.000000\n",
       "25%           0.175074\n",
       "50%           0.366508\n",
       "75%           0.868254\n",
       "max      329664.000000\n",
       "Name: DebtRatio, dtype: float64"
      ]
     },
     "execution_count": 24,
     "metadata": {},
     "output_type": "execute_result"
    }
   ],
   "source": [
    "data['DebtRatio'].describe()"
   ]
  },
  {
   "cell_type": "code",
   "execution_count": 25,
   "metadata": {
    "ExecuteTime": {
     "end_time": "2020-12-17T18:14:20.940829Z",
     "start_time": "2020-12-17T18:14:20.893124Z"
    }
   },
   "outputs": [
    {
     "data": {
      "text/html": [
       "<div>\n",
       "<style scoped>\n",
       "    .dataframe tbody tr th:only-of-type {\n",
       "        vertical-align: middle;\n",
       "    }\n",
       "\n",
       "    .dataframe tbody tr th {\n",
       "        vertical-align: top;\n",
       "    }\n",
       "\n",
       "    .dataframe thead th {\n",
       "        text-align: right;\n",
       "    }\n",
       "</style>\n",
       "<table border=\"1\" class=\"dataframe\">\n",
       "  <thead>\n",
       "    <tr style=\"text-align: right;\">\n",
       "      <th></th>\n",
       "      <th>count</th>\n",
       "      <th>mean</th>\n",
       "      <th>std</th>\n",
       "      <th>min</th>\n",
       "      <th>25%</th>\n",
       "      <th>50%</th>\n",
       "      <th>75%</th>\n",
       "      <th>max</th>\n",
       "    </tr>\n",
       "    <tr>\n",
       "      <th>SeriousDlqin2yrs</th>\n",
       "      <th></th>\n",
       "      <th></th>\n",
       "      <th></th>\n",
       "      <th></th>\n",
       "      <th></th>\n",
       "      <th></th>\n",
       "      <th></th>\n",
       "      <th></th>\n",
       "    </tr>\n",
       "  </thead>\n",
       "  <tbody>\n",
       "    <tr>\n",
       "      <th>0</th>\n",
       "      <td>139974.0</td>\n",
       "      <td>357.151168</td>\n",
       "      <td>2083.282060</td>\n",
       "      <td>0.0</td>\n",
       "      <td>0.173707</td>\n",
       "      <td>0.362659</td>\n",
       "      <td>0.865608</td>\n",
       "      <td>329664.0</td>\n",
       "    </tr>\n",
       "    <tr>\n",
       "      <th>1</th>\n",
       "      <td>10026.0</td>\n",
       "      <td>295.121066</td>\n",
       "      <td>1238.360283</td>\n",
       "      <td>0.0</td>\n",
       "      <td>0.193979</td>\n",
       "      <td>0.428227</td>\n",
       "      <td>0.892371</td>\n",
       "      <td>38793.0</td>\n",
       "    </tr>\n",
       "  </tbody>\n",
       "</table>\n",
       "</div>"
      ],
      "text/plain": [
       "                     count        mean          std  min       25%       50%  \\\n",
       "SeriousDlqin2yrs                                                               \n",
       "0                 139974.0  357.151168  2083.282060  0.0  0.173707  0.362659   \n",
       "1                  10026.0  295.121066  1238.360283  0.0  0.193979  0.428227   \n",
       "\n",
       "                       75%       max  \n",
       "SeriousDlqin2yrs                      \n",
       "0                 0.865608  329664.0  \n",
       "1                 0.892371   38793.0  "
      ]
     },
     "execution_count": 25,
     "metadata": {},
     "output_type": "execute_result"
    }
   ],
   "source": [
    "# 违约与不违约下的债务比的分布\n",
    "groups = data.groupby(\"SeriousDlqin2yrs\")['DebtRatio']\n",
    "groups.describe()"
   ]
  },
  {
   "cell_type": "code",
   "execution_count": 26,
   "metadata": {
    "ExecuteTime": {
     "end_time": "2020-12-17T18:14:21.514279Z",
     "start_time": "2020-12-17T18:14:20.944435Z"
    }
   },
   "outputs": [
    {
     "data": {
      "text/plain": [
       "SeriousDlqin2yrs\n",
       "0    AxesSubplot(0.125,0.125;0.775x0.755)\n",
       "1    AxesSubplot(0.125,0.125;0.775x0.755)\n",
       "Name: DebtRatio, dtype: object"
      ]
     },
     "execution_count": 26,
     "metadata": {},
     "output_type": "execute_result"
    },
    {
     "data": {
      "image/png": "[encoded data removed]",
      "text/plain": [
       "<Figure size 1152x288 with 1 Axes>"
      ]
     },
     "metadata": {},
     "output_type": "display_data"
    }
   ],
   "source": [
    "groups.hist(figsize=(16, 4), stacked=True, log=True, legend=True)"
   ]
  },
  {
   "cell_type": "markdown",
   "metadata": {},
   "source": [
    "违约与未违约的债务比绝大部分集中在0~4W之间。债务比只在0-38793.0之间存在违约，且看起来债务比越低越容易违约。"
   ]
  },
  {
   "cell_type": "code",
   "execution_count": 27,
   "metadata": {
    "ExecuteTime": {
     "end_time": "2020-12-17T18:14:21.531862Z",
     "start_time": "2020-12-17T18:14:21.517327Z"
    }
   },
   "outputs": [
    {
     "data": {
      "text/plain": [
       "count    1.500000e+05\n",
       "mean     6.418455e+03\n",
       "std      1.289040e+04\n",
       "min      0.000000e+00\n",
       "25%      3.903000e+03\n",
       "50%      5.400000e+03\n",
       "75%      7.400000e+03\n",
       "max      3.008750e+06\n",
       "Name: MonthlyIncome, dtype: float64"
      ]
     },
     "execution_count": 27,
     "metadata": {},
     "output_type": "execute_result"
    }
   ],
   "source": [
    "# 每月收入\n",
    "data['MonthlyIncome'].describe()"
   ]
  },
  {
   "cell_type": "code",
   "execution_count": 28,
   "metadata": {
    "ExecuteTime": {
     "end_time": "2020-12-17T18:14:22.161354Z",
     "start_time": "2020-12-17T18:14:21.534272Z"
    }
   },
   "outputs": [
    {
     "data": {
      "image/png": "[encoded data removed]",
      "text/plain": [
       "<Figure size 432x288 with 1 Axes>"
      ]
     },
     "metadata": {},
     "output_type": "display_data"
    }
   ],
   "source": [
    "ax = data[['MonthlyIncome']].plot(kind='hist')\n",
    "ax.set_yscale(\"log\")"
   ]
  },
  {
   "cell_type": "code",
   "execution_count": 29,
   "metadata": {
    "ExecuteTime": {
     "end_time": "2020-12-17T18:14:22.758654Z",
     "start_time": "2020-12-17T18:14:22.164348Z"
    }
   },
   "outputs": [
    {
     "data": {
      "text/plain": [
       "SeriousDlqin2yrs\n",
       "0    AxesSubplot(0.125,0.125;0.775x0.755)\n",
       "1    AxesSubplot(0.125,0.125;0.775x0.755)\n",
       "Name: MonthlyIncome, dtype: object"
      ]
     },
     "execution_count": 29,
     "metadata": {},
     "output_type": "execute_result"
    },
    {
     "data": {
      "image/png": "[encoded data removed]",
      "text/plain": [
       "<Figure size 1152x288 with 1 Axes>"
      ]
     },
     "metadata": {},
     "output_type": "display_data"
    }
   ],
   "source": [
    "# 违约与未违约用户的每月收入分布\n",
    "data.groupby(\"SeriousDlqin2yrs\")['MonthlyIncome'].hist(figsize=(16, 4),\n",
    "                                                     stacked=True,\n",
    "                                                     log=True,\n",
    "                                                     legend=True)"
   ]
  },
  {
   "cell_type": "code",
   "execution_count": 30,
   "metadata": {
    "ExecuteTime": {
     "end_time": "2020-12-17T18:14:22.791033Z",
     "start_time": "2020-12-17T18:14:22.760884Z"
    }
   },
   "outputs": [
    {
     "data": {
      "text/html": [
       "<div>\n",
       "<style scoped>\n",
       "    .dataframe tbody tr th:only-of-type {\n",
       "        vertical-align: middle;\n",
       "    }\n",
       "\n",
       "    .dataframe tbody tr th {\n",
       "        vertical-align: top;\n",
       "    }\n",
       "\n",
       "    .dataframe thead th {\n",
       "        text-align: right;\n",
       "    }\n",
       "</style>\n",
       "<table border=\"1\" class=\"dataframe\">\n",
       "  <thead>\n",
       "    <tr style=\"text-align: right;\">\n",
       "      <th></th>\n",
       "      <th>count</th>\n",
       "      <th>mean</th>\n",
       "      <th>std</th>\n",
       "      <th>min</th>\n",
       "      <th>25%</th>\n",
       "      <th>50%</th>\n",
       "      <th>75%</th>\n",
       "      <th>max</th>\n",
       "    </tr>\n",
       "    <tr>\n",
       "      <th>SeriousDlqin2yrs</th>\n",
       "      <th></th>\n",
       "      <th></th>\n",
       "      <th></th>\n",
       "      <th></th>\n",
       "      <th></th>\n",
       "      <th></th>\n",
       "      <th></th>\n",
       "      <th></th>\n",
       "    </tr>\n",
       "  </thead>\n",
       "  <tbody>\n",
       "    <tr>\n",
       "      <th>0</th>\n",
       "      <td>139974.0</td>\n",
       "      <td>6477.623137</td>\n",
       "      <td>13256.598551</td>\n",
       "      <td>0.0</td>\n",
       "      <td>4000.0</td>\n",
       "      <td>5400.0</td>\n",
       "      <td>7500.0</td>\n",
       "      <td>3008750.0</td>\n",
       "    </tr>\n",
       "    <tr>\n",
       "      <th>1</th>\n",
       "      <td>10026.0</td>\n",
       "      <td>5592.401456</td>\n",
       "      <td>5635.257699</td>\n",
       "      <td>0.0</td>\n",
       "      <td>3200.0</td>\n",
       "      <td>5240.0</td>\n",
       "      <td>6200.0</td>\n",
       "      <td>250000.0</td>\n",
       "    </tr>\n",
       "  </tbody>\n",
       "</table>\n",
       "</div>"
      ],
      "text/plain": [
       "                     count         mean           std  min     25%     50%  \\\n",
       "SeriousDlqin2yrs                                                             \n",
       "0                 139974.0  6477.623137  13256.598551  0.0  4000.0  5400.0   \n",
       "1                  10026.0  5592.401456   5635.257699  0.0  3200.0  5240.0   \n",
       "\n",
       "                     75%        max  \n",
       "SeriousDlqin2yrs                     \n",
       "0                 7500.0  3008750.0  \n",
       "1                 6200.0   250000.0  "
      ]
     },
     "execution_count": 30,
     "metadata": {},
     "output_type": "execute_result"
    }
   ],
   "source": [
    "data.groupby(\"SeriousDlqin2yrs\")['MonthlyIncome'].describe()"
   ]
  },
  {
   "cell_type": "markdown",
   "metadata": {},
   "source": [
    "月收入越低，越容易违约"
   ]
  },
  {
   "cell_type": "code",
   "execution_count": 31,
   "metadata": {
    "ExecuteTime": {
     "end_time": "2020-12-17T18:14:24.801600Z",
     "start_time": "2020-12-17T18:14:22.793939Z"
    }
   },
   "outputs": [
    {
     "data": {
      "image/png": "[encoded data removed]",
      "text/plain": [
       "<Figure size 1179.3x360 with 1 Axes>"
      ]
     },
     "metadata": {},
     "output_type": "display_data"
    }
   ],
   "source": [
    "# 违约与未违约样本的公开贷款和信用额度的数量分布\n",
    "fcg = sns.displot(data=data,\n",
    "                  x='NumberOfOpenCreditLinesAndLoans',\n",
    "                  hue='SeriousDlqin2yrs',\n",
    "                  legend=True,\n",
    "                  multiple=\"stack\",\n",
    "                  height=5,\n",
    "                  aspect=3)\n",
    "fcg.ax.set_yscale('log')"
   ]
  },
  {
   "cell_type": "markdown",
   "metadata": {},
   "source": [
    "违约与未违约样本的公开贷款和信用额度数量的在0-30之间的分布基本一致。"
   ]
  },
  {
   "cell_type": "code",
   "execution_count": 32,
   "metadata": {
    "ExecuteTime": {
     "end_time": "2020-12-17T18:14:25.735519Z",
     "start_time": "2020-12-17T18:14:24.804614Z"
    }
   },
   "outputs": [
    {
     "data": {
      "image/png": "[encoded data removed]",
      "text/plain": [
       "<Figure size 819.3x360 with 1 Axes>"
      ]
     },
     "metadata": {},
     "output_type": "display_data"
    }
   ],
   "source": [
    "# 违约与未违约样本的NumberOfTimes90DaysLate统计\n",
    "fcg = sns.displot(data=data,\n",
    "                  x='NumberOfTimes90DaysLate',\n",
    "                  hue='SeriousDlqin2yrs',\n",
    "                  legend=True,\n",
    "                  multiple=\"stack\",\n",
    "                  height=5,\n",
    "                  aspect=2)\n",
    "fcg.ax.set_yscale('log')"
   ]
  },
  {
   "cell_type": "markdown",
   "metadata": {},
   "source": [
    "确保每个桶内有正样本，根据可视化结果得出的bins=\n",
    "`[-math.inf, 0, 1, 2, 3, 4, 5, 6, 8, 20, math.inf]`"
   ]
  },
  {
   "cell_type": "code",
   "execution_count": 33,
   "metadata": {
    "ExecuteTime": {
     "end_time": "2020-12-17T18:14:26.693535Z",
     "start_time": "2020-12-17T18:14:25.738067Z"
    }
   },
   "outputs": [
    {
     "data": {
      "image/png": "[encoded data removed]",
      "text/plain": [
       "<Figure size 432x288 with 1 Axes>"
      ]
     },
     "metadata": {},
     "output_type": "display_data"
    }
   ],
   "source": [
    "# 违约与未违约样本的 NumberRealEstateLoansOrLines\n",
    "ax = sns.countplot(\n",
    "    data=data,\n",
    "    x='NumberRealEstateLoansOrLines',\n",
    "    hue='SeriousDlqin2yrs',\n",
    ")\n",
    "\n",
    "ax.set_yscale('log')"
   ]
  },
  {
   "cell_type": "markdown",
   "metadata": {},
   "source": [
    "为了保证5个桶每个桶内有正样本，bins可以为`[-math.inf, 0, 1, 2, 3, math.inf]`"
   ]
  },
  {
   "cell_type": "code",
   "execution_count": 34,
   "metadata": {
    "ExecuteTime": {
     "end_time": "2020-12-17T18:14:27.213908Z",
     "start_time": "2020-12-17T18:14:26.696921Z"
    }
   },
   "outputs": [
    {
     "data": {
      "image/png": "[encoded data removed]",
      "text/plain": [
       "<Figure size 432x288 with 1 Axes>"
      ]
     },
     "metadata": {},
     "output_type": "display_data"
    }
   ],
   "source": [
    "# 违约与未违约样本的NumberOfTime60-89DaysPastDueNotWorse分布\n",
    "ax = sns.countplot(\n",
    "    data=data,\n",
    "    x='NumberOfTime60-89DaysPastDueNotWorse',\n",
    "    hue='SeriousDlqin2yrs',\n",
    ")\n",
    "\n",
    "ax.set_yscale('log')"
   ]
  },
  {
   "cell_type": "markdown",
   "metadata": {},
   "source": [
    "为了保证10个桶每个桶内有正样本，bins可以为`[-math.inf, 0, 1, 2, 3, 4, 5, 6, 7, 96, math.inf]`"
   ]
  },
  {
   "cell_type": "code",
   "execution_count": 35,
   "metadata": {
    "ExecuteTime": {
     "end_time": "2020-12-17T18:14:27.224726Z",
     "start_time": "2020-12-17T18:14:27.216664Z"
    }
   },
   "outputs": [
    {
     "data": {
      "text/plain": [
       "0     90826\n",
       "1     26316\n",
       "2     19522\n",
       "3      9483\n",
       "4      2862\n",
       "5       746\n",
       "6       158\n",
       "7        51\n",
       "8        24\n",
       "10        5\n",
       "9         5\n",
       "20        1\n",
       "13        1\n",
       "Name: NumberOfDependents, dtype: int64"
      ]
     },
     "execution_count": 35,
     "metadata": {},
     "output_type": "execute_result"
    }
   ],
   "source": [
    "# 违约与未违约样本的NumberOfDependents 的分布\n",
    "data['NumberOfDependents'].value_counts()"
   ]
  },
  {
   "cell_type": "code",
   "execution_count": 36,
   "metadata": {
    "ExecuteTime": {
     "end_time": "2020-12-17T18:14:27.858746Z",
     "start_time": "2020-12-17T18:14:27.228486Z"
    }
   },
   "outputs": [
    {
     "data": {
      "image/png": "[encoded data removed]",
      "text/plain": [
       "<Figure size 432x288 with 1 Axes>"
      ]
     },
     "metadata": {},
     "output_type": "display_data"
    }
   ],
   "source": [
    "ax = sns.countplot(\n",
    "    data=data,\n",
    "    x='NumberOfDependents',\n",
    "    hue='SeriousDlqin2yrs',\n",
    ")\n",
    "ax.set_yscale('log')"
   ]
  },
  {
   "cell_type": "markdown",
   "metadata": {},
   "source": [
    "为了保证6个桶每个桶内有正样本，bins可以为`[-math.inf, 0, 1, 2, 3, 4, math.inf]`"
   ]
  },
  {
   "cell_type": "code",
   "execution_count": 37,
   "metadata": {
    "ExecuteTime": {
     "end_time": "2020-12-17T18:14:27.873410Z",
     "start_time": "2020-12-17T18:14:27.862272Z"
    }
   },
   "outputs": [],
   "source": [
    "dataset = data.copy()"
   ]
  },
  {
   "cell_type": "markdown",
   "metadata": {},
   "source": [
    " 数据分箱"
   ]
  },
  {
   "cell_type": "code",
   "execution_count": 45,
   "metadata": {
    "ExecuteTime": {
     "end_time": "2020-12-17T18:14:27.968942Z",
     "start_time": "2020-12-17T18:14:27.926417Z"
    }
   },
   "outputs": [
    {
     "data": {
      "text/plain": [
       "(0.699, 50708.0]    30000\n",
       "(0.271, 0.699]      30000\n",
       "(0.0832, 0.271]     30000\n",
       "(0.0192, 0.0832]    30000\n",
       "(-0.001, 0.0192]    30000\n",
       "Name: RevolvingUtilizationOfUnsecuredLines_bins, dtype: int64"
      ]
     },
     "execution_count": 45,
     "metadata": {},
     "output_type": "execute_result"
    }
   ],
   "source": [
    "# RevolvingUtilizationOfUnsecuredLines分5箱\n",
    "dataset['RevolvingUtilizationOfUnsecuredLines_bins'] = pd.qcut(\n",
    "    dataset['RevolvingUtilizationOfUnsecuredLines'], q=5)\n",
    "\n",
    "dataset['RevolvingUtilizationOfUnsecuredLines_bins'].value_counts()"
   ]
  },
  {
   "cell_type": "code",
   "execution_count": 46,
   "metadata": {
    "ExecuteTime": {
     "end_time": "2020-12-17T18:14:27.991351Z",
     "start_time": "2020-12-17T18:14:27.972186Z"
    }
   },
   "outputs": [
    {
     "data": {
      "text/plain": [
       "(40.0, 50.0]    35037\n",
       "(50.0, 60.0]    34806\n",
       "(60.0, 70.0]    27424\n",
       "(30.0, 40.0]    24339\n",
       "(70.0, inf]     17636\n",
       "(-inf, 30.0]    10758\n",
       "Name: age_bins, dtype: int64"
      ]
     },
     "execution_count": 46,
     "metadata": {},
     "output_type": "execute_result"
    }
   ],
   "source": [
    "# age分6箱\n",
    "age_bins = [-math.inf, 30, 40, 50, 60, 70, math.inf]\n",
    "dataset['age_bins'] = pd.cut(dataset['age'], age_bins)\n",
    "dataset['age_bins'].value_counts()"
   ]
  },
  {
   "cell_type": "code",
   "execution_count": 47,
   "metadata": {
    "ExecuteTime": {
     "end_time": "2020-12-17T18:14:28.014815Z",
     "start_time": "2020-12-17T18:14:27.995915Z"
    }
   },
   "outputs": [
    {
     "data": {
      "text/plain": [
       "(-inf, 0.0]    126018\n",
       "(0.0, 1.0]      16033\n",
       "(1.0, 2.0]       4598\n",
       "(2.0, 3.0]       1754\n",
       "(3.0, 4.0]        747\n",
       "(4.0, 5.0]        342\n",
       "(8.0, inf]        289\n",
       "(5.0, 6.0]        140\n",
       "(6.0, 7.0]         54\n",
       "(7.0, 8.0]         25\n",
       "Name: NumberOfTime30-59DaysPastDueNotWorse_bins, dtype: int64"
      ]
     },
     "execution_count": 47,
     "metadata": {},
     "output_type": "execute_result"
    }
   ],
   "source": [
    "# NumberOfTime30-59DaysPastDueNotWorse分10桶\n",
    "bins = [-math.inf, 0, 1, 2, 3, 4, 5, 6, 7, 8, math.inf]\n",
    "dataset['NumberOfTime30-59DaysPastDueNotWorse_bins'] = pd.cut(\n",
    "    dataset['NumberOfTime30-59DaysPastDueNotWorse'], bins=bins)\n",
    "\n",
    "dataset['NumberOfTime30-59DaysPastDueNotWorse_bins'].value_counts()"
   ]
  },
  {
   "cell_type": "code",
   "execution_count": 48,
   "metadata": {
    "ExecuteTime": {
     "end_time": "2020-12-17T18:14:28.041987Z",
     "start_time": "2020-12-17T18:14:28.019413Z"
    }
   },
   "outputs": [
    {
     "data": {
      "text/plain": [
       "(-inf, 0.2]    42289\n",
       "(0.2, 0.4]     38284\n",
       "(3.0, inf]     30283\n",
       "(0.4, 0.6]     21522\n",
       "(0.6, 3.0]     17622\n",
       "Name: DebtRatio_bins, dtype: int64"
      ]
     },
     "execution_count": 48,
     "metadata": {},
     "output_type": "execute_result"
    }
   ],
   "source": [
    "# DebtRatio分5桶\n",
    "# bins = [-math.inf, 0.1, 0.25, 0.4, 0.9, math.inf] # iv=0.02760\n",
    "\n",
    "bins = [-math.inf, 0.2, 0.4, 0.6, 3, math.inf]   # iv=0.06647\n",
    "dataset['DebtRatio_bins'] = pd.cut(dataset['DebtRatio'], bins)\n",
    "\n",
    "dataset['DebtRatio_bins'].value_counts()"
   ]
  },
  {
   "cell_type": "code",
   "execution_count": 49,
   "metadata": {
    "ExecuteTime": {
     "end_time": "2020-12-17T18:14:28.063977Z",
     "start_time": "2020-12-17T18:14:28.045106Z"
    }
   },
   "outputs": [
    {
     "data": {
      "text/plain": [
       "(5200.0, 7000.0]    51413\n",
       "(7000.0, inf]       40475\n",
       "(-inf, 3200.0]      27539\n",
       "(3200.0, 4200.0]    15916\n",
       "(4200.0, 5200.0]    14657\n",
       "Name: MonthlyIncome_bins, dtype: int64"
      ]
     },
     "execution_count": 49,
     "metadata": {},
     "output_type": "execute_result"
    }
   ],
   "source": [
    "# MonthlyIncome 分5桶\n",
    "\n",
    "bins = [-math.inf, 3200.0, 4200, 5200, 7000, math.inf] # 0.066897\n",
    "dataset['MonthlyIncome_bins'] = pd.cut(dataset['MonthlyIncome'], bins)\n",
    "dataset['MonthlyIncome_bins'].value_counts()"
   ]
  },
  {
   "cell_type": "code",
   "execution_count": 50,
   "metadata": {
    "ExecuteTime": {
     "end_time": "2020-12-17T18:14:28.086412Z",
     "start_time": "2020-12-17T18:14:28.067792Z"
    }
   },
   "outputs": [
    {
     "data": {
      "text/plain": [
       "(3.0, inf]     127950\n",
       "(2.0, 3.0]       9058\n",
       "(1.0, 2.0]       6666\n",
       "(0.0, 1.0]       4438\n",
       "(-inf, 0.0]      1888\n",
       "Name: NumberOfOpenCreditLinesAndLoans_bins, dtype: int64"
      ]
     },
     "execution_count": 50,
     "metadata": {},
     "output_type": "execute_result"
    }
   ],
   "source": [
    "# NumberOfOpenCreditLinesAndLoans分5桶\n",
    "bins = [-math.inf, 0, 1, 2, 3, math.inf]  # iv=0.10128\n",
    "dataset['NumberOfOpenCreditLinesAndLoans_bins'] = pd.cut(\n",
    "    dataset['NumberOfOpenCreditLinesAndLoans'], bins)\n",
    "\n",
    "dataset['NumberOfOpenCreditLinesAndLoans_bins'].value_counts()"
   ]
  },
  {
   "cell_type": "code",
   "execution_count": 51,
   "metadata": {
    "ExecuteTime": {
     "end_time": "2020-12-17T18:14:28.110149Z",
     "start_time": "2020-12-17T18:14:28.090622Z"
    }
   },
   "outputs": [
    {
     "data": {
      "text/plain": [
       "(-inf, 0.0]    141662\n",
       "(0.0, 1.0]       5243\n",
       "(1.0, 2.0]       1555\n",
       "(2.0, 3.0]        667\n",
       "(3.0, 4.0]        291\n",
       "(20.0, inf]       269\n",
       "(4.0, 5.0]        131\n",
       "(5.0, 6.0]         80\n",
       "(6.0, 8.0]         59\n",
       "(8.0, 20.0]        43\n",
       "Name: NumberOfTimes90DaysLate_bins, dtype: int64"
      ]
     },
     "execution_count": 51,
     "metadata": {},
     "output_type": "execute_result"
    }
   ],
   "source": [
    "# NumberOfTimes90DaysLate分10桶\n",
    "bins = [-math.inf, 0, 1, 2, 3, 4, 5, 6, 8, 20, math.inf]\n",
    "\n",
    "dataset['NumberOfTimes90DaysLate_bins'] = pd.cut(dataset['NumberOfTimes90DaysLate'], bins)\n",
    "dataset['NumberOfTimes90DaysLate_bins'].value_counts()"
   ]
  },
  {
   "cell_type": "code",
   "execution_count": 52,
   "metadata": {
    "ExecuteTime": {
     "end_time": "2020-12-17T18:14:28.132197Z",
     "start_time": "2020-12-17T18:14:28.114708Z"
    }
   },
   "outputs": [
    {
     "data": {
      "text/plain": [
       "(-inf, 0.0]    56188\n",
       "(0.0, 1.0]     52338\n",
       "(1.0, 2.0]     31522\n",
       "(2.0, 3.0]      6300\n",
       "(3.0, inf]      3652\n",
       "Name: NumberRealEstateLoansOrLines_bins, dtype: int64"
      ]
     },
     "execution_count": 52,
     "metadata": {},
     "output_type": "execute_result"
    }
   ],
   "source": [
    "# NumberRealEstateLoansOrLines分5段\n",
    "bins = [-math.inf, 0, 1, 2, 3, math.inf]\n",
    "dataset['NumberRealEstateLoansOrLines_bins'] = pd.cut(\n",
    "    dataset['NumberRealEstateLoansOrLines'], bins=bins)\n",
    "\n",
    "\n",
    "dataset['NumberRealEstateLoansOrLines_bins'].value_counts()"
   ]
  },
  {
   "cell_type": "code",
   "execution_count": 53,
   "metadata": {
    "ExecuteTime": {
     "end_time": "2020-12-17T18:14:28.152374Z",
     "start_time": "2020-12-17T18:14:28.134820Z"
    }
   },
   "outputs": [
    {
     "data": {
      "text/plain": [
       "(-inf, 0.0]    142396\n",
       "(0.0, 1.0]       5731\n",
       "(1.0, 2.0]       1118\n",
       "(2.0, 3.0]        318\n",
       "(96.0, inf]       264\n",
       "(3.0, 4.0]        105\n",
       "(4.0, 5.0]         34\n",
       "(5.0, 6.0]         16\n",
       "(7.0, 96.0]         9\n",
       "(6.0, 7.0]          9\n",
       "Name: NumberOfTime60-89DaysPastDueNotWorse_bins, dtype: int64"
      ]
     },
     "execution_count": 53,
     "metadata": {},
     "output_type": "execute_result"
    }
   ],
   "source": [
    "# NumberOfTime60-89DaysPastDueNotWorse分10段\n",
    "bins = [-math.inf, 0, 1, 2, 3, 4, 5, 6, 7, 96, math.inf]  # iv=0.600696\n",
    "\n",
    "dataset['NumberOfTime60-89DaysPastDueNotWorse_bins'] = pd.cut(\n",
    "    dataset['NumberOfTime60-89DaysPastDueNotWorse'], bins)\n",
    "dataset['NumberOfTime60-89DaysPastDueNotWorse_bins'].value_counts()"
   ]
  },
  {
   "cell_type": "code",
   "execution_count": 54,
   "metadata": {
    "ExecuteTime": {
     "end_time": "2020-12-17T18:14:28.177910Z",
     "start_time": "2020-12-17T18:14:28.155908Z"
    }
   },
   "outputs": [
    {
     "data": {
      "text/plain": [
       "(-inf, 0.0]    90826\n",
       "(0.0, 1.0]     26316\n",
       "(1.0, 2.0]     19522\n",
       "(2.0, 3.0]      9483\n",
       "(3.0, 4.0]      2862\n",
       "(4.0, inf]       991\n",
       "Name: NumberOfDependents_bins, dtype: int64"
      ]
     },
     "execution_count": 54,
     "metadata": {},
     "output_type": "execute_result"
    }
   ],
   "source": [
    "# NumberOfDependents分6桶\n",
    "# bins = [-math.inf, 2, 4, 6, 8, 10, math.inf] # iv=0.01451\n",
    "\n",
    "bins = [-math.inf, 0, 1, 2, 3, 4, math.inf]  # iv=0.03445\n",
    "dataset['NumberOfDependents_bins'] = pd.cut(dataset['NumberOfDependents'], bins)\n",
    "\n",
    "dataset['NumberOfDependents_bins'].value_counts()"
   ]
  },
  {
   "cell_type": "code",
   "execution_count": 55,
   "metadata": {
    "ExecuteTime": {
     "end_time": "2020-12-17T18:14:28.197832Z",
     "start_time": "2020-12-17T18:14:28.181256Z"
    },
    "code_folding": []
   },
   "outputs": [],
   "source": [
    "# 将前面10个特征的分箱策略封装到函数中\n",
    "def get_cut(dataset):\n",
    "    dataset['RevolvingUtilizationOfUnsecuredLines_bins'] = pd.qcut(\n",
    "        dataset['RevolvingUtilizationOfUnsecuredLines'], q=5)\n",
    "\n",
    "    age_bins = [-math.inf, 30, 40, 50, 60, 70, math.inf]\n",
    "    dataset['age_bins'] = pd.cut(dataset['age'], age_bins)\n",
    "\n",
    "    bins = [-math.inf, 0, 1, 2, 3, 4, 5, 6, 7, 8, math.inf]\n",
    "    dataset['NumberOfTime30-59DaysPastDueNotWorse_bins'] = pd.cut(\n",
    "        dataset['NumberOfTime30-59DaysPastDueNotWorse'], bins=bins)\n",
    "\n",
    "    bins = [-math.inf, 0.2, 0.4, 0.6, 3, math.inf]  # iv=0.06647\n",
    "    dataset['DebtRatio_bins'] = pd.cut(dataset['DebtRatio'], bins)\n",
    "\n",
    "    bins = [-math.inf, 3200.0, 4200, 5200, 7000, math.inf]\n",
    "    dataset['MonthlyIncome_bins'] = pd.cut(dataset['MonthlyIncome'], bins)\n",
    "\n",
    "    bins = [-math.inf, 0, 1, 2, 3, math.inf]  # iv=0.10128\n",
    "    dataset['NumberOfOpenCreditLinesAndLoans_bins'] = pd.cut(\n",
    "        dataset['NumberOfOpenCreditLinesAndLoans'], bins)\n",
    "\n",
    "    bins = [-math.inf, 0, 1, 2, 3, 4, 5, 6, 8, 20, math.inf]\n",
    "    dataset['NumberOfTimes90DaysLate_bins'] = pd.cut(dataset['NumberOfTimes90DaysLate'],\n",
    "                                                bins)\n",
    "\n",
    "    bins = [-math.inf, 0, 1, 2, 3, math.inf]\n",
    "    dataset['NumberRealEstateLoansOrLines_bins'] = pd.cut(\n",
    "        dataset['NumberRealEstateLoansOrLines'], bins=bins)\n",
    "\n",
    "    \n",
    "    bins = [-math.inf, 0, 1, 2, 3, 4, 5, 6, 7, 96, math.inf]  # iv=0.600696\n",
    "    dataset['NumberOfTime60-89DaysPastDueNotWorse_bins'] = pd.cut(\n",
    "        dataset['NumberOfTime60-89DaysPastDueNotWorse'], bins)\n",
    "\n",
    "    bins = [-math.inf, 0, 1, 2, 3, 4, math.inf]  # iv=0.03445\n",
    "    dataset['NumberOfDependents_bins'] = pd.cut(dataset['NumberOfDependents'], bins)\n",
    "\n",
    "    return dataset"
   ]
  },
  {
   "cell_type": "markdown",
   "metadata": {},
   "source": [
    "计算WOE和IV"
   ]
  },
  {
   "cell_type": "code",
   "execution_count": 56,
   "metadata": {
    "ExecuteTime": {
     "end_time": "2020-12-17T18:14:28.211533Z",
     "start_time": "2020-12-17T18:14:28.201748Z"
    }
   },
   "outputs": [],
   "source": [
    "def get_iv(dataset, col, target_col):\n",
    "    # 各桶总样本数\n",
    "    cut_dataset = pd.DataFrame(dataset[col].value_counts().sort_index())\n",
    "\n",
    "    # label=1时各桶内样本数\n",
    "    cut_dataset['yi'] = dataset.groupby(col)[target_col].sum()\n",
    "\n",
    "    # label=0时各桶内样本数\n",
    "    cut_dataset['ni'] = cut_dataset[col] - cut_dataset['yi']\n",
    "    cut_dataset['pyi'] = cut_dataset['yi'] / NT_dict[1]\n",
    "    cut_dataset['pni'] = cut_dataset['ni'] / NT_dict[0]\n",
    "\n",
    "    # 计算WOE\n",
    "    cut_dataset['woe_i'] = np.log(cut_dataset['pyi'] / cut_dataset['pni'])\n",
    "    \n",
    "    # 将存在inf的值替换为0\n",
    "    cut_dataset['woe_i'] = cut_dataset['woe_i'].replace({np.inf: 0, -np.inf: 0})\n",
    "    \n",
    "    # 计算各桶的iv\n",
    "    cut_dataset['iv_i'] = cut_dataset['woe_i'] * (cut_dataset['pyi'] - cut_dataset['pni'])\n",
    "    iv = cut_dataset['iv_i'].sum()\n",
    "    \n",
    "    # 每个桶内样本总数\n",
    "    cut_dataset['all'] = cut_dataset[col].copy()\n",
    "    cut_dataset[col] = cut_dataset.index\n",
    "    return  cut_dataset.reset_index(drop=True), iv"
   ]
  },
  {
   "cell_type": "code",
   "execution_count": 57,
   "metadata": {
    "ExecuteTime": {
     "end_time": "2020-12-17T18:14:28.223373Z",
     "start_time": "2020-12-17T18:14:28.215261Z"
    }
   },
   "outputs": [
    {
     "data": {
      "text/plain": [
       "Index(['RevolvingUtilizationOfUnsecuredLines_bins', 'age_bins',\n",
       "       'NumberOfTime30-59DaysPastDueNotWorse_bins', 'DebtRatio_bins',\n",
       "       'MonthlyIncome_bins', 'NumberOfOpenCreditLinesAndLoans_bins',\n",
       "       'NumberOfTimes90DaysLate_bins', 'NumberRealEstateLoansOrLines_bins',\n",
       "       'NumberOfTime60-89DaysPastDueNotWorse_bins', 'NumberOfDependents_bins'],\n",
       "      dtype='object')"
      ]
     },
     "execution_count": 57,
     "metadata": {},
     "output_type": "execute_result"
    }
   ],
   "source": [
    "bins_cols = dataset.columns[dataset.columns.str.endswith('bins')]\n",
    "bins_cols"
   ]
  },
  {
   "cell_type": "code",
   "execution_count": 58,
   "metadata": {
    "ExecuteTime": {
     "end_time": "2020-12-17T18:14:29.220184Z",
     "start_time": "2020-12-17T18:14:28.227347Z"
    }
   },
   "outputs": [],
   "source": [
    "iv_list = []\n",
    "\n",
    "dataset_new = dataset.copy()\n",
    "for f in bins_cols:\n",
    "    dataset_woe, iv = get_iv(dataset, f, 'SeriousDlqin2yrs')\n",
    "    iv_list.append(iv)\n",
    "    dataset_woe.columns = [c if c == f else c + '_' + f for c in dataset_woe.columns]\n",
    "    dataset_new = dataset_new.merge(dataset_woe, on=f, how='left')"
   ]
  },
  {
   "cell_type": "code",
   "execution_count": 59,
   "metadata": {
    "ExecuteTime": {
     "end_time": "2020-12-17T18:14:29.229599Z",
     "start_time": "2020-12-17T18:14:29.223619Z"
    }
   },
   "outputs": [
    {
     "data": {
      "text/plain": [
       "[1.0596188771423887,\n",
       " 0.24235781794699962,\n",
       " 0.7608635821351128,\n",
       " 0.06646851124629055,\n",
       " 0.06689666799825622,\n",
       " 0.10128300712714187,\n",
       " 0.8802938215956659,\n",
       " 0.06167337290177645,\n",
       " 0.6006964135189669,\n",
       " 0.03445663226108044]"
      ]
     },
     "execution_count": 59,
     "metadata": {},
     "output_type": "execute_result"
    }
   ],
   "source": [
    "iv_list"
   ]
  },
  {
   "cell_type": "code",
   "execution_count": 60,
   "metadata": {
    "ExecuteTime": {
     "end_time": "2020-12-17T18:14:29.258574Z",
     "start_time": "2020-12-17T18:14:29.233469Z"
    }
   },
   "outputs": [
    {
     "data": {
      "text/html": [
       "<div>\n",
       "<style scoped>\n",
       "    .dataframe tbody tr th:only-of-type {\n",
       "        vertical-align: middle;\n",
       "    }\n",
       "\n",
       "    .dataframe tbody tr th {\n",
       "        vertical-align: top;\n",
       "    }\n",
       "\n",
       "    .dataframe thead th {\n",
       "        text-align: right;\n",
       "    }\n",
       "</style>\n",
       "<table border=\"1\" class=\"dataframe\">\n",
       "  <thead>\n",
       "    <tr style=\"text-align: right;\">\n",
       "      <th></th>\n",
       "      <th>SeriousDlqin2yrs</th>\n",
       "      <th>RevolvingUtilizationOfUnsecuredLines</th>\n",
       "      <th>age</th>\n",
       "      <th>NumberOfTime30-59DaysPastDueNotWorse</th>\n",
       "      <th>DebtRatio</th>\n",
       "      <th>MonthlyIncome</th>\n",
       "      <th>NumberOfOpenCreditLinesAndLoans</th>\n",
       "      <th>NumberOfTimes90DaysLate</th>\n",
       "      <th>NumberRealEstateLoansOrLines</th>\n",
       "      <th>NumberOfTime60-89DaysPastDueNotWorse</th>\n",
       "      <th>...</th>\n",
       "      <th>woe_i_NumberOfTime60-89DaysPastDueNotWorse_bins</th>\n",
       "      <th>iv_i_NumberOfTime60-89DaysPastDueNotWorse_bins</th>\n",
       "      <th>all_NumberOfTime60-89DaysPastDueNotWorse_bins</th>\n",
       "      <th>yi_NumberOfDependents_bins</th>\n",
       "      <th>ni_NumberOfDependents_bins</th>\n",
       "      <th>pyi_NumberOfDependents_bins</th>\n",
       "      <th>pni_NumberOfDependents_bins</th>\n",
       "      <th>woe_i_NumberOfDependents_bins</th>\n",
       "      <th>iv_i_NumberOfDependents_bins</th>\n",
       "      <th>all_NumberOfDependents_bins</th>\n",
       "    </tr>\n",
       "  </thead>\n",
       "  <tbody>\n",
       "    <tr>\n",
       "      <th>0</th>\n",
       "      <td>1</td>\n",
       "      <td>0.766127</td>\n",
       "      <td>45</td>\n",
       "      <td>2</td>\n",
       "      <td>0.802982</td>\n",
       "      <td>9120.0</td>\n",
       "      <td>13</td>\n",
       "      <td>0</td>\n",
       "      <td>6</td>\n",
       "      <td>0</td>\n",
       "      <td>...</td>\n",
       "      <td>-0.288208</td>\n",
       "      <td>0.069673</td>\n",
       "      <td>142396</td>\n",
       "      <td>1584</td>\n",
       "      <td>17938</td>\n",
       "      <td>0.157989</td>\n",
       "      <td>0.128152</td>\n",
       "      <td>0.209307</td>\n",
       "      <td>0.006245</td>\n",
       "      <td>19522</td>\n",
       "    </tr>\n",
       "    <tr>\n",
       "      <th>1</th>\n",
       "      <td>0</td>\n",
       "      <td>0.957151</td>\n",
       "      <td>40</td>\n",
       "      <td>0</td>\n",
       "      <td>0.121876</td>\n",
       "      <td>2600.0</td>\n",
       "      <td>4</td>\n",
       "      <td>0</td>\n",
       "      <td>0</td>\n",
       "      <td>0</td>\n",
       "      <td>...</td>\n",
       "      <td>-0.288208</td>\n",
       "      <td>0.069673</td>\n",
       "      <td>142396</td>\n",
       "      <td>1935</td>\n",
       "      <td>24381</td>\n",
       "      <td>0.192998</td>\n",
       "      <td>0.174182</td>\n",
       "      <td>0.102578</td>\n",
       "      <td>0.001930</td>\n",
       "      <td>26316</td>\n",
       "    </tr>\n",
       "  </tbody>\n",
       "</table>\n",
       "<p>2 rows × 91 columns</p>\n",
       "</div>"
      ],
      "text/plain": [
       "   SeriousDlqin2yrs  RevolvingUtilizationOfUnsecuredLines  age  \\\n",
       "0                 1                              0.766127   45   \n",
       "1                 0                              0.957151   40   \n",
       "\n",
       "   NumberOfTime30-59DaysPastDueNotWorse  DebtRatio  MonthlyIncome  \\\n",
       "0                                     2   0.802982         9120.0   \n",
       "1                                     0   0.121876         2600.0   \n",
       "\n",
       "   NumberOfOpenCreditLinesAndLoans  NumberOfTimes90DaysLate  \\\n",
       "0                               13                        0   \n",
       "1                                4                        0   \n",
       "\n",
       "   NumberRealEstateLoansOrLines  NumberOfTime60-89DaysPastDueNotWorse  ...  \\\n",
       "0                             6                                     0  ...   \n",
       "1                             0                                     0  ...   \n",
       "\n",
       "   woe_i_NumberOfTime60-89DaysPastDueNotWorse_bins  \\\n",
       "0                                        -0.288208   \n",
       "1                                        -0.288208   \n",
       "\n",
       "  iv_i_NumberOfTime60-89DaysPastDueNotWorse_bins  \\\n",
       "0                                       0.069673   \n",
       "1                                       0.069673   \n",
       "\n",
       "  all_NumberOfTime60-89DaysPastDueNotWorse_bins yi_NumberOfDependents_bins  \\\n",
       "0                                        142396                       1584   \n",
       "1                                        142396                       1935   \n",
       "\n",
       "  ni_NumberOfDependents_bins pyi_NumberOfDependents_bins  \\\n",
       "0                      17938                    0.157989   \n",
       "1                      24381                    0.192998   \n",
       "\n",
       "  pni_NumberOfDependents_bins woe_i_NumberOfDependents_bins  \\\n",
       "0                    0.128152                      0.209307   \n",
       "1                    0.174182                      0.102578   \n",
       "\n",
       "  iv_i_NumberOfDependents_bins all_NumberOfDependents_bins  \n",
       "0                     0.006245                       19522  \n",
       "1                     0.001930                       26316  \n",
       "\n",
       "[2 rows x 91 columns]"
      ]
     },
     "execution_count": 60,
     "metadata": {},
     "output_type": "execute_result"
    }
   ],
   "source": [
    "dataset_new.head(2)"
   ]
  },
  {
   "cell_type": "code",
   "execution_count": 61,
   "metadata": {
    "ExecuteTime": {
     "end_time": "2020-12-17T18:14:29.266910Z",
     "start_time": "2020-12-17T18:14:29.262050Z"
    }
   },
   "outputs": [],
   "source": [
    "# 根据IV > 0.1 选择特征\n",
    "choose_feats = []\n",
    "for c, iv in zip(bins_cols, iv_list):\n",
    "    if iv > 0.1:\n",
    "        choose_feats.append(c[:-5])"
   ]
  },
  {
   "cell_type": "code",
   "execution_count": 62,
   "metadata": {
    "ExecuteTime": {
     "end_time": "2020-12-17T18:14:29.275792Z",
     "start_time": "2020-12-17T18:14:29.269961Z"
    },
    "scrolled": true
   },
   "outputs": [
    {
     "data": {
      "text/plain": [
       "['RevolvingUtilizationOfUnsecuredLines',\n",
       " 'age',\n",
       " 'NumberOfTime30-59DaysPastDueNotWorse',\n",
       " 'NumberOfOpenCreditLinesAndLoans',\n",
       " 'NumberOfTimes90DaysLate',\n",
       " 'NumberOfTime60-89DaysPastDueNotWorse']"
      ]
     },
     "execution_count": 62,
     "metadata": {},
     "output_type": "execute_result"
    }
   ],
   "source": [
    "choose_feats"
   ]
  },
  {
   "cell_type": "code",
   "execution_count": 63,
   "metadata": {
    "ExecuteTime": {
     "end_time": "2020-12-17T18:14:29.502974Z",
     "start_time": "2020-12-17T18:14:29.283952Z"
    }
   },
   "outputs": [
    {
     "data": {
      "text/html": [
       "<div>\n",
       "<style scoped>\n",
       "    .dataframe tbody tr th:only-of-type {\n",
       "        vertical-align: middle;\n",
       "    }\n",
       "\n",
       "    .dataframe tbody tr th {\n",
       "        vertical-align: top;\n",
       "    }\n",
       "\n",
       "    .dataframe thead th {\n",
       "        text-align: right;\n",
       "    }\n",
       "</style>\n",
       "<table border=\"1\" class=\"dataframe\">\n",
       "  <thead>\n",
       "    <tr style=\"text-align: right;\">\n",
       "      <th></th>\n",
       "      <th>features</th>\n",
       "      <th>bin</th>\n",
       "      <th>woe</th>\n",
       "    </tr>\n",
       "  </thead>\n",
       "  <tbody>\n",
       "    <tr>\n",
       "      <th>1733</th>\n",
       "      <td>NumberOfTime60-89DaysPastDueNotWorse</td>\n",
       "      <td>(96.0, inf]</td>\n",
       "      <td>2.803329</td>\n",
       "    </tr>\n",
       "    <tr>\n",
       "      <th>2406</th>\n",
       "      <td>NumberOfTime60-89DaysPastDueNotWorse</td>\n",
       "      <td>(3.0, 4.0]</td>\n",
       "      <td>3.121783</td>\n",
       "    </tr>\n",
       "    <tr>\n",
       "      <th>6664</th>\n",
       "      <td>NumberOfTime60-89DaysPastDueNotWorse</td>\n",
       "      <td>(5.0, 6.0]</td>\n",
       "      <td>3.734887</td>\n",
       "    </tr>\n",
       "    <tr>\n",
       "      <th>16642</th>\n",
       "      <td>NumberOfTime60-89DaysPastDueNotWorse</td>\n",
       "      <td>(6.0, 7.0]</td>\n",
       "      <td>2.859419</td>\n",
       "    </tr>\n",
       "    <tr>\n",
       "      <th>23964</th>\n",
       "      <td>NumberOfTime60-89DaysPastDueNotWorse</td>\n",
       "      <td>(7.0, 96.0]</td>\n",
       "      <td>3.329422</td>\n",
       "    </tr>\n",
       "  </tbody>\n",
       "</table>\n",
       "</div>"
      ],
      "text/plain": [
       "                                   features          bin       woe\n",
       "1733   NumberOfTime60-89DaysPastDueNotWorse  (96.0, inf]  2.803329\n",
       "2406   NumberOfTime60-89DaysPastDueNotWorse   (3.0, 4.0]  3.121783\n",
       "6664   NumberOfTime60-89DaysPastDueNotWorse   (5.0, 6.0]  3.734887\n",
       "16642  NumberOfTime60-89DaysPastDueNotWorse   (6.0, 7.0]  2.859419\n",
       "23964  NumberOfTime60-89DaysPastDueNotWorse  (7.0, 96.0]  3.329422"
      ]
     },
     "execution_count": 63,
     "metadata": {},
     "output_type": "execute_result"
    }
   ],
   "source": [
    "# WOE的规则\n",
    "dataset_bin_to_woe = pd.DataFrame(columns=['features', 'bin', 'woe'])\n",
    "woe_cols = []\n",
    "for f in choose_feats:\n",
    "    b = f + \"_bins\"\n",
    "    w = 'woe_i_' + b\n",
    "    woe_cols.append(w)\n",
    "    dataset_ = dataset_new[[w, b]].drop_duplicates()\n",
    "    dataset_.columns = ['woe', 'bin']\n",
    "    dataset_['features'] = f\n",
    "    dataset_bin_to_woe = pd.concat((dataset_bin_to_woe, dataset_))\n",
    "\n",
    "dataset_bin_to_woe.tail()"
   ]
  },
  {
   "cell_type": "code",
   "execution_count": 64,
   "metadata": {
    "ExecuteTime": {
     "end_time": "2020-12-17T18:14:29.513667Z",
     "start_time": "2020-12-17T18:14:29.506194Z"
    }
   },
   "outputs": [
    {
     "data": {
      "text/plain": [
       "['woe_i_RevolvingUtilizationOfUnsecuredLines_bins',\n",
       " 'woe_i_age_bins',\n",
       " 'woe_i_NumberOfTime30-59DaysPastDueNotWorse_bins',\n",
       " 'woe_i_NumberOfOpenCreditLinesAndLoans_bins',\n",
       " 'woe_i_NumberOfTimes90DaysLate_bins',\n",
       " 'woe_i_NumberOfTime60-89DaysPastDueNotWorse_bins']"
      ]
     },
     "execution_count": 64,
     "metadata": {},
     "output_type": "execute_result"
    }
   ],
   "source": [
    "# 建模建立\n",
    "woe_cols"
   ]
  },
  {
   "cell_type": "code",
   "execution_count": 66,
   "metadata": {
    "ExecuteTime": {
     "end_time": "2020-12-17T18:14:29.546666Z",
     "start_time": "2020-12-17T18:14:29.522973Z"
    }
   },
   "outputs": [],
   "source": [
    "# 拆分数据集\n",
    "X_train, Y_train = dataset_new[woe_cols].values, dataset_new['SeriousDlqin2yrs'].values\n",
    "x_train, x_test, y_train, y_test = train_test_split(X_train,\n",
    "                                                    Y_train,\n",
    "                                                    test_size=0.2,\n",
    "                                                    random_state=33)"
   ]
  },
  {
   "cell_type": "code",
   "execution_count": 67,
   "metadata": {
    "ExecuteTime": {
     "end_time": "2020-12-17T18:14:29.939773Z",
     "start_time": "2020-12-17T18:14:29.549482Z"
    }
   },
   "outputs": [
    {
     "data": {
      "text/plain": [
       "0.9373666666666667"
      ]
     },
     "execution_count": 67,
     "metadata": {},
     "output_type": "execute_result"
    }
   ],
   "source": [
    "# 训练模型\n",
    "model = LogisticRegression(random_state=33)\n",
    "model.fit(x_train, y_train)\n",
    "\n",
    "y_pred = model.predict(x_test)\n",
    "\n",
    "accuracy_score(y_test, y_pred)"
   ]
  },
  {
   "cell_type": "code",
   "execution_count": 68,
   "metadata": {
    "ExecuteTime": {
     "end_time": "2020-12-17T18:14:29.980019Z",
     "start_time": "2020-12-17T18:14:29.959252Z"
    }
   },
   "outputs": [
    {
     "data": {
      "text/plain": [
       "0.8543868625124428"
      ]
     },
     "execution_count": 68,
     "metadata": {},
     "output_type": "execute_result"
    }
   ],
   "source": [
    "roc_auc_score(y_test, model.predict_proba(x_test)[:, 1])"
   ]
  },
  {
   "cell_type": "code",
   "execution_count": 69,
   "metadata": {
    "ExecuteTime": {
     "end_time": "2020-12-17T18:14:30.248110Z",
     "start_time": "2020-12-17T18:14:29.990798Z"
    }
   },
   "outputs": [
    {
     "data": {
      "image/png": "[encoded data removed]",
      "text/plain": [
       "<Figure size 432x288 with 2 Axes>"
      ]
     },
     "metadata": {},
     "output_type": "display_data"
    }
   ],
   "source": [
    "# 混淆矩阵\n",
    "sns.heatmap(confusion_matrix(y_test, y_pred),\n",
    "            annot=True,\n",
    "            fmt='.0f',\n",
    "            cmap='viridis',\n",
    "            square=True)\n",
    "\n",
    "plt.xlabel('Predicted label')\n",
    "plt.ylabel('True label')\n",
    "plt.show()"
   ]
  },
  {
   "cell_type": "markdown",
   "metadata": {},
   "source": [
    " 评分卡"
   ]
  },
  {
   "cell_type": "code",
   "execution_count": 70,
   "metadata": {
    "ExecuteTime": {
     "end_time": "2020-12-17T18:14:30.260307Z",
     "start_time": "2020-12-17T18:14:30.253695Z"
    }
   },
   "outputs": [
    {
     "data": {
      "text/plain": [
       "(array([[ 0.64648533,  0.45061438,  0.51769979, -0.08707337,  0.53642847,\n",
       "          0.37460909]]),\n",
       " array([-2.5953335]))"
      ]
     },
     "execution_count": 70,
     "metadata": {},
     "output_type": "execute_result"
    }
   ],
   "source": [
    "# 斜率和截距\n",
    "model.coef_, model.intercept_"
   ]
  },
  {
   "cell_type": "code",
   "execution_count": 71,
   "metadata": {
    "ExecuteTime": {
     "end_time": "2020-12-17T18:14:30.272447Z",
     "start_time": "2020-12-17T18:14:30.264760Z"
    }
   },
   "outputs": [
    {
     "data": {
      "text/plain": [
       "'当A=650, B=72.13时，我们的模型基准分为: 837'"
      ]
     },
     "execution_count": 71,
     "metadata": {},
     "output_type": "execute_result"
    }
   ],
   "source": [
    "A, B = 650, 72.13\n",
    "\n",
    "# 模型基准分\n",
    "base_score = int(A - B * model.intercept_)\n",
    "\n",
    "\"当A={}, B={}时，我们的模型基准分为: {}\".format(A, B, base_score)"
   ]
  },
  {
   "cell_type": "code",
   "execution_count": 72,
   "metadata": {
    "ExecuteTime": {
     "end_time": "2020-12-17T18:14:30.297664Z",
     "start_time": "2020-12-17T18:14:30.275146Z"
    }
   },
   "outputs": [
    {
     "data": {
      "text/html": [
       "<div>\n",
       "<style scoped>\n",
       "    .dataframe tbody tr th:only-of-type {\n",
       "        vertical-align: middle;\n",
       "    }\n",
       "\n",
       "    .dataframe tbody tr th {\n",
       "        vertical-align: top;\n",
       "    }\n",
       "\n",
       "    .dataframe thead th {\n",
       "        text-align: right;\n",
       "    }\n",
       "</style>\n",
       "<table border=\"1\" class=\"dataframe\">\n",
       "  <thead>\n",
       "    <tr style=\"text-align: right;\">\n",
       "      <th></th>\n",
       "      <th>Variable</th>\n",
       "      <th>Binning</th>\n",
       "      <th>Score</th>\n",
       "    </tr>\n",
       "  </thead>\n",
       "  <tbody>\n",
       "    <tr>\n",
       "      <th>0</th>\n",
       "      <td>RevolvingUtilizationOfUnsecuredLines</td>\n",
       "      <td>(0.699, 50708.0]</td>\n",
       "      <td>-58</td>\n",
       "    </tr>\n",
       "    <tr>\n",
       "      <th>2</th>\n",
       "      <td>RevolvingUtilizationOfUnsecuredLines</td>\n",
       "      <td>(0.271, 0.699]</td>\n",
       "      <td>-2</td>\n",
       "    </tr>\n",
       "    <tr>\n",
       "      <th>3</th>\n",
       "      <td>RevolvingUtilizationOfUnsecuredLines</td>\n",
       "      <td>(0.0832, 0.271]</td>\n",
       "      <td>40</td>\n",
       "    </tr>\n",
       "    <tr>\n",
       "      <th>11</th>\n",
       "      <td>RevolvingUtilizationOfUnsecuredLines</td>\n",
       "      <td>(-0.001, 0.0192]</td>\n",
       "      <td>60</td>\n",
       "    </tr>\n",
       "    <tr>\n",
       "      <th>14</th>\n",
       "      <td>RevolvingUtilizationOfUnsecuredLines</td>\n",
       "      <td>(0.0192, 0.0832]</td>\n",
       "      <td>67</td>\n",
       "    </tr>\n",
       "  </tbody>\n",
       "</table>\n",
       "</div>"
      ],
      "text/plain": [
       "                                Variable           Binning  Score\n",
       "0   RevolvingUtilizationOfUnsecuredLines  (0.699, 50708.0]    -58\n",
       "2   RevolvingUtilizationOfUnsecuredLines    (0.271, 0.699]     -2\n",
       "3   RevolvingUtilizationOfUnsecuredLines   (0.0832, 0.271]     40\n",
       "11  RevolvingUtilizationOfUnsecuredLines  (-0.001, 0.0192]     60\n",
       "14  RevolvingUtilizationOfUnsecuredLines  (0.0192, 0.0832]     67"
      ]
     },
     "execution_count": 72,
     "metadata": {},
     "output_type": "execute_result"
    }
   ],
   "source": [
    "# 生成评分卡模型\n",
    "def generate_scorecard(model, dataset_bin_to_woe, choose_feats, B):\n",
    "    score_dataset = dataset_bin_to_woe.copy()\n",
    "    score_dataset['score'] = 0\n",
    "    # 模型系数\n",
    "    coef = model.coef_[0]\n",
    "    for i in range(len(choose_feats)):\n",
    "        mask = score_dataset['features'] == choose_feats[i]\n",
    "        # 计算 - B * 线性回归输出\n",
    "        score_dataset.loc[mask, 'score'] = round((-B) * coef[i] * score_dataset.loc[mask, 'woe']).astype(int)\n",
    "    # 去掉woe列    \n",
    "    score_dataset.drop(columns='woe', inplace=True)\n",
    "    score_dataset.columns = ['Variable', 'Binning', 'Score']\n",
    "    return score_dataset\n",
    "\n",
    "\n",
    "score_card = generate_scorecard(model, dataset_bin_to_woe, choose_feats, B)\n",
    "score_card.head()"
   ]
  },
  {
   "cell_type": "code",
   "execution_count": 73,
   "metadata": {
    "ExecuteTime": {
     "end_time": "2020-12-17T18:14:30.344664Z",
     "start_time": "2020-12-17T18:14:30.300124Z"
    }
   },
   "outputs": [
    {
     "data": {
      "text/html": [
       "<div>\n",
       "<style scoped>\n",
       "    .dataframe tbody tr th:only-of-type {\n",
       "        vertical-align: middle;\n",
       "    }\n",
       "\n",
       "    .dataframe tbody tr th {\n",
       "        vertical-align: top;\n",
       "    }\n",
       "\n",
       "    .dataframe thead th {\n",
       "        text-align: right;\n",
       "    }\n",
       "</style>\n",
       "<table border=\"1\" class=\"dataframe\">\n",
       "  <thead>\n",
       "    <tr style=\"text-align: right;\">\n",
       "      <th></th>\n",
       "      <th>Variable</th>\n",
       "      <th>Binning</th>\n",
       "      <th>Score</th>\n",
       "    </tr>\n",
       "  </thead>\n",
       "  <tbody>\n",
       "    <tr>\n",
       "      <th>0</th>\n",
       "      <td>NumberOfOpenCreditLinesAndLoans</td>\n",
       "      <td>(-inf, 0.0]</td>\n",
       "      <td>10</td>\n",
       "    </tr>\n",
       "    <tr>\n",
       "      <th>1</th>\n",
       "      <td>NumberOfOpenCreditLinesAndLoans</td>\n",
       "      <td>(0.0, 1.0]</td>\n",
       "      <td>5</td>\n",
       "    </tr>\n",
       "    <tr>\n",
       "      <th>2</th>\n",
       "      <td>NumberOfOpenCreditLinesAndLoans</td>\n",
       "      <td>(1.0, 2.0]</td>\n",
       "      <td>2</td>\n",
       "    </tr>\n",
       "    <tr>\n",
       "      <th>3</th>\n",
       "      <td>NumberOfOpenCreditLinesAndLoans</td>\n",
       "      <td>(2.0, 3.0]</td>\n",
       "      <td>1</td>\n",
       "    </tr>\n",
       "    <tr>\n",
       "      <th>4</th>\n",
       "      <td>NumberOfOpenCreditLinesAndLoans</td>\n",
       "      <td>(3.0, inf]</td>\n",
       "      <td>-1</td>\n",
       "    </tr>\n",
       "  </tbody>\n",
       "</table>\n",
       "</div>"
      ],
      "text/plain": [
       "                          Variable      Binning  Score\n",
       "0  NumberOfOpenCreditLinesAndLoans  (-inf, 0.0]     10\n",
       "1  NumberOfOpenCreditLinesAndLoans   (0.0, 1.0]      5\n",
       "2  NumberOfOpenCreditLinesAndLoans   (1.0, 2.0]      2\n",
       "3  NumberOfOpenCreditLinesAndLoans   (2.0, 3.0]      1\n",
       "4  NumberOfOpenCreditLinesAndLoans   (3.0, inf]     -1"
      ]
     },
     "execution_count": 73,
     "metadata": {},
     "output_type": "execute_result"
    }
   ],
   "source": [
    "# 对每个字段按照分数降序排序，查看规则\n",
    "score_card = score_card.groupby(\n",
    "    by='Variable',\n",
    "    as_index=False).apply(lambda x: x.sort_values('Score', ascending=False))\n",
    "\n",
    "score_card = score_card.reset_index(drop=True)\n",
    "score_card.head()"
   ]
  },
  {
   "cell_type": "code",
   "execution_count": 74,
   "metadata": {
    "ExecuteTime": {
     "end_time": "2020-12-17T18:14:30.355967Z",
     "start_time": "2020-12-17T18:14:30.349537Z"
    }
   },
   "outputs": [],
   "source": [
    "# 通过评分卡规则 将特征值value转换为分数 \n",
    "def map_value_to_score(value, feature_bin):\n",
    "    # Binning列为interval类型数据，支持成员操作符 in，value若在该区间内，则返回True\n",
    "    mask = feature_bin['Binning'].apply(lambda x: value in x)\n",
    "    # 通过\n",
    "    score = feature_bin['Score'].values[mask][0]\n",
    "    return score\n",
    "\n",
    "\n",
    "# 使用评分卡模型计算分数\n",
    "def calculate_score_with_card(sample_dataset, choose_feats, score_card, base_score):\n",
    "    score_dataset = score_card.set_index('Variable')\n",
    "    sample_dataset['score'] = 0\n",
    "    for f in choose_feats:\n",
    "        # 获得f特征对应的评分卡dataset\n",
    "        feature_bin = score_dataset.loc[f]\n",
    "        # 计算score\n",
    "        sample_dataset['score'] += sample_dataset[f].apply(map_value_to_score, args=(feature_bin, ))\n",
    "    # 加上基准分\n",
    "    sample_dataset['score'] += base_score\n",
    "    return sample_dataset\n",
    "   "
   ]
  },
  {
   "cell_type": "code",
   "execution_count": 75,
   "metadata": {
    "ExecuteTime": {
     "end_time": "2020-12-17T18:14:30.422758Z",
     "start_time": "2020-12-17T18:14:30.358638Z"
    }
   },
   "outputs": [
    {
     "data": {
      "text/html": [
       "<div>\n",
       "<style scoped>\n",
       "    .dataframe tbody tr th:only-of-type {\n",
       "        vertical-align: middle;\n",
       "    }\n",
       "\n",
       "    .dataframe tbody tr th {\n",
       "        vertical-align: top;\n",
       "    }\n",
       "\n",
       "    .dataframe thead th {\n",
       "        text-align: right;\n",
       "    }\n",
       "</style>\n",
       "<table border=\"1\" class=\"dataframe\">\n",
       "  <thead>\n",
       "    <tr style=\"text-align: right;\">\n",
       "      <th></th>\n",
       "      <th>RevolvingUtilizationOfUnsecuredLines</th>\n",
       "      <th>age</th>\n",
       "      <th>NumberOfTime30-59DaysPastDueNotWorse</th>\n",
       "      <th>NumberOfOpenCreditLinesAndLoans</th>\n",
       "      <th>NumberOfTimes90DaysLate</th>\n",
       "      <th>NumberOfTime60-89DaysPastDueNotWorse</th>\n",
       "      <th>score</th>\n",
       "    </tr>\n",
       "  </thead>\n",
       "  <tbody>\n",
       "    <tr>\n",
       "      <th>56626</th>\n",
       "      <td>0.261375</td>\n",
       "      <td>55</td>\n",
       "      <td>0</td>\n",
       "      <td>13</td>\n",
       "      <td>0</td>\n",
       "      <td>0</td>\n",
       "      <td>922</td>\n",
       "    </tr>\n",
       "    <tr>\n",
       "      <th>127359</th>\n",
       "      <td>0.137621</td>\n",
       "      <td>22</td>\n",
       "      <td>0</td>\n",
       "      <td>2</td>\n",
       "      <td>0</td>\n",
       "      <td>0</td>\n",
       "      <td>902</td>\n",
       "    </tr>\n",
       "    <tr>\n",
       "      <th>10254</th>\n",
       "      <td>0.031853</td>\n",
       "      <td>69</td>\n",
       "      <td>1</td>\n",
       "      <td>9</td>\n",
       "      <td>0</td>\n",
       "      <td>0</td>\n",
       "      <td>914</td>\n",
       "    </tr>\n",
       "    <tr>\n",
       "      <th>123522</th>\n",
       "      <td>0.633829</td>\n",
       "      <td>41</td>\n",
       "      <td>0</td>\n",
       "      <td>19</td>\n",
       "      <td>0</td>\n",
       "      <td>1</td>\n",
       "      <td>812</td>\n",
       "    </tr>\n",
       "    <tr>\n",
       "      <th>76427</th>\n",
       "      <td>0.775872</td>\n",
       "      <td>42</td>\n",
       "      <td>0</td>\n",
       "      <td>8</td>\n",
       "      <td>0</td>\n",
       "      <td>0</td>\n",
       "      <td>814</td>\n",
       "    </tr>\n",
       "  </tbody>\n",
       "</table>\n",
       "</div>"
      ],
      "text/plain": [
       "        RevolvingUtilizationOfUnsecuredLines  age  \\\n",
       "56626                               0.261375   55   \n",
       "127359                              0.137621   22   \n",
       "10254                               0.031853   69   \n",
       "123522                              0.633829   41   \n",
       "76427                               0.775872   42   \n",
       "\n",
       "        NumberOfTime30-59DaysPastDueNotWorse  NumberOfOpenCreditLinesAndLoans  \\\n",
       "56626                                      0                               13   \n",
       "127359                                     0                                2   \n",
       "10254                                      1                                9   \n",
       "123522                                     0                               19   \n",
       "76427                                      0                                8   \n",
       "\n",
       "        NumberOfTimes90DaysLate  NumberOfTime60-89DaysPastDueNotWorse  score  \n",
       "56626                         0                                     0    922  \n",
       "127359                        0                                     0    902  \n",
       "10254                         0                                     0    914  \n",
       "123522                        0                                     1    812  \n",
       "76427                         0                                     0    814  "
      ]
     },
     "execution_count": 75,
     "metadata": {},
     "output_type": "execute_result"
    }
   ],
   "source": [
    "# 随机选择5个没有违约的客户查看评分\n",
    "good_sample = dataset[dataset['SeriousDlqin2yrs'] == 0].sample(5)\n",
    "good_sample = good_sample[[f for f in choose_feats]]\n",
    "\n",
    "calculate_score_with_card(good_sample, choose_feats, score_card, base_score)"
   ]
  },
  {
   "cell_type": "code",
   "execution_count": 76,
   "metadata": {
    "ExecuteTime": {
     "end_time": "2020-12-17T18:14:30.459783Z",
     "start_time": "2020-12-17T18:14:30.426735Z"
    }
   },
   "outputs": [
    {
     "data": {
      "text/html": [
       "<div>\n",
       "<style scoped>\n",
       "    .dataframe tbody tr th:only-of-type {\n",
       "        vertical-align: middle;\n",
       "    }\n",
       "\n",
       "    .dataframe tbody tr th {\n",
       "        vertical-align: top;\n",
       "    }\n",
       "\n",
       "    .dataframe thead th {\n",
       "        text-align: right;\n",
       "    }\n",
       "</style>\n",
       "<table border=\"1\" class=\"dataframe\">\n",
       "  <thead>\n",
       "    <tr style=\"text-align: right;\">\n",
       "      <th></th>\n",
       "      <th>RevolvingUtilizationOfUnsecuredLines</th>\n",
       "      <th>age</th>\n",
       "      <th>NumberOfTime30-59DaysPastDueNotWorse</th>\n",
       "      <th>NumberOfOpenCreditLinesAndLoans</th>\n",
       "      <th>NumberOfTimes90DaysLate</th>\n",
       "      <th>NumberOfTime60-89DaysPastDueNotWorse</th>\n",
       "      <th>score</th>\n",
       "    </tr>\n",
       "  </thead>\n",
       "  <tbody>\n",
       "    <tr>\n",
       "      <th>22555</th>\n",
       "      <td>1.067231</td>\n",
       "      <td>33</td>\n",
       "      <td>1</td>\n",
       "      <td>18</td>\n",
       "      <td>3</td>\n",
       "      <td>5</td>\n",
       "      <td>532</td>\n",
       "    </tr>\n",
       "    <tr>\n",
       "      <th>86791</th>\n",
       "      <td>0.701350</td>\n",
       "      <td>48</td>\n",
       "      <td>2</td>\n",
       "      <td>14</td>\n",
       "      <td>0</td>\n",
       "      <td>0</td>\n",
       "      <td>734</td>\n",
       "    </tr>\n",
       "    <tr>\n",
       "      <th>59257</th>\n",
       "      <td>1.202247</td>\n",
       "      <td>48</td>\n",
       "      <td>3</td>\n",
       "      <td>9</td>\n",
       "      <td>0</td>\n",
       "      <td>1</td>\n",
       "      <td>660</td>\n",
       "    </tr>\n",
       "    <tr>\n",
       "      <th>48437</th>\n",
       "      <td>0.939146</td>\n",
       "      <td>48</td>\n",
       "      <td>0</td>\n",
       "      <td>3</td>\n",
       "      <td>1</td>\n",
       "      <td>0</td>\n",
       "      <td>725</td>\n",
       "    </tr>\n",
       "    <tr>\n",
       "      <th>15957</th>\n",
       "      <td>0.163985</td>\n",
       "      <td>34</td>\n",
       "      <td>2</td>\n",
       "      <td>9</td>\n",
       "      <td>0</td>\n",
       "      <td>0</td>\n",
       "      <td>825</td>\n",
       "    </tr>\n",
       "  </tbody>\n",
       "</table>\n",
       "</div>"
      ],
      "text/plain": [
       "       RevolvingUtilizationOfUnsecuredLines  age  \\\n",
       "22555                              1.067231   33   \n",
       "86791                              0.701350   48   \n",
       "59257                              1.202247   48   \n",
       "48437                              0.939146   48   \n",
       "15957                              0.163985   34   \n",
       "\n",
       "       NumberOfTime30-59DaysPastDueNotWorse  NumberOfOpenCreditLinesAndLoans  \\\n",
       "22555                                     1                               18   \n",
       "86791                                     2                               14   \n",
       "59257                                     3                                9   \n",
       "48437                                     0                                3   \n",
       "15957                                     2                                9   \n",
       "\n",
       "       NumberOfTimes90DaysLate  NumberOfTime60-89DaysPastDueNotWorse  score  \n",
       "22555                        3                                     5    532  \n",
       "86791                        0                                     0    734  \n",
       "59257                        0                                     1    660  \n",
       "48437                        1                                     0    725  \n",
       "15957                        0                                     0    825  "
      ]
     },
     "execution_count": 76,
     "metadata": {},
     "output_type": "execute_result"
    }
   ],
   "source": [
    "# 随机选择5个违约客户\n",
    "bad_sample = dataset[dataset['SeriousDlqin2yrs'] == 1].sample(5)\n",
    "bad_sample = bad_sample[[f for f in choose_feats]]\n",
    "\n",
    "calculate_score_with_card(bad_sample, choose_feats, score_card, base_score)"
   ]
  },
  {
   "cell_type": "code",
   "execution_count": 77,
   "metadata": {
    "ExecuteTime": {
     "end_time": "2020-12-17T18:14:30.479108Z",
     "start_time": "2020-12-17T18:14:30.462168Z"
    }
   },
   "outputs": [
    {
     "name": "stdout",
     "output_type": "stream",
     "text": [
      "模型中使用了6个特征，该模型基准分: 837:\n",
      "6个特征的变量范围对应得分如下：\n"
     ]
    },
    {
     "data": {
      "text/html": [
       "<div>\n",
       "<style scoped>\n",
       "    .dataframe tbody tr th:only-of-type {\n",
       "        vertical-align: middle;\n",
       "    }\n",
       "\n",
       "    .dataframe tbody tr th {\n",
       "        vertical-align: top;\n",
       "    }\n",
       "\n",
       "    .dataframe thead th {\n",
       "        text-align: right;\n",
       "    }\n",
       "</style>\n",
       "<table border=\"1\" class=\"dataframe\">\n",
       "  <thead>\n",
       "    <tr style=\"text-align: right;\">\n",
       "      <th></th>\n",
       "      <th>变量名称</th>\n",
       "      <th>变量范围</th>\n",
       "      <th>得分</th>\n",
       "    </tr>\n",
       "  </thead>\n",
       "  <tbody>\n",
       "    <tr>\n",
       "      <th>0</th>\n",
       "      <td>NumberOfOpenCreditLinesAndLoans</td>\n",
       "      <td>(-inf, 0.0]</td>\n",
       "      <td>10</td>\n",
       "    </tr>\n",
       "    <tr>\n",
       "      <th>1</th>\n",
       "      <td>NumberOfOpenCreditLinesAndLoans</td>\n",
       "      <td>(0.0, 1.0]</td>\n",
       "      <td>5</td>\n",
       "    </tr>\n",
       "    <tr>\n",
       "      <th>2</th>\n",
       "      <td>NumberOfOpenCreditLinesAndLoans</td>\n",
       "      <td>(1.0, 2.0]</td>\n",
       "      <td>2</td>\n",
       "    </tr>\n",
       "    <tr>\n",
       "      <th>3</th>\n",
       "      <td>NumberOfOpenCreditLinesAndLoans</td>\n",
       "      <td>(2.0, 3.0]</td>\n",
       "      <td>1</td>\n",
       "    </tr>\n",
       "    <tr>\n",
       "      <th>4</th>\n",
       "      <td>NumberOfOpenCreditLinesAndLoans</td>\n",
       "      <td>(3.0, inf]</td>\n",
       "      <td>-1</td>\n",
       "    </tr>\n",
       "    <tr>\n",
       "      <th>5</th>\n",
       "      <td>NumberOfTime30-59DaysPastDueNotWorse</td>\n",
       "      <td>(-inf, 0.0]</td>\n",
       "      <td>20</td>\n",
       "    </tr>\n",
       "    <tr>\n",
       "      <th>6</th>\n",
       "      <td>NumberOfTime30-59DaysPastDueNotWorse</td>\n",
       "      <td>(0.0, 1.0]</td>\n",
       "      <td>-34</td>\n",
       "    </tr>\n",
       "    <tr>\n",
       "      <th>7</th>\n",
       "      <td>NumberOfTime30-59DaysPastDueNotWorse</td>\n",
       "      <td>(1.0, 2.0]</td>\n",
       "      <td>-60</td>\n",
       "    </tr>\n",
       "    <tr>\n",
       "      <th>8</th>\n",
       "      <td>NumberOfTime30-59DaysPastDueNotWorse</td>\n",
       "      <td>(7.0, 8.0]</td>\n",
       "      <td>-70</td>\n",
       "    </tr>\n",
       "    <tr>\n",
       "      <th>9</th>\n",
       "      <td>NumberOfTime30-59DaysPastDueNotWorse</td>\n",
       "      <td>(2.0, 3.0]</td>\n",
       "      <td>-76</td>\n",
       "    </tr>\n",
       "    <tr>\n",
       "      <th>10</th>\n",
       "      <td>NumberOfTime30-59DaysPastDueNotWorse</td>\n",
       "      <td>(3.0, 4.0]</td>\n",
       "      <td>-87</td>\n",
       "    </tr>\n",
       "    <tr>\n",
       "      <th>11</th>\n",
       "      <td>NumberOfTime30-59DaysPastDueNotWorse</td>\n",
       "      <td>(4.0, 5.0]</td>\n",
       "      <td>-91</td>\n",
       "    </tr>\n",
       "    <tr>\n",
       "      <th>12</th>\n",
       "      <td>NumberOfTime30-59DaysPastDueNotWorse</td>\n",
       "      <td>(6.0, 7.0]</td>\n",
       "      <td>-101</td>\n",
       "    </tr>\n",
       "    <tr>\n",
       "      <th>13</th>\n",
       "      <td>NumberOfTime30-59DaysPastDueNotWorse</td>\n",
       "      <td>(5.0, 6.0]</td>\n",
       "      <td>-103</td>\n",
       "    </tr>\n",
       "    <tr>\n",
       "      <th>14</th>\n",
       "      <td>NumberOfTime30-59DaysPastDueNotWorse</td>\n",
       "      <td>(8.0, inf]</td>\n",
       "      <td>-105</td>\n",
       "    </tr>\n",
       "    <tr>\n",
       "      <th>15</th>\n",
       "      <td>NumberOfTime60-89DaysPastDueNotWorse</td>\n",
       "      <td>(-inf, 0.0]</td>\n",
       "      <td>8</td>\n",
       "    </tr>\n",
       "    <tr>\n",
       "      <th>16</th>\n",
       "      <td>NumberOfTime60-89DaysPastDueNotWorse</td>\n",
       "      <td>(0.0, 1.0]</td>\n",
       "      <td>-50</td>\n",
       "    </tr>\n",
       "    <tr>\n",
       "      <th>17</th>\n",
       "      <td>NumberOfTime60-89DaysPastDueNotWorse</td>\n",
       "      <td>(1.0, 2.0]</td>\n",
       "      <td>-71</td>\n",
       "    </tr>\n",
       "    <tr>\n",
       "      <th>18</th>\n",
       "      <td>NumberOfTime60-89DaysPastDueNotWorse</td>\n",
       "      <td>(96.0, inf]</td>\n",
       "      <td>-76</td>\n",
       "    </tr>\n",
       "    <tr>\n",
       "      <th>19</th>\n",
       "      <td>NumberOfTime60-89DaysPastDueNotWorse</td>\n",
       "      <td>(6.0, 7.0]</td>\n",
       "      <td>-77</td>\n",
       "    </tr>\n",
       "    <tr>\n",
       "      <th>20</th>\n",
       "      <td>NumberOfTime60-89DaysPastDueNotWorse</td>\n",
       "      <td>(2.0, 3.0]</td>\n",
       "      <td>-78</td>\n",
       "    </tr>\n",
       "    <tr>\n",
       "      <th>21</th>\n",
       "      <td>NumberOfTime60-89DaysPastDueNotWorse</td>\n",
       "      <td>(4.0, 5.0]</td>\n",
       "      <td>-84</td>\n",
       "    </tr>\n",
       "    <tr>\n",
       "      <th>22</th>\n",
       "      <td>NumberOfTime60-89DaysPastDueNotWorse</td>\n",
       "      <td>(3.0, 4.0]</td>\n",
       "      <td>-84</td>\n",
       "    </tr>\n",
       "    <tr>\n",
       "      <th>23</th>\n",
       "      <td>NumberOfTime60-89DaysPastDueNotWorse</td>\n",
       "      <td>(7.0, 96.0]</td>\n",
       "      <td>-90</td>\n",
       "    </tr>\n",
       "    <tr>\n",
       "      <th>24</th>\n",
       "      <td>NumberOfTime60-89DaysPastDueNotWorse</td>\n",
       "      <td>(5.0, 6.0]</td>\n",
       "      <td>-101</td>\n",
       "    </tr>\n",
       "    <tr>\n",
       "      <th>25</th>\n",
       "      <td>NumberOfTimes90DaysLate</td>\n",
       "      <td>(-inf, 0.0]</td>\n",
       "      <td>15</td>\n",
       "    </tr>\n",
       "    <tr>\n",
       "      <th>26</th>\n",
       "      <td>NumberOfTimes90DaysLate</td>\n",
       "      <td>(0.0, 1.0]</td>\n",
       "      <td>-76</td>\n",
       "    </tr>\n",
       "    <tr>\n",
       "      <th>27</th>\n",
       "      <td>NumberOfTimes90DaysLate</td>\n",
       "      <td>(1.0, 2.0]</td>\n",
       "      <td>-102</td>\n",
       "    </tr>\n",
       "    <tr>\n",
       "      <th>28</th>\n",
       "      <td>NumberOfTimes90DaysLate</td>\n",
       "      <td>(20.0, inf]</td>\n",
       "      <td>-109</td>\n",
       "    </tr>\n",
       "    <tr>\n",
       "      <th>29</th>\n",
       "      <td>NumberOfTimes90DaysLate</td>\n",
       "      <td>(2.0, 3.0]</td>\n",
       "      <td>-114</td>\n",
       "    </tr>\n",
       "    <tr>\n",
       "      <th>30</th>\n",
       "      <td>NumberOfTimes90DaysLate</td>\n",
       "      <td>(5.0, 6.0]</td>\n",
       "      <td>-118</td>\n",
       "    </tr>\n",
       "    <tr>\n",
       "      <th>31</th>\n",
       "      <td>NumberOfTimes90DaysLate</td>\n",
       "      <td>(8.0, 20.0]</td>\n",
       "      <td>-122</td>\n",
       "    </tr>\n",
       "    <tr>\n",
       "      <th>32</th>\n",
       "      <td>NumberOfTimes90DaysLate</td>\n",
       "      <td>(4.0, 5.0]</td>\n",
       "      <td>-123</td>\n",
       "    </tr>\n",
       "    <tr>\n",
       "      <th>33</th>\n",
       "      <td>NumberOfTimes90DaysLate</td>\n",
       "      <td>(3.0, 4.0]</td>\n",
       "      <td>-129</td>\n",
       "    </tr>\n",
       "    <tr>\n",
       "      <th>34</th>\n",
       "      <td>NumberOfTimes90DaysLate</td>\n",
       "      <td>(6.0, 8.0]</td>\n",
       "      <td>-151</td>\n",
       "    </tr>\n",
       "    <tr>\n",
       "      <th>35</th>\n",
       "      <td>RevolvingUtilizationOfUnsecuredLines</td>\n",
       "      <td>(0.0192, 0.0832]</td>\n",
       "      <td>67</td>\n",
       "    </tr>\n",
       "    <tr>\n",
       "      <th>36</th>\n",
       "      <td>RevolvingUtilizationOfUnsecuredLines</td>\n",
       "      <td>(-0.001, 0.0192]</td>\n",
       "      <td>60</td>\n",
       "    </tr>\n",
       "    <tr>\n",
       "      <th>37</th>\n",
       "      <td>RevolvingUtilizationOfUnsecuredLines</td>\n",
       "      <td>(0.0832, 0.271]</td>\n",
       "      <td>40</td>\n",
       "    </tr>\n",
       "    <tr>\n",
       "      <th>38</th>\n",
       "      <td>RevolvingUtilizationOfUnsecuredLines</td>\n",
       "      <td>(0.271, 0.699]</td>\n",
       "      <td>-2</td>\n",
       "    </tr>\n",
       "    <tr>\n",
       "      <th>39</th>\n",
       "      <td>RevolvingUtilizationOfUnsecuredLines</td>\n",
       "      <td>(0.699, 50708.0]</td>\n",
       "      <td>-58</td>\n",
       "    </tr>\n",
       "    <tr>\n",
       "      <th>40</th>\n",
       "      <td>age</td>\n",
       "      <td>(70.0, inf]</td>\n",
       "      <td>37</td>\n",
       "    </tr>\n",
       "    <tr>\n",
       "      <th>41</th>\n",
       "      <td>age</td>\n",
       "      <td>(60.0, 70.0]</td>\n",
       "      <td>22</td>\n",
       "    </tr>\n",
       "    <tr>\n",
       "      <th>42</th>\n",
       "      <td>age</td>\n",
       "      <td>(50.0, 60.0]</td>\n",
       "      <td>3</td>\n",
       "    </tr>\n",
       "    <tr>\n",
       "      <th>43</th>\n",
       "      <td>age</td>\n",
       "      <td>(40.0, 50.0]</td>\n",
       "      <td>-7</td>\n",
       "    </tr>\n",
       "    <tr>\n",
       "      <th>44</th>\n",
       "      <td>age</td>\n",
       "      <td>(30.0, 40.0]</td>\n",
       "      <td>-14</td>\n",
       "    </tr>\n",
       "    <tr>\n",
       "      <th>45</th>\n",
       "      <td>age</td>\n",
       "      <td>(-inf, 30.0]</td>\n",
       "      <td>-20</td>\n",
       "    </tr>\n",
       "  </tbody>\n",
       "</table>\n",
       "</div>"
      ],
      "text/plain": [
       "                                    变量名称              变量范围   得分\n",
       "0        NumberOfOpenCreditLinesAndLoans       (-inf, 0.0]   10\n",
       "1        NumberOfOpenCreditLinesAndLoans        (0.0, 1.0]    5\n",
       "2        NumberOfOpenCreditLinesAndLoans        (1.0, 2.0]    2\n",
       "3        NumberOfOpenCreditLinesAndLoans        (2.0, 3.0]    1\n",
       "4        NumberOfOpenCreditLinesAndLoans        (3.0, inf]   -1\n",
       "5   NumberOfTime30-59DaysPastDueNotWorse       (-inf, 0.0]   20\n",
       "6   NumberOfTime30-59DaysPastDueNotWorse        (0.0, 1.0]  -34\n",
       "7   NumberOfTime30-59DaysPastDueNotWorse        (1.0, 2.0]  -60\n",
       "8   NumberOfTime30-59DaysPastDueNotWorse        (7.0, 8.0]  -70\n",
       "9   NumberOfTime30-59DaysPastDueNotWorse        (2.0, 3.0]  -76\n",
       "10  NumberOfTime30-59DaysPastDueNotWorse        (3.0, 4.0]  -87\n",
       "11  NumberOfTime30-59DaysPastDueNotWorse        (4.0, 5.0]  -91\n",
       "12  NumberOfTime30-59DaysPastDueNotWorse        (6.0, 7.0] -101\n",
       "13  NumberOfTime30-59DaysPastDueNotWorse        (5.0, 6.0] -103\n",
       "14  NumberOfTime30-59DaysPastDueNotWorse        (8.0, inf] -105\n",
       "15  NumberOfTime60-89DaysPastDueNotWorse       (-inf, 0.0]    8\n",
       "16  NumberOfTime60-89DaysPastDueNotWorse        (0.0, 1.0]  -50\n",
       "17  NumberOfTime60-89DaysPastDueNotWorse        (1.0, 2.0]  -71\n",
       "18  NumberOfTime60-89DaysPastDueNotWorse       (96.0, inf]  -76\n",
       "19  NumberOfTime60-89DaysPastDueNotWorse        (6.0, 7.0]  -77\n",
       "20  NumberOfTime60-89DaysPastDueNotWorse        (2.0, 3.0]  -78\n",
       "21  NumberOfTime60-89DaysPastDueNotWorse        (4.0, 5.0]  -84\n",
       "22  NumberOfTime60-89DaysPastDueNotWorse        (3.0, 4.0]  -84\n",
       "23  NumberOfTime60-89DaysPastDueNotWorse       (7.0, 96.0]  -90\n",
       "24  NumberOfTime60-89DaysPastDueNotWorse        (5.0, 6.0] -101\n",
       "25               NumberOfTimes90DaysLate       (-inf, 0.0]   15\n",
       "26               NumberOfTimes90DaysLate        (0.0, 1.0]  -76\n",
       "27               NumberOfTimes90DaysLate        (1.0, 2.0] -102\n",
       "28               NumberOfTimes90DaysLate       (20.0, inf] -109\n",
       "29               NumberOfTimes90DaysLate        (2.0, 3.0] -114\n",
       "30               NumberOfTimes90DaysLate        (5.0, 6.0] -118\n",
       "31               NumberOfTimes90DaysLate       (8.0, 20.0] -122\n",
       "32               NumberOfTimes90DaysLate        (4.0, 5.0] -123\n",
       "33               NumberOfTimes90DaysLate        (3.0, 4.0] -129\n",
       "34               NumberOfTimes90DaysLate        (6.0, 8.0] -151\n",
       "35  RevolvingUtilizationOfUnsecuredLines  (0.0192, 0.0832]   67\n",
       "36  RevolvingUtilizationOfUnsecuredLines  (-0.001, 0.0192]   60\n",
       "37  RevolvingUtilizationOfUnsecuredLines   (0.0832, 0.271]   40\n",
       "38  RevolvingUtilizationOfUnsecuredLines    (0.271, 0.699]   -2\n",
       "39  RevolvingUtilizationOfUnsecuredLines  (0.699, 50708.0]  -58\n",
       "40                                   age       (70.0, inf]   37\n",
       "41                                   age      (60.0, 70.0]   22\n",
       "42                                   age      (50.0, 60.0]    3\n",
       "43                                   age      (40.0, 50.0]   -7\n",
       "44                                   age      (30.0, 40.0]  -14\n",
       "45                                   age      (-inf, 30.0]  -20"
      ]
     },
     "execution_count": 77,
     "metadata": {},
     "output_type": "execute_result"
    }
   ],
   "source": [
    "print(f\"模型中使用了{len(choose_feats)}个特征，该模型基准分: {base_score}:\")\n",
    "print(\"6个特征的变量范围对应得分如下：\")\n",
    "score_card.columns = ['变量名称', '变量范围', '得分']\n",
    "score_card"
   ]
  }
 ],
 "metadata": {
  "kernelspec": {
   "display_name": "Python 3",
   "language": "python",
   "name": "python3"
  },
  "language_info": {
   "codemirror_mode": {
    "name": "ipython",
    "version": 3
   },
   "file_extension": ".py",
   "mimetype": "text/x-python",
   "name": "python",
   "nbconvert_exporter": "python",
   "pygments_lexer": "ipython3",
   "version": "3.7.4"
  },
  "nbTranslate": {
   "displayLangs": [
    "*"
   ],
   "hotkey": "alt-t",
   "langInMainMenu": true,
   "sourceLang": "en",
   "targetLang": "fr",
   "useGoogleTranslate": true
  },
  "toc": {
   "base_numbering": 1,
   "nav_menu": {},
   "number_sections": false,
   "sideBar": true,
   "skip_h1_title": false,
   "title_cell": "Table of Contents",
   "title_sidebar": "Contents",
   "toc_cell": true,
   "toc_position": {
    "height": "calc(100% - 180px)",
    "left": "10px",
    "top": "150px",
    "width": "383.807px"
   },
   "toc_section_display": true,
   "toc_window_display": true
  },
  "varInspector": {
   "cols": {
    "lenName": 16,
    "lenType": 16,
    "lenVar": 40
   },
   "kernels_config": {
    "python": {
     "delete_cmd_postfix": "",
     "delete_cmd_prefix": "del ",
     "library": "var_list.py",
     "varRefreshCmd": "print(var_dic_list())"
    },
    "r": {
     "delete_cmd_postfix": ") ",
     "delete_cmd_prefix": "rm(",
     "library": "var_list.r",
     "varRefreshCmd": "cat(var_dic_list()) "
    }
   },
   "types_to_exclude": [
    "module",
    "function",
    "builtin_function_or_method",
    "instance",
    "_Feature"
   ],
   "window_display": false
  }
 },
 "nbformat": 4,
 "nbformat_minor": 4
}
